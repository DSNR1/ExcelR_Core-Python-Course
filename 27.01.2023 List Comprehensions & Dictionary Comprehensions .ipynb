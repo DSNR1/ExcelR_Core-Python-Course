{
 "cells": [
  {
   "cell_type": "markdown",
   "id": "d3cbc32f",
   "metadata": {},
   "source": [
    "# Args and Kwargs\n",
    "- args"
   ]
  },
  {
   "cell_type": "code",
   "execution_count": 3,
   "id": "7984757f",
   "metadata": {},
   "outputs": [],
   "source": [
    "def sumofnumbers(x,y):\n",
    "    return x + y"
   ]
  },
  {
   "cell_type": "code",
   "execution_count": 4,
   "id": "8b4fa47d",
   "metadata": {},
   "outputs": [
    {
     "data": {
      "text/plain": [
       "5"
      ]
     },
     "execution_count": 4,
     "metadata": {},
     "output_type": "execute_result"
    }
   ],
   "source": [
    "sumofnumbers (2,3)"
   ]
  },
  {
   "cell_type": "code",
   "execution_count": 5,
   "id": "9ac66bc2",
   "metadata": {},
   "outputs": [],
   "source": [
    "def sumofnumsusingargs(*args):\n",
    "    print(\"Args:\", args)\n",
    "    print(\"Type of Args: \", type(args))"
   ]
  },
  {
   "cell_type": "code",
   "execution_count": 6,
   "id": "8e7c6418",
   "metadata": {},
   "outputs": [
    {
     "name": "stdout",
     "output_type": "stream",
     "text": [
      "Args: (2, 3)\n",
      "Type of Args:  <class 'tuple'>\n"
     ]
    }
   ],
   "source": [
    "sumofnumsusingargs(2,3)"
   ]
  },
  {
   "cell_type": "code",
   "execution_count": 7,
   "id": "07068287",
   "metadata": {},
   "outputs": [
    {
     "name": "stdout",
     "output_type": "stream",
     "text": [
      "Args: (2, 3, 4, 5, 6, 7, 7)\n",
      "Type of Args:  <class 'tuple'>\n"
     ]
    }
   ],
   "source": [
    "sumofnumsusingargs(2,3,4,5,6,7,7)"
   ]
  },
  {
   "cell_type": "code",
   "execution_count": 8,
   "id": "a3c11d8d",
   "metadata": {},
   "outputs": [
    {
     "data": {
      "text/plain": [
       "6"
      ]
     },
     "execution_count": 8,
     "metadata": {},
     "output_type": "execute_result"
    }
   ],
   "source": [
    "sum((1,2,3))"
   ]
  },
  {
   "cell_type": "code",
   "execution_count": 9,
   "id": "7927f69d",
   "metadata": {},
   "outputs": [],
   "source": [
    "def sumofnumsusingargs(*args):\n",
    "    print(\"Args:\", args)\n",
    "    print(\"Type of Args: \", type(args))\n",
    "    return(sum(args))"
   ]
  },
  {
   "cell_type": "code",
   "execution_count": 10,
   "id": "5a33968d",
   "metadata": {},
   "outputs": [
    {
     "name": "stdout",
     "output_type": "stream",
     "text": [
      "Args: (1, 2, 3, 4, 5, 6, 7)\n",
      "Type of Args:  <class 'tuple'>\n"
     ]
    },
    {
     "data": {
      "text/plain": [
       "28"
      ]
     },
     "execution_count": 10,
     "metadata": {},
     "output_type": "execute_result"
    }
   ],
   "source": [
    "sumofnumsusingargs(1,2,3,4,5,6,7)"
   ]
  },
  {
   "cell_type": "code",
   "execution_count": 11,
   "id": "df5c0fdd",
   "metadata": {},
   "outputs": [],
   "source": [
    "def sumofnumsusingargs(*args): ## Reciever side\n",
    "    print(\"Args:\", args)\n",
    "    print(\"Type of Args: \", type(args))\n",
    "    result = 0\n",
    "    for i in args:\n",
    "        result += i\n",
    "    print(\"result :\", result)"
   ]
  },
  {
   "cell_type": "code",
   "execution_count": 12,
   "id": "cfc84803",
   "metadata": {},
   "outputs": [
    {
     "name": "stdout",
     "output_type": "stream",
     "text": [
      "Args: (1, 2, 3, 4, 5)\n",
      "Type of Args:  <class 'tuple'>\n",
      "result : 15\n"
     ]
    }
   ],
   "source": [
    "sumofnumsusingargs(1,2,3,4,5)"
   ]
  },
  {
   "cell_type": "code",
   "execution_count": 13,
   "id": "bf93c93d",
   "metadata": {},
   "outputs": [],
   "source": [
    "t = (10,20,30,40,50)"
   ]
  },
  {
   "cell_type": "code",
   "execution_count": 14,
   "id": "30518239",
   "metadata": {},
   "outputs": [
    {
     "name": "stdout",
     "output_type": "stream",
     "text": [
      "Args: ((10, 20, 30, 40, 50),)\n",
      "Type of Args:  <class 'tuple'>\n"
     ]
    },
    {
     "ename": "TypeError",
     "evalue": "unsupported operand type(s) for +=: 'int' and 'tuple'",
     "output_type": "error",
     "traceback": [
      "\u001b[1;31m---------------------------------------------------------------------------\u001b[0m",
      "\u001b[1;31mTypeError\u001b[0m                                 Traceback (most recent call last)",
      "\u001b[1;32m~\\AppData\\Local\\Temp\\ipykernel_14836\\3069969404.py\u001b[0m in \u001b[0;36m<module>\u001b[1;34m\u001b[0m\n\u001b[1;32m----> 1\u001b[1;33m \u001b[0msumofnumsusingargs\u001b[0m\u001b[1;33m(\u001b[0m\u001b[0mt\u001b[0m\u001b[1;33m)\u001b[0m\u001b[1;33m\u001b[0m\u001b[1;33m\u001b[0m\u001b[0m\n\u001b[0m",
      "\u001b[1;32m~\\AppData\\Local\\Temp\\ipykernel_14836\\3389423976.py\u001b[0m in \u001b[0;36msumofnumsusingargs\u001b[1;34m(*args)\u001b[0m\n\u001b[0;32m      4\u001b[0m     \u001b[0mresult\u001b[0m \u001b[1;33m=\u001b[0m \u001b[1;36m0\u001b[0m\u001b[1;33m\u001b[0m\u001b[1;33m\u001b[0m\u001b[0m\n\u001b[0;32m      5\u001b[0m     \u001b[1;32mfor\u001b[0m \u001b[0mi\u001b[0m \u001b[1;32min\u001b[0m \u001b[0margs\u001b[0m\u001b[1;33m:\u001b[0m\u001b[1;33m\u001b[0m\u001b[1;33m\u001b[0m\u001b[0m\n\u001b[1;32m----> 6\u001b[1;33m         \u001b[0mresult\u001b[0m \u001b[1;33m+=\u001b[0m \u001b[0mi\u001b[0m\u001b[1;33m\u001b[0m\u001b[1;33m\u001b[0m\u001b[0m\n\u001b[0m\u001b[0;32m      7\u001b[0m     \u001b[0mprint\u001b[0m\u001b[1;33m(\u001b[0m\u001b[1;34m\"result :\"\u001b[0m\u001b[1;33m,\u001b[0m \u001b[0mresult\u001b[0m\u001b[1;33m)\u001b[0m\u001b[1;33m\u001b[0m\u001b[1;33m\u001b[0m\u001b[0m\n",
      "\u001b[1;31mTypeError\u001b[0m: unsupported operand type(s) for +=: 'int' and 'tuple'"
     ]
    }
   ],
   "source": [
    "sumofnumsusingargs(t)"
   ]
  },
  {
   "cell_type": "code",
   "execution_count": 15,
   "id": "41989937",
   "metadata": {},
   "outputs": [
    {
     "name": "stdout",
     "output_type": "stream",
     "text": [
      "Args: (10, 20, 30)\n",
      "Type of Args:  <class 'tuple'>\n",
      "result : 60\n"
     ]
    }
   ],
   "source": [
    "sumofnumsusingargs(t[0],t[1],t[2])"
   ]
  },
  {
   "cell_type": "code",
   "execution_count": 16,
   "id": "995902b1",
   "metadata": {},
   "outputs": [
    {
     "name": "stdout",
     "output_type": "stream",
     "text": [
      "Args: (10, 20, 30, 40, 50)\n",
      "Type of Args:  <class 'tuple'>\n",
      "result : 150\n"
     ]
    }
   ],
   "source": [
    "sumofnumsusingargs(*t)"
   ]
  },
  {
   "cell_type": "code",
   "execution_count": 17,
   "id": "ce96f0df",
   "metadata": {},
   "outputs": [],
   "source": [
    "I = [10,20,30,40,50]    "
   ]
  },
  {
   "cell_type": "code",
   "execution_count": 18,
   "id": "4d78e623",
   "metadata": {},
   "outputs": [
    {
     "name": "stdout",
     "output_type": "stream",
     "text": [
      "Args: (10, 20, 30, 40, 50)\n",
      "Type of Args:  <class 'tuple'>\n",
      "result : 150\n"
     ]
    }
   ],
   "source": [
    "sumofnumsusingargs(*I)"
   ]
  },
  {
   "cell_type": "code",
   "execution_count": 30,
   "id": "b730bbc5",
   "metadata": {},
   "outputs": [],
   "source": [
    "l = [10,20,30,40,50]  "
   ]
  },
  {
   "cell_type": "code",
   "execution_count": 31,
   "id": "e9ef4a4e",
   "metadata": {},
   "outputs": [
    {
     "name": "stdout",
     "output_type": "stream",
     "text": [
      "Args: ([10, 20, 30, 40, 50],)\n",
      "Type of Args:  <class 'tuple'>\n"
     ]
    },
    {
     "ename": "TypeError",
     "evalue": "unsupported operand type(s) for +=: 'int' and 'list'",
     "output_type": "error",
     "traceback": [
      "\u001b[1;31m---------------------------------------------------------------------------\u001b[0m",
      "\u001b[1;31mTypeError\u001b[0m                                 Traceback (most recent call last)",
      "\u001b[1;32m~\\AppData\\Local\\Temp\\ipykernel_14836\\786342759.py\u001b[0m in \u001b[0;36m<module>\u001b[1;34m\u001b[0m\n\u001b[1;32m----> 1\u001b[1;33m \u001b[0msumofnumsusingargs\u001b[0m\u001b[1;33m(\u001b[0m\u001b[0ml\u001b[0m\u001b[1;33m)\u001b[0m\u001b[1;33m\u001b[0m\u001b[1;33m\u001b[0m\u001b[0m\n\u001b[0m",
      "\u001b[1;32m~\\AppData\\Local\\Temp\\ipykernel_14836\\3389423976.py\u001b[0m in \u001b[0;36msumofnumsusingargs\u001b[1;34m(*args)\u001b[0m\n\u001b[0;32m      4\u001b[0m     \u001b[0mresult\u001b[0m \u001b[1;33m=\u001b[0m \u001b[1;36m0\u001b[0m\u001b[1;33m\u001b[0m\u001b[1;33m\u001b[0m\u001b[0m\n\u001b[0;32m      5\u001b[0m     \u001b[1;32mfor\u001b[0m \u001b[0mi\u001b[0m \u001b[1;32min\u001b[0m \u001b[0margs\u001b[0m\u001b[1;33m:\u001b[0m\u001b[1;33m\u001b[0m\u001b[1;33m\u001b[0m\u001b[0m\n\u001b[1;32m----> 6\u001b[1;33m         \u001b[0mresult\u001b[0m \u001b[1;33m+=\u001b[0m \u001b[0mi\u001b[0m\u001b[1;33m\u001b[0m\u001b[1;33m\u001b[0m\u001b[0m\n\u001b[0m\u001b[0;32m      7\u001b[0m     \u001b[0mprint\u001b[0m\u001b[1;33m(\u001b[0m\u001b[1;34m\"result :\"\u001b[0m\u001b[1;33m,\u001b[0m \u001b[0mresult\u001b[0m\u001b[1;33m)\u001b[0m\u001b[1;33m\u001b[0m\u001b[1;33m\u001b[0m\u001b[0m\n",
      "\u001b[1;31mTypeError\u001b[0m: unsupported operand type(s) for +=: 'int' and 'list'"
     ]
    }
   ],
   "source": [
    "sumofnumsusingargs(l)"
   ]
  },
  {
   "cell_type": "code",
   "execution_count": 32,
   "id": "6b8b34eb",
   "metadata": {},
   "outputs": [
    {
     "name": "stdout",
     "output_type": "stream",
     "text": [
      "Args: (10, 20, 30, 40, 50)\n",
      "Type of Args:  <class 'tuple'>\n",
      "result : 150\n"
     ]
    }
   ],
   "source": [
    "sumofnumsusingargs(*l)"
   ]
  },
  {
   "cell_type": "code",
   "execution_count": 34,
   "id": "27a18268",
   "metadata": {},
   "outputs": [],
   "source": [
    "def sumofnumsusingargs(*args):\n",
    "    print(\"Args:\", args)\n",
    "    print(\"Type of Args: \", type(args))"
   ]
  },
  {
   "cell_type": "code",
   "execution_count": 35,
   "id": "e1d55c98",
   "metadata": {},
   "outputs": [
    {
     "name": "stdout",
     "output_type": "stream",
     "text": [
      "Args: (2, 3, 'X', 'Y')\n",
      "Type of Args:  <class 'tuple'>\n"
     ]
    }
   ],
   "source": [
    "sumofnumsusingargs(2,3,\"X\",\"Y\")"
   ]
  },
  {
   "cell_type": "code",
   "execution_count": null,
   "id": "1a0c8f98",
   "metadata": {},
   "outputs": [],
   "source": [
    "# Create a program where user enters a set of numbers and find the sum of all the numbers"
   ]
  },
  {
   "cell_type": "markdown",
   "id": "1628311b",
   "metadata": {},
   "source": [
    "## User Input"
   ]
  },
  {
   "cell_type": "code",
   "execution_count": 36,
   "id": "e2efba22",
   "metadata": {},
   "outputs": [
    {
     "name": "stdout",
     "output_type": "stream",
     "text": [
      "Enter comma separated numbers: 1,2,3,4,5,6\n"
     ]
    }
   ],
   "source": [
    "userInput = input(\"Enter comma separated numbers: \")"
   ]
  },
  {
   "cell_type": "code",
   "execution_count": 37,
   "id": "51e47334",
   "metadata": {},
   "outputs": [
    {
     "name": "stdout",
     "output_type": "stream",
     "text": [
      "1,2,3,4,5,6 <class 'str'>\n"
     ]
    }
   ],
   "source": [
    "print(userInput, type(userInput))"
   ]
  },
  {
   "cell_type": "code",
   "execution_count": 38,
   "id": "9382737d",
   "metadata": {},
   "outputs": [],
   "source": [
    "lst_num = userInput.split(\",\")"
   ]
  },
  {
   "cell_type": "code",
   "execution_count": 39,
   "id": "687632d3",
   "metadata": {},
   "outputs": [
    {
     "data": {
      "text/plain": [
       "['1', '2', '3', '4', '5', '6']"
      ]
     },
     "execution_count": 39,
     "metadata": {},
     "output_type": "execute_result"
    }
   ],
   "source": [
    "lst_num"
   ]
  },
  {
   "cell_type": "code",
   "execution_count": 40,
   "id": "87e4113b",
   "metadata": {},
   "outputs": [
    {
     "name": "stdout",
     "output_type": "stream",
     "text": [
      "<class 'str'>\n",
      "<class 'str'>\n",
      "<class 'str'>\n",
      "<class 'str'>\n",
      "<class 'str'>\n",
      "<class 'str'>\n"
     ]
    }
   ],
   "source": [
    "for i in lst_num:\n",
    "    print(type(i))"
   ]
  },
  {
   "cell_type": "code",
   "execution_count": 41,
   "id": "6a0cf44e",
   "metadata": {},
   "outputs": [],
   "source": [
    "new_list = []\n",
    "for i in lst_num:\n",
    "    new_list.append(int(i))"
   ]
  },
  {
   "cell_type": "code",
   "execution_count": 42,
   "id": "9869d743",
   "metadata": {},
   "outputs": [
    {
     "data": {
      "text/plain": [
       "[1, 2, 3, 4, 5, 6]"
      ]
     },
     "execution_count": 42,
     "metadata": {},
     "output_type": "execute_result"
    }
   ],
   "source": [
    "new_list"
   ]
  },
  {
   "cell_type": "code",
   "execution_count": 46,
   "id": "10415b6c",
   "metadata": {},
   "outputs": [
    {
     "name": "stdout",
     "output_type": "stream",
     "text": [
      "Args: (1, 2, 3, 4, 5, 6)\n",
      "Type of Args:  <class 'tuple'>\n"
     ]
    }
   ],
   "source": [
    "sumofnumsusingargs(*new_list)"
   ]
  },
  {
   "cell_type": "markdown",
   "id": "92691eed",
   "metadata": {},
   "source": [
    " - Kwargs"
   ]
  },
  {
   "cell_type": "code",
   "execution_count": 47,
   "id": "7016326d",
   "metadata": {},
   "outputs": [],
   "source": [
    "def playerdetails(**kwargs):\n",
    "    for k, v in kwargs.items():\n",
    "        print(\"k -> {}, v->, {}\".format(k, v))"
   ]
  },
  {
   "cell_type": "code",
   "execution_count": 48,
   "id": "663418a4",
   "metadata": {},
   "outputs": [
    {
     "name": "stdout",
     "output_type": "stream",
     "text": [
      "k -> name, v->, Virat\n",
      "k -> age, v->, 33\n",
      "k -> team, v->, RCB\n",
      "k -> salary, v->, 1000000\n"
     ]
    }
   ],
   "source": [
    "playerdetails(name = \"Virat\", age = \"33\", team = \"RCB\", salary = 1000000)"
   ]
  },
  {
   "cell_type": "code",
   "execution_count": 50,
   "id": "8080a534",
   "metadata": {},
   "outputs": [],
   "source": [
    "d = {\"name\" : \"Virat\", \"age\" : 33, \"team\" : \"RCB\", \"salary\" : 1000000}"
   ]
  },
  {
   "cell_type": "code",
   "execution_count": 51,
   "id": "b80ec6e4",
   "metadata": {},
   "outputs": [
    {
     "name": "stdout",
     "output_type": "stream",
     "text": [
      "k -> name, v->, Virat\n",
      "k -> age, v->, 33\n",
      "k -> team, v->, RCB\n",
      "k -> salary, v->, 1000000\n"
     ]
    }
   ],
   "source": [
    "playerdetails(**d)"
   ]
  },
  {
   "cell_type": "markdown",
   "id": "e7033844",
   "metadata": {},
   "source": [
    "# COMPREHENSIONS"
   ]
  },
  {
   "cell_type": "markdown",
   "id": "eaa8b652",
   "metadata": {},
   "source": [
    "- List Comprehensions"
   ]
  },
  {
   "cell_type": "code",
   "execution_count": 54,
   "id": "8ce27524",
   "metadata": {},
   "outputs": [
    {
     "name": "stdout",
     "output_type": "stream",
     "text": [
      "[1, 2, 3, 4, 5, 6, 7, 8, 9, 10]\n",
      "[1, 4, 9, 16, 25, 36, 49, 64, 81, 100]\n"
     ]
    }
   ],
   "source": [
    "r = range(1,11)\n",
    "print(list(r))\n",
    "result = []\n",
    "for i in r:\n",
    "    result.append(i * i)\n",
    "print(result)"
   ]
  },
  {
   "cell_type": "code",
   "execution_count": 55,
   "id": "32ac8fc5",
   "metadata": {},
   "outputs": [
    {
     "name": "stdout",
     "output_type": "stream",
     "text": [
      "[1, 4, 9, 16, 25, 36, 49, 64, 81, 100]\n"
     ]
    }
   ],
   "source": [
    "result_list = [item*item for item in range(1,11)]\n",
    "print(result_list)"
   ]
  },
  {
   "cell_type": "code",
   "execution_count": 56,
   "id": "b667f208",
   "metadata": {},
   "outputs": [
    {
     "data": {
      "text/plain": [
       "[1, 4, 9, 16, 25, 36, 49, 64, 81, 100]"
      ]
     },
     "execution_count": 56,
     "metadata": {},
     "output_type": "execute_result"
    }
   ],
   "source": [
    "[i*i for i in range(1,11)]"
   ]
  },
  {
   "cell_type": "markdown",
   "id": "dc1c7874",
   "metadata": {},
   "source": [
    "# Example 1\n",
    "\n",
    "- print all numbers from 1 to 21 which are divisible by 2"
   ]
  },
  {
   "cell_type": "code",
   "execution_count": 57,
   "id": "9c6c6406",
   "metadata": {},
   "outputs": [
    {
     "name": "stdout",
     "output_type": "stream",
     "text": [
      "[2, 4, 6, 8, 10, 12, 14, 16, 18, 20]\n"
     ]
    }
   ],
   "source": [
    "# Traditional\n",
    "evens = []\n",
    "for i in range(1,22):\n",
    "    if i % 2 == 0:\n",
    "        evens.append(i)\n",
    "print(evens)"
   ]
  },
  {
   "cell_type": "code",
   "execution_count": 58,
   "id": "10ff1a0c",
   "metadata": {},
   "outputs": [
    {
     "data": {
      "text/plain": [
       "[2, 4, 6, 8, 10, 12, 14, 16, 18, 20]"
      ]
     },
     "execution_count": 58,
     "metadata": {},
     "output_type": "execute_result"
    }
   ],
   "source": [
    "evens = [i for i in range(1,22) if i%2==0]\n",
    "evens"
   ]
  },
  {
   "cell_type": "code",
   "execution_count": 59,
   "id": "47bae00c",
   "metadata": {},
   "outputs": [],
   "source": [
    "# Write a program to get a list of all characters from a subject which are consonants using LC"
   ]
  },
  {
   "cell_type": "code",
   "execution_count": 60,
   "id": "2d9bf396",
   "metadata": {},
   "outputs": [],
   "source": [
    "input_ = \"MATEHEMATICS\"\n",
    "#output = [\"M\",T,\"H\",\"M\",\"T\",\"C\",\"S\"]"
   ]
  },
  {
   "cell_type": "code",
   "execution_count": 61,
   "id": "e6d7945c",
   "metadata": {},
   "outputs": [
    {
     "name": "stdout",
     "output_type": "stream",
     "text": [
      "['M', 'T', 'H', 'M', 'T', 'C', 'S']\n"
     ]
    }
   ],
   "source": [
    "result = [i for i in input_ if i not in \"AEIOU\"]\n",
    "print(result)"
   ]
  },
  {
   "cell_type": "code",
   "execution_count": 62,
   "id": "ebbdc891",
   "metadata": {},
   "outputs": [
    {
     "name": "stdout",
     "output_type": "stream",
     "text": [
      "M\n",
      "T\n",
      "H\n",
      "M\n",
      "T\n",
      "C\n",
      "S\n"
     ]
    }
   ],
   "source": [
    "for i in input_:\n",
    "    if i not in \"AEIOU\":\n",
    "        print(i)"
   ]
  },
  {
   "cell_type": "code",
   "execution_count": 63,
   "id": "2ec6d596",
   "metadata": {},
   "outputs": [],
   "source": [
    "## websites = [\"amazon\", \"flipkart\", \"snapdeal\"]\n",
    "#output = [\"www.amazon.com\", \"www.flipkart.com\", \"www.snapdeal.com\"]\n",
    "## Strictly through LC"
   ]
  },
  {
   "cell_type": "code",
   "execution_count": 4,
   "id": "ae7a063b",
   "metadata": {},
   "outputs": [],
   "source": [
    "websites = [\"amazon\", \"flipkart\", \"snapdeal\"]"
   ]
  },
  {
   "cell_type": "code",
   "execution_count": 6,
   "id": "0006c754",
   "metadata": {},
   "outputs": [],
   "source": [
    "result =  [\"www.\"+item+\".com\" for item in websites]"
   ]
  },
  {
   "cell_type": "code",
   "execution_count": 7,
   "id": "219a3508",
   "metadata": {},
   "outputs": [
    {
     "data": {
      "text/plain": [
       "['www.amazon.com', 'www.flipkart.com', 'www.snapdeal.com']"
      ]
     },
     "execution_count": 7,
     "metadata": {},
     "output_type": "execute_result"
    }
   ],
   "source": [
    "result"
   ]
  },
  {
   "cell_type": "code",
   "execution_count": 8,
   "id": "0df0c576",
   "metadata": {},
   "outputs": [],
   "source": [
    "s = \"welcome to the world of python programming\"\n",
    "#out = [(\"welcome\", 7),(\"to\",2),(\"the\",3)...]"
   ]
  },
  {
   "cell_type": "code",
   "execution_count": 9,
   "id": "b8a5ddda",
   "metadata": {},
   "outputs": [],
   "source": [
    "# Normal approach\n",
    "result = []\n",
    "for i in s.split():\n",
    "    result.append((i,len(i)))"
   ]
  },
  {
   "cell_type": "code",
   "execution_count": 10,
   "id": "c1611a27",
   "metadata": {},
   "outputs": [
    {
     "data": {
      "text/plain": [
       "[('welcome', 7),\n",
       " ('to', 2),\n",
       " ('the', 3),\n",
       " ('world', 5),\n",
       " ('of', 2),\n",
       " ('python', 6),\n",
       " ('programming', 11)]"
      ]
     },
     "execution_count": 10,
     "metadata": {},
     "output_type": "execute_result"
    }
   ],
   "source": [
    "result"
   ]
  },
  {
   "cell_type": "code",
   "execution_count": 11,
   "id": "520c6bd2",
   "metadata": {},
   "outputs": [],
   "source": [
    "result = [(i, len(i)) for i in s.split()]"
   ]
  },
  {
   "cell_type": "code",
   "execution_count": 12,
   "id": "83559b28",
   "metadata": {},
   "outputs": [
    {
     "data": {
      "text/plain": [
       "[('welcome', 7),\n",
       " ('to', 2),\n",
       " ('the', 3),\n",
       " ('world', 5),\n",
       " ('of', 2),\n",
       " ('python', 6),\n",
       " ('programming', 11)]"
      ]
     },
     "execution_count": 12,
     "metadata": {},
     "output_type": "execute_result"
    }
   ],
   "source": [
    "result"
   ]
  },
  {
   "cell_type": "code",
   "execution_count": 13,
   "id": "b0b7ea66",
   "metadata": {},
   "outputs": [],
   "source": [
    "## Write a program which will find all such numbers which are divisible by 7\n",
    "#but are not multiples of 5, between 200 t0 320 (both included)\n",
    "# The numbers obtained should be printed in comma seperated sequence on a sinfle line\n",
    "# Hint: use range method"
   ]
  },
  {
   "cell_type": "code",
   "execution_count": 14,
   "id": "a65d78ea",
   "metadata": {},
   "outputs": [],
   "source": [
    "# input : sequence of numbers between 200, 320\n",
    "#out: 203, 217, 224 . . . "
   ]
  },
  {
   "cell_type": "code",
   "execution_count": 15,
   "id": "4eafc88e",
   "metadata": {},
   "outputs": [
    {
     "name": "stdout",
     "output_type": "stream",
     "text": [
      "203\n",
      "210\n",
      "217\n",
      "224\n",
      "231\n",
      "238\n",
      "245\n",
      "252\n",
      "259\n",
      "266\n",
      "273\n",
      "280\n",
      "287\n",
      "294\n",
      "301\n",
      "308\n",
      "315\n"
     ]
    }
   ],
   "source": [
    "odd_nums = [print(x) for x in range(200 ,321) if x % 7 == 0]"
   ]
  },
  {
   "cell_type": "code",
   "execution_count": 16,
   "id": "6ec5d386",
   "metadata": {},
   "outputs": [
    {
     "name": "stdout",
     "output_type": "stream",
     "text": [
      "<class 'NoneType'>\n",
      "<class 'NoneType'>\n",
      "<class 'NoneType'>\n",
      "<class 'NoneType'>\n",
      "<class 'NoneType'>\n",
      "<class 'NoneType'>\n",
      "<class 'NoneType'>\n",
      "<class 'NoneType'>\n",
      "<class 'NoneType'>\n",
      "<class 'NoneType'>\n",
      "<class 'NoneType'>\n",
      "<class 'NoneType'>\n",
      "<class 'NoneType'>\n",
      "<class 'NoneType'>\n",
      "<class 'NoneType'>\n",
      "<class 'NoneType'>\n",
      "<class 'NoneType'>\n"
     ]
    }
   ],
   "source": [
    "for i in odd_nums:\n",
    "    print(type(i))"
   ]
  },
  {
   "cell_type": "code",
   "execution_count": 17,
   "id": "d569a352",
   "metadata": {},
   "outputs": [
    {
     "name": "stdout",
     "output_type": "stream",
     "text": [
      "203, 217, 224, 231, 238, 252, 259, 266, 273, 287, 294, 301, 308\n"
     ]
    }
   ],
   "source": [
    "odd_nums = [str(x) for x in range(200 ,321) if x % 7 == 0 and x % 5 != 0]\n",
    "print(\", \".join(odd_nums))"
   ]
  },
  {
   "cell_type": "markdown",
   "id": "5e2301f1",
   "metadata": {},
   "source": [
    "# Dictionary comprehensions"
   ]
  },
  {
   "cell_type": "code",
   "execution_count": 18,
   "id": "b65ddf72",
   "metadata": {},
   "outputs": [],
   "source": [
    "# from range of numbers output the squares in dict as given below\n",
    "# {1:1, 2:4, 3:9, 4:16, 5:25}"
   ]
  },
  {
   "cell_type": "code",
   "execution_count": 19,
   "id": "95734e7f",
   "metadata": {},
   "outputs": [
    {
     "name": "stdout",
     "output_type": "stream",
     "text": [
      "{1: 1, 2: 4, 3: 9, 4: 16, 5: 25}\n"
     ]
    }
   ],
   "source": [
    "result = {}\n",
    "for item in range(1,6):\n",
    "    result[item] = item * item\n",
    "print(result)"
   ]
  },
  {
   "cell_type": "code",
   "execution_count": 20,
   "id": "895dff97",
   "metadata": {},
   "outputs": [
    {
     "name": "stdout",
     "output_type": "stream",
     "text": [
      "{1: 1, 2: 4, 3: 9, 4: 16, 5: 25}\n"
     ]
    }
   ],
   "source": [
    "result = {item: item * item for item in range(1,6)}\n",
    "print(result)"
   ]
  },
  {
   "cell_type": "code",
   "execution_count": 21,
   "id": "c27e44a3",
   "metadata": {},
   "outputs": [],
   "source": [
    "s = \"the quick brown fox jumps over the lazy dog\""
   ]
  },
  {
   "cell_type": "code",
   "execution_count": 22,
   "id": "2fd70fea",
   "metadata": {},
   "outputs": [
    {
     "data": {
      "text/plain": [
       "2"
      ]
     },
     "execution_count": 22,
     "metadata": {},
     "output_type": "execute_result"
    }
   ],
   "source": [
    "s.count(\"t\")"
   ]
  },
  {
   "cell_type": "code",
   "execution_count": 23,
   "id": "575ada78",
   "metadata": {},
   "outputs": [
    {
     "data": {
      "text/plain": [
       "1"
      ]
     },
     "execution_count": 23,
     "metadata": {},
     "output_type": "execute_result"
    }
   ],
   "source": [
    "s.count(\"q\")"
   ]
  },
  {
   "cell_type": "code",
   "execution_count": 24,
   "id": "e8c8e909",
   "metadata": {},
   "outputs": [],
   "source": [
    "# output : {'t':2, 'q': 1 . . . }"
   ]
  },
  {
   "cell_type": "code",
   "execution_count": 25,
   "id": "c75c92fd",
   "metadata": {},
   "outputs": [],
   "source": [
    "result = {i: s.count(i) for i in s}"
   ]
  },
  {
   "cell_type": "code",
   "execution_count": 26,
   "id": "daaac4d3",
   "metadata": {},
   "outputs": [
    {
     "data": {
      "text/plain": [
       "{'t': 2,\n",
       " 'h': 2,\n",
       " 'e': 3,\n",
       " ' ': 8,\n",
       " 'q': 1,\n",
       " 'u': 2,\n",
       " 'i': 1,\n",
       " 'c': 1,\n",
       " 'k': 1,\n",
       " 'b': 1,\n",
       " 'r': 2,\n",
       " 'o': 4,\n",
       " 'w': 1,\n",
       " 'n': 1,\n",
       " 'f': 1,\n",
       " 'x': 1,\n",
       " 'j': 1,\n",
       " 'm': 1,\n",
       " 'p': 1,\n",
       " 's': 1,\n",
       " 'v': 1,\n",
       " 'l': 1,\n",
       " 'a': 1,\n",
       " 'z': 1,\n",
       " 'y': 1,\n",
       " 'd': 1,\n",
       " 'g': 1}"
      ]
     },
     "execution_count": 26,
     "metadata": {},
     "output_type": "execute_result"
    }
   ],
   "source": [
    "result"
   ]
  },
  {
   "cell_type": "code",
   "execution_count": null,
   "id": "431f833a",
   "metadata": {},
   "outputs": [],
   "source": []
  }
 ],
 "metadata": {
  "kernelspec": {
   "display_name": "Python 3 (ipykernel)",
   "language": "python",
   "name": "python3"
  },
  "language_info": {
   "codemirror_mode": {
    "name": "ipython",
    "version": 3
   },
   "file_extension": ".py",
   "mimetype": "text/x-python",
   "name": "python",
   "nbconvert_exporter": "python",
   "pygments_lexer": "ipython3",
   "version": "3.9.13"
  }
 },
 "nbformat": 4,
 "nbformat_minor": 5
}
