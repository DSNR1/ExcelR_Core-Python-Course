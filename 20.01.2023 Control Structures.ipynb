{
 "cells": [
  {
   "cell_type": "markdown",
   "id": "c57a74ef",
   "metadata": {},
   "source": [
    "# Control Structures"
   ]
  },
  {
   "cell_type": "markdown",
   "id": "096a846f",
   "metadata": {},
   "source": [
    "# Taking User Input"
   ]
  },
  {
   "cell_type": "code",
   "execution_count": 3,
   "id": "2adcf65c",
   "metadata": {},
   "outputs": [
    {
     "name": "stdout",
     "output_type": "stream",
     "text": [
      "Enter the current score: \n"
     ]
    }
   ],
   "source": [
    "score = input(\"Enter the current score: \")# input() => always returns a string"
   ]
  },
  {
   "cell_type": "code",
   "execution_count": 4,
   "id": "e42dbf9a",
   "metadata": {},
   "outputs": [
    {
     "name": "stdout",
     "output_type": "stream",
     "text": [
      "Enter the current score: 10\n"
     ]
    }
   ],
   "source": [
    "score = int(input(\"Enter the current score: \"))"
   ]
  },
  {
   "cell_type": "code",
   "execution_count": 5,
   "id": "f1024717",
   "metadata": {},
   "outputs": [
    {
     "data": {
      "text/plain": [
       "10"
      ]
     },
     "execution_count": 5,
     "metadata": {},
     "output_type": "execute_result"
    }
   ],
   "source": [
    "score"
   ]
  },
  {
   "cell_type": "code",
   "execution_count": 6,
   "id": "a75acb89",
   "metadata": {},
   "outputs": [
    {
     "name": "stdout",
     "output_type": "stream",
     "text": [
      "<class 'int'>\n"
     ]
    }
   ],
   "source": [
    "print(type(score))"
   ]
  },
  {
   "cell_type": "code",
   "execution_count": 5,
   "id": "8dc15123",
   "metadata": {},
   "outputs": [],
   "source": [
    "x = 20"
   ]
  },
  {
   "cell_type": "code",
   "execution_count": 6,
   "id": "54e8e3c7",
   "metadata": {},
   "outputs": [
    {
     "data": {
      "text/plain": [
       "20"
      ]
     },
     "execution_count": 6,
     "metadata": {},
     "output_type": "execute_result"
    }
   ],
   "source": [
    "x"
   ]
  },
  {
   "cell_type": "markdown",
   "id": "39217a2b",
   "metadata": {},
   "source": [
    "# Conditional Statements\n",
    "- if\n",
    "- if-else\n",
    "- elif"
   ]
  },
  {
   "cell_type": "code",
   "execution_count": 8,
   "id": "282b39a7",
   "metadata": {},
   "outputs": [
    {
     "name": "stdout",
     "output_type": "stream",
     "text": [
      "Enter any number: 10\n",
      "10\n"
     ]
    }
   ],
   "source": [
    "number = int(input(\"Enter any number: \"))\n",
    "print(number)"
   ]
  },
  {
   "cell_type": "code",
   "execution_count": 9,
   "id": "4a286c4c",
   "metadata": {},
   "outputs": [
    {
     "name": "stdout",
     "output_type": "stream",
     "text": [
      "user has entered a positive 10\n"
     ]
    }
   ],
   "source": [
    "if number>= 0:\n",
    "    print(\"user has entered a positive\", number)"
   ]
  },
  {
   "cell_type": "code",
   "execution_count": 10,
   "id": "b7179254",
   "metadata": {},
   "outputs": [
    {
     "name": "stdout",
     "output_type": "stream",
     "text": [
      "user has entered a positive 10\n"
     ]
    }
   ],
   "source": [
    "if number>= 0:\n",
    "    print(\"user has entered a positive\", number)\n",
    "else:\n",
    "    print(\"user has entered a negative\", number)"
   ]
  },
  {
   "cell_type": "code",
   "execution_count": 11,
   "id": "423b68a2",
   "metadata": {},
   "outputs": [
    {
     "name": "stdout",
     "output_type": "stream",
     "text": [
      "user has entered a positive 10\n"
     ]
    }
   ],
   "source": [
    "if number > 0:\n",
    "    print(\"user has entered a positive\", number)\n",
    "elif number == 0:\n",
    "    print(\"its a zero\",0)\n",
    "else:\n",
    "    print(\"user has entered a negative\", number)"
   ]
  },
  {
   "cell_type": "markdown",
   "id": "b3179837",
   "metadata": {},
   "source": [
    "# Example 1:"
   ]
  },
  {
   "cell_type": "code",
   "execution_count": 12,
   "id": "7e3efbbd",
   "metadata": {},
   "outputs": [
    {
     "name": "stdout",
     "output_type": "stream",
     "text": [
      "Enter any number: -1\n",
      "-1\n"
     ]
    }
   ],
   "source": [
    "number = int(input(\"Enter any number: \"))\n",
    "print(number)"
   ]
  },
  {
   "cell_type": "code",
   "execution_count": 13,
   "id": "40eadba4",
   "metadata": {},
   "outputs": [],
   "source": [
    "if number>= 0:\n",
    "    print(\"user has entered a positive\", number)"
   ]
  },
  {
   "cell_type": "code",
   "execution_count": 14,
   "id": "f0b4b00c",
   "metadata": {},
   "outputs": [
    {
     "name": "stdout",
     "output_type": "stream",
     "text": [
      "user has entered a negative -1\n"
     ]
    }
   ],
   "source": [
    "if number>= 0:\n",
    "    print(\"user has entered a positive\", number)\n",
    "else:\n",
    "    print(\"user has entered a negative\", number)"
   ]
  },
  {
   "cell_type": "code",
   "execution_count": 15,
   "id": "ea2b02f0",
   "metadata": {},
   "outputs": [
    {
     "name": "stdout",
     "output_type": "stream",
     "text": [
      "user has entered a negative -1\n"
     ]
    }
   ],
   "source": [
    "if number > 0:\n",
    "    print(\"user has entered a positive\", number)\n",
    "elif number == 0:\n",
    "    print(\"its a zero\",0)\n",
    "else:\n",
    "    print(\"user has entered a negative\", number)"
   ]
  },
  {
   "cell_type": "markdown",
   "id": "b4772dfd",
   "metadata": {},
   "source": [
    "# Example 2"
   ]
  },
  {
   "cell_type": "code",
   "execution_count": 16,
   "id": "8df7bbed",
   "metadata": {},
   "outputs": [
    {
     "name": "stdout",
     "output_type": "stream",
     "text": [
      "Enter any number: 0\n",
      "0\n"
     ]
    }
   ],
   "source": [
    "number = int(input(\"Enter any number: \"))\n",
    "print(number)"
   ]
  },
  {
   "cell_type": "code",
   "execution_count": 17,
   "id": "6fef3a27",
   "metadata": {},
   "outputs": [
    {
     "name": "stdout",
     "output_type": "stream",
     "text": [
      "user has entered a positive 0\n"
     ]
    }
   ],
   "source": [
    "if number>= 0:\n",
    "    print(\"user has entered a positive\", number)"
   ]
  },
  {
   "cell_type": "code",
   "execution_count": 18,
   "id": "ab070975",
   "metadata": {},
   "outputs": [
    {
     "name": "stdout",
     "output_type": "stream",
     "text": [
      "user has entered a positive 0\n"
     ]
    }
   ],
   "source": [
    "if number>= 0:\n",
    "    print(\"user has entered a positive\", number)\n",
    "else:\n",
    "    print(\"user has entered a negative\", number)"
   ]
  },
  {
   "cell_type": "code",
   "execution_count": 19,
   "id": "06b9dfe0",
   "metadata": {},
   "outputs": [
    {
     "name": "stdout",
     "output_type": "stream",
     "text": [
      "its a zero 0\n"
     ]
    }
   ],
   "source": [
    "if number > 0:\n",
    "    print(\"user has entered a positive\", number)\n",
    "elif number == 0:\n",
    "    print(\"its a zero\",0)\n",
    "else:\n",
    "    print(\"user has entered a negative\", number)"
   ]
  },
  {
   "cell_type": "markdown",
   "id": "151d19b7",
   "metadata": {},
   "source": [
    "# While"
   ]
  },
  {
   "cell_type": "code",
   "execution_count": 11,
   "id": "0dace8b2",
   "metadata": {},
   "outputs": [
    {
     "name": "stdout",
     "output_type": "stream",
     "text": [
      "1\n",
      "3\n",
      "5\n",
      "7\n",
      "9\n"
     ]
    }
   ],
   "source": [
    "index = 1\n",
    "while index <= 10:\n",
    "    print(index)\n",
    "    #index = index+1\n",
    "    index += 2"
   ]
  },
  {
   "cell_type": "code",
   "execution_count": 12,
   "id": "d77cc411",
   "metadata": {},
   "outputs": [],
   "source": [
    "r= list(range(1,10,2))"
   ]
  },
  {
   "cell_type": "code",
   "execution_count": 13,
   "id": "2eb8bfd5",
   "metadata": {},
   "outputs": [
    {
     "name": "stdout",
     "output_type": "stream",
     "text": [
      "1\n",
      "3\n",
      "5\n",
      "7\n",
      "9\n"
     ]
    }
   ],
   "source": [
    "for item in r:\n",
    "    print (item)"
   ]
  },
  {
   "cell_type": "code",
   "execution_count": 19,
   "id": "65287c32",
   "metadata": {},
   "outputs": [],
   "source": [
    "Company_names= [\"amazon\", \"flipkart\", \"snapdeal\"]"
   ]
  },
  {
   "cell_type": "code",
   "execution_count": 20,
   "id": "c7d1b282",
   "metadata": {},
   "outputs": [
    {
     "name": "stdout",
     "output_type": "stream",
     "text": [
      "['amazon', 'flipkart', 'snapdeal']\n"
     ]
    }
   ],
   "source": [
    "print (Company_names)"
   ]
  },
  {
   "cell_type": "code",
   "execution_count": 21,
   "id": "57d425a2",
   "metadata": {},
   "outputs": [],
   "source": [
    "## Convert all the company names in to websites"
   ]
  },
  {
   "cell_type": "code",
   "execution_count": 22,
   "id": "d5e766cc",
   "metadata": {},
   "outputs": [],
   "source": [
    "amazon = \"www.amazon.com\""
   ]
  },
  {
   "cell_type": "code",
   "execution_count": 23,
   "id": "2063eb92",
   "metadata": {},
   "outputs": [
    {
     "data": {
      "text/plain": [
       "'www.amazon.com'"
      ]
     },
     "execution_count": 23,
     "metadata": {},
     "output_type": "execute_result"
    }
   ],
   "source": [
    "amazon"
   ]
  },
  {
   "cell_type": "code",
   "execution_count": 24,
   "id": "210d9f02",
   "metadata": {},
   "outputs": [
    {
     "name": "stdout",
     "output_type": "stream",
     "text": [
      "www.amazon.com\n",
      "www.flipkart.com\n",
      "www.snapdeal.com\n"
     ]
    }
   ],
   "source": [
    "for x in Company_names:\n",
    "    print(\"www.\"+x+\".com\")"
   ]
  },
  {
   "cell_type": "code",
   "execution_count": 29,
   "id": "f2a6175f",
   "metadata": {},
   "outputs": [
    {
     "name": "stdout",
     "output_type": "stream",
     "text": [
      "www.amazon.com\n",
      "www.flipkart.com\n",
      "www.snapdeal.com\n"
     ]
    }
   ],
   "source": [
    "websites = []\n",
    "for i in Company_names:\n",
    "    websites.append(\"www.\"+ i + \".com\")\n",
    "    print (\"www.\"+ i + \".com\")"
   ]
  },
  {
   "cell_type": "code",
   "execution_count": 30,
   "id": "5934663d",
   "metadata": {},
   "outputs": [
    {
     "data": {
      "text/plain": [
       "['www.amazon.com', 'www.flipkart.com', 'www.snapdeal.com']"
      ]
     },
     "execution_count": 30,
     "metadata": {},
     "output_type": "execute_result"
    }
   ],
   "source": [
    "websites"
   ]
  },
  {
   "cell_type": "code",
   "execution_count": 32,
   "id": "43772ee3",
   "metadata": {},
   "outputs": [],
   "source": [
    "websites = []\n",
    "for i in Company_names:\n",
    "    i = \"www.\"+ i + \".com\"\n",
    "    websites.append(i)"
   ]
  },
  {
   "cell_type": "code",
   "execution_count": 33,
   "id": "86b99ac9",
   "metadata": {},
   "outputs": [
    {
     "data": {
      "text/plain": [
       "['www.amazon.com', 'www.flipkart.com', 'www.snapdeal.com']"
      ]
     },
     "execution_count": 33,
     "metadata": {},
     "output_type": "execute_result"
    }
   ],
   "source": [
    "websites"
   ]
  },
  {
   "cell_type": "code",
   "execution_count": 34,
   "id": "9d414aa7",
   "metadata": {},
   "outputs": [],
   "source": [
    "vk= {\"name\":\"virat\",\"Age\":35,\"team\":\"RCB\"}"
   ]
  },
  {
   "cell_type": "code",
   "execution_count": 37,
   "id": "0a9e615e",
   "metadata": {},
   "outputs": [
    {
     "name": "stdout",
     "output_type": "stream",
     "text": [
      "name\n",
      "Age\n",
      "team\n"
     ]
    }
   ],
   "source": [
    "for i in vk:\n",
    "    print(i)"
   ]
  },
  {
   "cell_type": "code",
   "execution_count": 38,
   "id": "d0e01319",
   "metadata": {},
   "outputs": [
    {
     "name": "stdout",
     "output_type": "stream",
     "text": [
      "virat\n",
      "35\n",
      "RCB\n"
     ]
    }
   ],
   "source": [
    "for i in vk.values():\n",
    "    print(i)"
   ]
  },
  {
   "cell_type": "code",
   "execution_count": 39,
   "id": "03ea2022",
   "metadata": {},
   "outputs": [
    {
     "name": "stdout",
     "output_type": "stream",
     "text": [
      "name virat\n",
      "Age 35\n",
      "team RCB\n"
     ]
    }
   ],
   "source": [
    "for i,j in vk.items():\n",
    "    print(i,j)"
   ]
  },
  {
   "cell_type": "code",
   "execution_count": 41,
   "id": "710b9844",
   "metadata": {},
   "outputs": [
    {
     "name": "stdout",
     "output_type": "stream",
     "text": [
      "0 amazon\n",
      "1 flipkart\n",
      "2 snapdeal\n"
     ]
    }
   ],
   "source": [
    "for i, j in enumerate(Company_names):\n",
    "    print(i, j)"
   ]
  },
  {
   "cell_type": "markdown",
   "id": "ceb913bb",
   "metadata": {},
   "source": [
    "# Break"
   ]
  },
  {
   "cell_type": "code",
   "execution_count": 49,
   "id": "64bc17ba",
   "metadata": {},
   "outputs": [
    {
     "name": "stdout",
     "output_type": "stream",
     "text": [
      "1\n",
      "2\n",
      "3\n",
      "4\n",
      "5\n"
     ]
    }
   ],
   "source": [
    "for i in range (1,11):\n",
    "    print (i)\n",
    "    if i == 5:\n",
    "        break"
   ]
  },
  {
   "cell_type": "markdown",
   "id": "22f15bd5",
   "metadata": {},
   "source": [
    "# Continue"
   ]
  },
  {
   "cell_type": "code",
   "execution_count": 58,
   "id": "7bc17ec5",
   "metadata": {},
   "outputs": [
    {
     "name": "stdout",
     "output_type": "stream",
     "text": [
      "1\n",
      "3\n",
      "5\n",
      "7\n",
      "9\n"
     ]
    }
   ],
   "source": [
    "for i in range(1,11):\n",
    "    if i%2 == 0:\n",
    "        continue\n",
    "    print(i)"
   ]
  },
  {
   "cell_type": "code",
   "execution_count": 22,
   "id": "33bd2dfc",
   "metadata": {
    "scrolled": true
   },
   "outputs": [
    {
     "name": "stdout",
     "output_type": "stream",
     "text": [
      "2\n",
      "4\n",
      "6\n",
      "8\n",
      "10\n"
     ]
    }
   ],
   "source": [
    "for i in range(1,11):\n",
    "    if i%2 == 0:\n",
    "        print(i)"
   ]
  },
  {
   "cell_type": "markdown",
   "id": "2534392b",
   "metadata": {},
   "source": [
    "# Pass"
   ]
  },
  {
   "cell_type": "code",
   "execution_count": 59,
   "id": "771b1653",
   "metadata": {
    "scrolled": true
   },
   "outputs": [
    {
     "ename": "IndentationError",
     "evalue": "expected an indented block (1334445784.py, line 1)",
     "output_type": "error",
     "traceback": [
      "\u001b[1;36m  File \u001b[1;32m\"C:\\Users\\DSN RAJU\\AppData\\Local\\Temp\\ipykernel_5284\\1334445784.py\"\u001b[1;36m, line \u001b[1;32m1\u001b[0m\n\u001b[1;33m    for i in range(1,11):\u001b[0m\n\u001b[1;37m                         ^\u001b[0m\n\u001b[1;31mIndentationError\u001b[0m\u001b[1;31m:\u001b[0m expected an indented block\n"
     ]
    }
   ],
   "source": [
    "for i in range(1,11):"
   ]
  },
  {
   "cell_type": "code",
   "execution_count": null,
   "id": "7ad3da29",
   "metadata": {},
   "outputs": [],
   "source": [
    "for i in range(1,11):\n",
    "    pass"
   ]
  },
  {
   "cell_type": "markdown",
   "id": "79b52285",
   "metadata": {},
   "source": [
    "# Exercise 1\n",
    "- take an input from the user and print the reverse of the number\n",
    "- Input = 123\n",
    "- Output = 321"
   ]
  },
  {
   "cell_type": "code",
   "execution_count": 61,
   "id": "0e63064d",
   "metadata": {},
   "outputs": [
    {
     "name": "stdout",
     "output_type": "stream",
     "text": [
      "enter from user:123\n",
      "Reverse: 321\n"
     ]
    }
   ],
   "source": [
    "num= input (\"enter from user:\")\n",
    "print(\"Reverse:\",num[::-1])"
   ]
  },
  {
   "cell_type": "code",
   "execution_count": 62,
   "id": "c627a6d7",
   "metadata": {},
   "outputs": [
    {
     "name": "stdout",
     "output_type": "stream",
     "text": [
      "enter from user:123456\n",
      "Reverse: 654321\n"
     ]
    }
   ],
   "source": [
    "num= input (\"enter from user:\")\n",
    "print(\"Reverse:\",num[::-1])"
   ]
  },
  {
   "cell_type": "markdown",
   "id": "8e860387",
   "metadata": {},
   "source": [
    "# Exercise 2\n",
    "- Write a program to get the sum of all the elements in the list\n",
    "- num = [1,2,3]\n",
    "- output = 6"
   ]
  },
  {
   "cell_type": "code",
   "execution_count": 63,
   "id": "283804d6",
   "metadata": {},
   "outputs": [],
   "source": [
    "num = [1,2,3,20,25,30]"
   ]
  },
  {
   "cell_type": "code",
   "execution_count": 64,
   "id": "99fac651",
   "metadata": {},
   "outputs": [
    {
     "data": {
      "text/plain": [
       "81"
      ]
     },
     "execution_count": 64,
     "metadata": {},
     "output_type": "execute_result"
    }
   ],
   "source": [
    "sum(num)"
   ]
  },
  {
   "cell_type": "code",
   "execution_count": 67,
   "id": "35b5e428",
   "metadata": {},
   "outputs": [
    {
     "name": "stdout",
     "output_type": "stream",
     "text": [
      "81\n"
     ]
    }
   ],
   "source": [
    "result = 0\n",
    "for i in num:\n",
    "    result += i\n",
    "print (result)"
   ]
  },
  {
   "cell_type": "code",
   "execution_count": null,
   "id": "227f4836",
   "metadata": {},
   "outputs": [],
   "source": []
  }
 ],
 "metadata": {
  "kernelspec": {
   "display_name": "Python 3 (ipykernel)",
   "language": "python",
   "name": "python3"
  },
  "language_info": {
   "codemirror_mode": {
    "name": "ipython",
    "version": 3
   },
   "file_extension": ".py",
   "mimetype": "text/x-python",
   "name": "python",
   "nbconvert_exporter": "python",
   "pygments_lexer": "ipython3",
   "version": "3.9.13"
  }
 },
 "nbformat": 4,
 "nbformat_minor": 5
}
