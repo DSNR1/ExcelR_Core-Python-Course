{
 "cells": [
  {
   "cell_type": "markdown",
   "id": "72f7a20e",
   "metadata": {},
   "source": [
    "## Numerical Python\n",
    " - Linear Algebra\n",
    " - Has bindings to C\n",
    " - High performing Library"
   ]
  },
  {
   "cell_type": "code",
   "execution_count": 1,
   "id": "504045b0",
   "metadata": {},
   "outputs": [],
   "source": [
    "import numpy as np"
   ]
  },
  {
   "cell_type": "code",
   "execution_count": 2,
   "id": "b02077a3",
   "metadata": {},
   "outputs": [],
   "source": [
    "lst_data = list(range(1, 11))"
   ]
  },
  {
   "cell_type": "code",
   "execution_count": 3,
   "id": "35ee3904",
   "metadata": {},
   "outputs": [
    {
     "name": "stdout",
     "output_type": "stream",
     "text": [
      "[1, 2, 3, 4, 5, 6, 7, 8, 9, 10]\n"
     ]
    }
   ],
   "source": [
    "print(lst_data)"
   ]
  },
  {
   "cell_type": "code",
   "execution_count": 4,
   "id": "13c6bb59",
   "metadata": {},
   "outputs": [
    {
     "name": "stdout",
     "output_type": "stream",
     "text": [
      "<class 'list'>\n"
     ]
    }
   ],
   "source": [
    "print(type(lst_data))"
   ]
  },
  {
   "cell_type": "code",
   "execution_count": 7,
   "id": "18ec2059",
   "metadata": {},
   "outputs": [],
   "source": [
    "e = np.array(lst_data)"
   ]
  },
  {
   "cell_type": "code",
   "execution_count": 12,
   "id": "d374e0e3",
   "metadata": {},
   "outputs": [
    {
     "data": {
      "text/plain": [
       "numpy.ndarray"
      ]
     },
     "execution_count": 12,
     "metadata": {},
     "output_type": "execute_result"
    }
   ],
   "source": [
    "type(np.array(lst_data))"
   ]
  },
  {
   "cell_type": "code",
   "execution_count": 9,
   "id": "412d444a",
   "metadata": {},
   "outputs": [
    {
     "name": "stdout",
     "output_type": "stream",
     "text": [
      "(10,)\n",
      "1\n"
     ]
    }
   ],
   "source": [
    "print(e.shape)\n",
    "print(e.ndim)"
   ]
  },
  {
   "cell_type": "code",
   "execution_count": 10,
   "id": "3e8acdec",
   "metadata": {},
   "outputs": [],
   "source": [
    "e = np.array([lst_data])"
   ]
  },
  {
   "cell_type": "code",
   "execution_count": 15,
   "id": "177c50e4",
   "metadata": {},
   "outputs": [
    {
     "name": "stdout",
     "output_type": "stream",
     "text": [
      "(1, 10)\n",
      "2\n",
      "<class 'numpy.ndarray'>\n",
      "[[ 1  2  3  4  5  6  7  8  9 10]]\n"
     ]
    }
   ],
   "source": [
    "print(e.shape)\n",
    "print(e.ndim)\n",
    "print(type(e))\n",
    "print(e)"
   ]
  },
  {
   "cell_type": "code",
   "execution_count": 16,
   "id": "875e462a",
   "metadata": {},
   "outputs": [],
   "source": [
    "mat1 = [[1, 2, 3, 4],[5, 6, 7, 8]]"
   ]
  },
  {
   "cell_type": "code",
   "execution_count": 17,
   "id": "27bada29",
   "metadata": {},
   "outputs": [],
   "source": [
    "mat1 = np.array(mat1)"
   ]
  },
  {
   "cell_type": "code",
   "execution_count": 19,
   "id": "c0ae4abd",
   "metadata": {},
   "outputs": [
    {
     "data": {
      "text/plain": [
       "(2, 4)"
      ]
     },
     "execution_count": 19,
     "metadata": {},
     "output_type": "execute_result"
    }
   ],
   "source": [
    "mat1.shape"
   ]
  },
  {
   "cell_type": "code",
   "execution_count": 20,
   "id": "0107cdc7",
   "metadata": {},
   "outputs": [
    {
     "data": {
      "text/plain": [
       "2"
      ]
     },
     "execution_count": 20,
     "metadata": {},
     "output_type": "execute_result"
    }
   ],
   "source": [
    "mat1.ndim"
   ]
  },
  {
   "cell_type": "code",
   "execution_count": 73,
   "id": "e963a807",
   "metadata": {},
   "outputs": [],
   "source": [
    "mat1 = [[[1, 2, 3, 4],[5, 6, 7, 8]],[[1, 2, 3, 4],[5, 6, 7, 8]]]"
   ]
  },
  {
   "cell_type": "code",
   "execution_count": 75,
   "id": "c1b28fcf",
   "metadata": {},
   "outputs": [],
   "source": [
    "mat1 = np.array(mat1)"
   ]
  },
  {
   "cell_type": "code",
   "execution_count": 76,
   "id": "77dc24fb",
   "metadata": {},
   "outputs": [
    {
     "data": {
      "text/plain": [
       "array([[[1, 2, 3, 4],\n",
       "        [5, 6, 7, 8]],\n",
       "\n",
       "       [[1, 2, 3, 4],\n",
       "        [5, 6, 7, 8]]])"
      ]
     },
     "execution_count": 76,
     "metadata": {},
     "output_type": "execute_result"
    }
   ],
   "source": [
    "mat1"
   ]
  },
  {
   "cell_type": "code",
   "execution_count": 31,
   "id": "bdf96788",
   "metadata": {},
   "outputs": [
    {
     "data": {
      "text/plain": [
       "3"
      ]
     },
     "execution_count": 31,
     "metadata": {},
     "output_type": "execute_result"
    }
   ],
   "source": [
    "mat1.ndim"
   ]
  },
  {
   "cell_type": "code",
   "execution_count": 32,
   "id": "a3876030",
   "metadata": {},
   "outputs": [
    {
     "data": {
      "text/plain": [
       "array([[[1, 2, 3, 4],\n",
       "        [5, 6, 7, 8]],\n",
       "\n",
       "       [[1, 2, 3, 4],\n",
       "        [5, 6, 7, 8]]])"
      ]
     },
     "execution_count": 32,
     "metadata": {},
     "output_type": "execute_result"
    }
   ],
   "source": [
    "mat1"
   ]
  },
  {
   "cell_type": "code",
   "execution_count": 24,
   "id": "4122ca65",
   "metadata": {},
   "outputs": [
    {
     "data": {
      "text/plain": [
       "(2, 2, 4)"
      ]
     },
     "execution_count": 24,
     "metadata": {},
     "output_type": "execute_result"
    }
   ],
   "source": [
    "mat1.shape"
   ]
  },
  {
   "cell_type": "code",
   "execution_count": 60,
   "id": "68407a92",
   "metadata": {},
   "outputs": [],
   "source": [
    "my_list = [1, 2, 3, 4, 5, 6]"
   ]
  },
  {
   "cell_type": "code",
   "execution_count": 61,
   "id": "c3cdacde",
   "metadata": {},
   "outputs": [],
   "source": [
    "arr1 = np.array(my_list, dtype = int)"
   ]
  },
  {
   "cell_type": "code",
   "execution_count": 62,
   "id": "047c8c42",
   "metadata": {},
   "outputs": [
    {
     "data": {
      "text/plain": [
       "array([1, 2, 3, 4, 5, 6])"
      ]
     },
     "execution_count": 62,
     "metadata": {},
     "output_type": "execute_result"
    }
   ],
   "source": [
    "arr1"
   ]
  },
  {
   "cell_type": "code",
   "execution_count": 63,
   "id": "517e549b",
   "metadata": {},
   "outputs": [
    {
     "data": {
      "text/plain": [
       "(6,)"
      ]
     },
     "execution_count": 63,
     "metadata": {},
     "output_type": "execute_result"
    }
   ],
   "source": [
    "arr1.shape"
   ]
  },
  {
   "cell_type": "code",
   "execution_count": 64,
   "id": "096cadb0",
   "metadata": {},
   "outputs": [],
   "source": [
    "arr2 = arr1.reshape(3, 2)"
   ]
  },
  {
   "cell_type": "code",
   "execution_count": 65,
   "id": "04d8ba96",
   "metadata": {},
   "outputs": [
    {
     "data": {
      "text/plain": [
       "array([[1, 2],\n",
       "       [3, 4],\n",
       "       [5, 6]])"
      ]
     },
     "execution_count": 65,
     "metadata": {},
     "output_type": "execute_result"
    }
   ],
   "source": [
    "arr2"
   ]
  },
  {
   "cell_type": "code",
   "execution_count": 66,
   "id": "7d651650",
   "metadata": {},
   "outputs": [],
   "source": [
    "lis1 = list(range(1,6))\n",
    "lis2 = list(range(10,15))\n",
    "lis3 = list(range(20, 25))"
   ]
  },
  {
   "cell_type": "code",
   "execution_count": 67,
   "id": "b32072f2",
   "metadata": {},
   "outputs": [],
   "source": [
    "arr4 = np.array([lis1, lis2, lis3])"
   ]
  },
  {
   "cell_type": "code",
   "execution_count": 68,
   "id": "617f170b",
   "metadata": {},
   "outputs": [
    {
     "data": {
      "text/plain": [
       "array([[ 1,  2,  3,  4,  5],\n",
       "       [10, 11, 12, 13, 14],\n",
       "       [20, 21, 22, 23, 24]])"
      ]
     },
     "execution_count": 68,
     "metadata": {},
     "output_type": "execute_result"
    }
   ],
   "source": [
    "arr4"
   ]
  },
  {
   "cell_type": "code",
   "execution_count": 69,
   "id": "b3612ab7",
   "metadata": {},
   "outputs": [
    {
     "data": {
      "text/plain": [
       "(3, 5)"
      ]
     },
     "execution_count": 69,
     "metadata": {},
     "output_type": "execute_result"
    }
   ],
   "source": [
    "arr4.shape"
   ]
  },
  {
   "cell_type": "code",
   "execution_count": 71,
   "id": "0356b528",
   "metadata": {},
   "outputs": [
    {
     "data": {
      "text/plain": [
       "array([[ 1,  2,  3,  4,  5, 10, 11, 12, 13, 14, 20, 21, 22, 23, 24]])"
      ]
     },
     "execution_count": 71,
     "metadata": {},
     "output_type": "execute_result"
    }
   ],
   "source": [
    "arr4.reshape(1, 15)"
   ]
  },
  {
   "cell_type": "code",
   "execution_count": 72,
   "id": "5c2bad9e",
   "metadata": {},
   "outputs": [
    {
     "data": {
      "text/plain": [
       "array([ 1,  2,  3,  4,  5, 10, 11, 12, 13, 14, 20, 21, 22, 23, 24])"
      ]
     },
     "execution_count": 72,
     "metadata": {},
     "output_type": "execute_result"
    }
   ],
   "source": [
    "arr4.reshape(-1)"
   ]
  },
  {
   "cell_type": "code",
   "execution_count": null,
   "id": "79f04e20",
   "metadata": {},
   "outputs": [],
   "source": [
    "new_array = np.random.randint(10,20,100)"
   ]
  },
  {
   "cell_type": "code",
   "execution_count": null,
   "id": "c4834f0b",
   "metadata": {},
   "outputs": [],
   "source": [
    "new_arr"
   ]
  },
  {
   "cell_type": "code",
   "execution_count": null,
   "id": "a63e053d",
   "metadata": {},
   "outputs": [],
   "source": [
    "new_array = np.random.randn(10,25)"
   ]
  },
  {
   "cell_type": "code",
   "execution_count": null,
   "id": "aef548fc",
   "metadata": {},
   "outputs": [],
   "source": [
    "new_arr"
   ]
  },
  {
   "cell_type": "code",
   "execution_count": null,
   "id": "f6a7833f",
   "metadata": {},
   "outputs": [],
   "source": [
    "np.mean(new_array)"
   ]
  },
  {
   "cell_type": "code",
   "execution_count": null,
   "id": "fe7c95bf",
   "metadata": {},
   "outputs": [],
   "source": [
    "x = np.array([[1,2,3],[4,5,6]])"
   ]
  },
  {
   "cell_type": "code",
   "execution_count": null,
   "id": "1fd1fd05",
   "metadata": {},
   "outputs": [],
   "source": [
    "y = np.array([[8,9,7],[6,3,6]])"
   ]
  },
  {
   "cell_type": "code",
   "execution_count": null,
   "id": "44a3666a",
   "metadata": {},
   "outputs": [],
   "source": [
    "x"
   ]
  },
  {
   "cell_type": "code",
   "execution_count": null,
   "id": "3e124e2e",
   "metadata": {},
   "outputs": [],
   "source": [
    "y"
   ]
  },
  {
   "cell_type": "code",
   "execution_count": null,
   "id": "6f7e8bf0",
   "metadata": {},
   "outputs": [],
   "source": [
    "x+y"
   ]
  },
  {
   "cell_type": "code",
   "execution_count": null,
   "id": "2b2e3001",
   "metadata": {},
   "outputs": [],
   "source": [
    "x-y"
   ]
  },
  {
   "cell_type": "code",
   "execution_count": null,
   "id": "a4e62d72",
   "metadata": {},
   "outputs": [],
   "source": [
    "x*y"
   ]
  },
  {
   "cell_type": "code",
   "execution_count": null,
   "id": "04aceb0e",
   "metadata": {},
   "outputs": [],
   "source": [
    "np.add(x,y)"
   ]
  },
  {
   "cell_type": "code",
   "execution_count": null,
   "id": "22dc9d06",
   "metadata": {},
   "outputs": [],
   "source": [
    "np.multiply(x,y)"
   ]
  },
  {
   "cell_type": "code",
   "execution_count": null,
   "id": "eebb15eb",
   "metadata": {},
   "outputs": [],
   "source": [
    "arr = np.range(10)"
   ]
  },
  {
   "cell_type": "code",
   "execution_count": null,
   "id": "74d8b6bf",
   "metadata": {},
   "outputs": [],
   "source": [
    "arr"
   ]
  },
  {
   "cell_type": "code",
   "execution_count": null,
   "id": "ded9f707",
   "metadata": {},
   "outputs": [],
   "source": [
    "arr = np.range(10,21,2)"
   ]
  },
  {
   "cell_type": "code",
   "execution_count": null,
   "id": "9a1f861b",
   "metadata": {},
   "outputs": [],
   "source": [
    "arr"
   ]
  },
  {
   "cell_type": "code",
   "execution_count": null,
   "id": "aaba2271",
   "metadata": {},
   "outputs": [],
   "source": [
    "arr = arr.reshape(2, 3)"
   ]
  },
  {
   "cell_type": "code",
   "execution_count": null,
   "id": "2b5f10ea",
   "metadata": {},
   "outputs": [],
   "source": [
    "arr"
   ]
  },
  {
   "cell_type": "code",
   "execution_count": null,
   "id": "5b30bb01",
   "metadata": {},
   "outputs": [],
   "source": [
    "arr.T"
   ]
  },
  {
   "cell_type": "code",
   "execution_count": null,
   "id": "6b050ab4",
   "metadata": {},
   "outputs": [],
   "source": [
    "np.max(arr)"
   ]
  },
  {
   "cell_type": "code",
   "execution_count": null,
   "id": "b8b1d0b8",
   "metadata": {},
   "outputs": [],
   "source": [
    "np.min(arr)"
   ]
  },
  {
   "cell_type": "code",
   "execution_count": null,
   "id": "28877cdc",
   "metadata": {},
   "outputs": [],
   "source": [
    "np.zeros((3,3))"
   ]
  },
  {
   "cell_type": "code",
   "execution_count": null,
   "id": "5a069160",
   "metadata": {},
   "outputs": [],
   "source": [
    "arr"
   ]
  },
  {
   "cell_type": "raw",
   "id": "8bd2cf87",
   "metadata": {},
   "source": [
    "arr = arr.reshape(-1)"
   ]
  },
  {
   "cell_type": "code",
   "execution_count": null,
   "id": "9b0fd1b6",
   "metadata": {},
   "outputs": [],
   "source": [
    "arr[1]"
   ]
  },
  {
   "cell_type": "code",
   "execution_count": null,
   "id": "b9aa8b97",
   "metadata": {},
   "outputs": [],
   "source": []
  },
  {
   "cell_type": "code",
   "execution_count": null,
   "id": "f3584293",
   "metadata": {},
   "outputs": [],
   "source": []
  },
  {
   "cell_type": "markdown",
   "id": "44fcc894",
   "metadata": {},
   "source": [
    "# Loading Data and Import Pandas"
   ]
  },
  {
   "cell_type": "code",
   "execution_count": 1,
   "id": "f05835cb",
   "metadata": {},
   "outputs": [],
   "source": [
    "# Pandas Intro"
   ]
  },
  {
   "cell_type": "code",
   "execution_count": 2,
   "id": "ae926ebf",
   "metadata": {},
   "outputs": [],
   "source": [
    "#import pandas"
   ]
  },
  {
   "cell_type": "code",
   "execution_count": 3,
   "id": "efa05270",
   "metadata": {},
   "outputs": [],
   "source": [
    "#!conda install pandas"
   ]
  },
  {
   "cell_type": "code",
   "execution_count": 4,
   "id": "0336a8ac",
   "metadata": {},
   "outputs": [],
   "source": [
    "#import pandas as pd"
   ]
  },
  {
   "cell_type": "code",
   "execution_count": 5,
   "id": "175fe64f",
   "metadata": {},
   "outputs": [],
   "source": [
    "#data_iris = pd.read_csv(\"../datasets/Iris_data_sample.csv\")"
   ]
  },
  {
   "cell_type": "code",
   "execution_count": 6,
   "id": "47f82ef0",
   "metadata": {},
   "outputs": [],
   "source": [
    "#data_iris"
   ]
  },
  {
   "cell_type": "code",
   "execution_count": 7,
   "id": "1035400f",
   "metadata": {},
   "outputs": [],
   "source": [
    "#data_iris = pd.read_excel(\"../datasets/Iris_data_sample.xlsx\")"
   ]
  },
  {
   "cell_type": "code",
   "execution_count": null,
   "id": "03fc1b04",
   "metadata": {},
   "outputs": [],
   "source": [
    "#data_iris.head()"
   ]
  }
 ],
 "metadata": {
  "kernelspec": {
   "display_name": "Python 3 (ipykernel)",
   "language": "python",
   "name": "python3"
  },
  "language_info": {
   "codemirror_mode": {
    "name": "ipython",
    "version": 3
   },
   "file_extension": ".py",
   "mimetype": "text/x-python",
   "name": "python",
   "nbconvert_exporter": "python",
   "pygments_lexer": "ipython3",
   "version": "3.9.13"
  }
 },
 "nbformat": 4,
 "nbformat_minor": 5
}
