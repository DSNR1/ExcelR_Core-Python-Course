{
 "cells": [
  {
   "cell_type": "code",
   "execution_count": 1,
   "id": "2961e870",
   "metadata": {},
   "outputs": [],
   "source": [
    "#Append\n",
    "#Insert\n",
    "#Remove\n",
    "#Pop\n",
    "#Sort\n",
    "#Del\n",
    "#Index\n",
    "#Count"
   ]
  },
  {
   "cell_type": "code",
   "execution_count": 2,
   "id": "f37f5fee",
   "metadata": {},
   "outputs": [],
   "source": [
    "#Float (Decimals)\n",
    "f=3.142"
   ]
  },
  {
   "cell_type": "code",
   "execution_count": 3,
   "id": "94250fcd",
   "metadata": {},
   "outputs": [
    {
     "data": {
      "text/plain": [
       "float"
      ]
     },
     "execution_count": 3,
     "metadata": {},
     "output_type": "execute_result"
    }
   ],
   "source": [
    "type(f)"
   ]
  },
  {
   "cell_type": "code",
   "execution_count": 4,
   "id": "ec751624",
   "metadata": {},
   "outputs": [],
   "source": [
    "num=10"
   ]
  },
  {
   "cell_type": "code",
   "execution_count": 5,
   "id": "76aed84c",
   "metadata": {},
   "outputs": [
    {
     "data": {
      "text/plain": [
       "int"
      ]
     },
     "execution_count": 5,
     "metadata": {},
     "output_type": "execute_result"
    }
   ],
   "source": [
    "type(num)"
   ]
  },
  {
   "cell_type": "code",
   "execution_count": 6,
   "id": "4fc6d42e",
   "metadata": {},
   "outputs": [],
   "source": [
    "s='Welcome'"
   ]
  },
  {
   "cell_type": "code",
   "execution_count": 7,
   "id": "c34c3b0c",
   "metadata": {},
   "outputs": [
    {
     "data": {
      "text/plain": [
       "str"
      ]
     },
     "execution_count": 7,
     "metadata": {},
     "output_type": "execute_result"
    }
   ],
   "source": [
    "type(s)"
   ]
  },
  {
   "cell_type": "code",
   "execution_count": 8,
   "id": "fe05604d",
   "metadata": {},
   "outputs": [],
   "source": [
    "a=True"
   ]
  },
  {
   "cell_type": "code",
   "execution_count": 9,
   "id": "65390833",
   "metadata": {},
   "outputs": [
    {
     "data": {
      "text/plain": [
       "bool"
      ]
     },
     "execution_count": 9,
     "metadata": {},
     "output_type": "execute_result"
    }
   ],
   "source": [
    "type(a)"
   ]
  },
  {
   "cell_type": "code",
   "execution_count": 10,
   "id": "e0c09ebe",
   "metadata": {},
   "outputs": [],
   "source": [
    "a=False"
   ]
  },
  {
   "cell_type": "code",
   "execution_count": 12,
   "id": "ffac458c",
   "metadata": {},
   "outputs": [
    {
     "ename": "NameError",
     "evalue": "name 'x' is not defined",
     "output_type": "error",
     "traceback": [
      "\u001b[1;31m---------------------------------------------------------------------------\u001b[0m",
      "\u001b[1;31mNameError\u001b[0m                                 Traceback (most recent call last)",
      "\u001b[1;32m~\\AppData\\Local\\Temp\\ipykernel_9548\\2592835030.py\u001b[0m in \u001b[0;36m<module>\u001b[1;34m\u001b[0m\n\u001b[1;32m----> 1\u001b[1;33m \u001b[0mx\u001b[0m\u001b[1;33m,\u001b[0m\u001b[0my\u001b[0m\u001b[1;33m,\u001b[0m\u001b[0mz\u001b[0m\u001b[1;33m(\u001b[0m\u001b[1;34m\"abc\"\u001b[0m\u001b[1;33m)\u001b[0m\u001b[1;33m\u001b[0m\u001b[1;33m\u001b[0m\u001b[0m\n\u001b[0m",
      "\u001b[1;31mNameError\u001b[0m: name 'x' is not defined"
     ]
    }
   ],
   "source": [
    "x,y,z(\"abc\")"
   ]
  },
  {
   "cell_type": "code",
   "execution_count": 13,
   "id": "809618fe",
   "metadata": {},
   "outputs": [
    {
     "data": {
      "text/plain": [
       "str"
      ]
     },
     "execution_count": 13,
     "metadata": {},
     "output_type": "execute_result"
    }
   ],
   "source": [
    "type(\"xyz\")"
   ]
  },
  {
   "cell_type": "code",
   "execution_count": 14,
   "id": "cc8f404c",
   "metadata": {},
   "outputs": [],
   "source": [
    "a=3+2j"
   ]
  },
  {
   "cell_type": "code",
   "execution_count": 15,
   "id": "4afbccfa",
   "metadata": {},
   "outputs": [
    {
     "data": {
      "text/plain": [
       "complex"
      ]
     },
     "execution_count": 15,
     "metadata": {},
     "output_type": "execute_result"
    }
   ],
   "source": [
    "type(a)"
   ]
  },
  {
   "cell_type": "code",
   "execution_count": 16,
   "id": "a324c3f6",
   "metadata": {},
   "outputs": [
    {
     "data": {
      "text/plain": [
       "22"
      ]
     },
     "execution_count": 16,
     "metadata": {},
     "output_type": "execute_result"
    }
   ],
   "source": [
    "#Addition\n",
    "18+4"
   ]
  },
  {
   "cell_type": "code",
   "execution_count": 17,
   "id": "f41ba80f",
   "metadata": {},
   "outputs": [
    {
     "data": {
      "text/plain": [
       "14"
      ]
     },
     "execution_count": 17,
     "metadata": {},
     "output_type": "execute_result"
    }
   ],
   "source": [
    "#Substraction\n",
    "18-4"
   ]
  },
  {
   "cell_type": "code",
   "execution_count": 19,
   "id": "ce2dafad",
   "metadata": {},
   "outputs": [
    {
     "data": {
      "text/plain": [
       "72"
      ]
     },
     "execution_count": 19,
     "metadata": {},
     "output_type": "execute_result"
    }
   ],
   "source": [
    "#Multiplication\n",
    "18*4"
   ]
  },
  {
   "cell_type": "code",
   "execution_count": 20,
   "id": "40c24f5f",
   "metadata": {},
   "outputs": [
    {
     "data": {
      "text/plain": [
       "4.5"
      ]
     },
     "execution_count": 20,
     "metadata": {},
     "output_type": "execute_result"
    }
   ],
   "source": [
    "#Division\n",
    "18/4"
   ]
  },
  {
   "cell_type": "code",
   "execution_count": 21,
   "id": "50f8be0f",
   "metadata": {},
   "outputs": [
    {
     "data": {
      "text/plain": [
       "4"
      ]
     },
     "execution_count": 21,
     "metadata": {},
     "output_type": "execute_result"
    }
   ],
   "source": [
    "#To avoid decimal points during the division\n",
    "18//4"
   ]
  },
  {
   "cell_type": "code",
   "execution_count": 22,
   "id": "651b0642",
   "metadata": {},
   "outputs": [
    {
     "data": {
      "text/plain": [
       "0"
      ]
     },
     "execution_count": 22,
     "metadata": {},
     "output_type": "execute_result"
    }
   ],
   "source": [
    "18 &4"
   ]
  },
  {
   "cell_type": "code",
   "execution_count": 23,
   "id": "482b0279",
   "metadata": {},
   "outputs": [
    {
     "data": {
      "text/plain": [
       "2"
      ]
     },
     "execution_count": 23,
     "metadata": {},
     "output_type": "execute_result"
    }
   ],
   "source": [
    "# Modular Function\n",
    "18%4"
   ]
  },
  {
   "cell_type": "markdown",
   "id": "225394a6",
   "metadata": {},
   "source": [
    "# List Operations"
   ]
  },
  {
   "cell_type": "markdown",
   "id": "0eb7e7e4",
   "metadata": {},
   "source": [
    "# Append"
   ]
  },
  {
   "cell_type": "code",
   "execution_count": 24,
   "id": "456e3340",
   "metadata": {},
   "outputs": [],
   "source": [
    "# Always adds an element or an object at the end of the list"
   ]
  },
  {
   "cell_type": "code",
   "execution_count": 34,
   "id": "e87b0643",
   "metadata": {},
   "outputs": [],
   "source": [
    "languages=[\"CPP\",\"Jawa\",\"C#\"]"
   ]
  },
  {
   "cell_type": "code",
   "execution_count": 29,
   "id": "8d5a05bc",
   "metadata": {},
   "outputs": [
    {
     "data": {
      "text/plain": [
       "list"
      ]
     },
     "execution_count": 29,
     "metadata": {},
     "output_type": "execute_result"
    }
   ],
   "source": [
    "type(languages)"
   ]
  },
  {
   "cell_type": "code",
   "execution_count": 35,
   "id": "0c94f343",
   "metadata": {},
   "outputs": [],
   "source": [
    "languages.append(\"python\")"
   ]
  },
  {
   "cell_type": "code",
   "execution_count": 36,
   "id": "850d110b",
   "metadata": {},
   "outputs": [
    {
     "data": {
      "text/plain": [
       "['CPP', 'Jawa', 'C#', 'python']"
      ]
     },
     "execution_count": 36,
     "metadata": {},
     "output_type": "execute_result"
    }
   ],
   "source": [
    "languages"
   ]
  },
  {
   "cell_type": "markdown",
   "id": "d9237c93",
   "metadata": {},
   "source": [
    "# Insert\n",
    "   It inserts an element or an object at specified index"
   ]
  },
  {
   "cell_type": "code",
   "execution_count": 37,
   "id": "23a4b2eb",
   "metadata": {},
   "outputs": [],
   "source": [
    "languages.insert(1,\"perl\")"
   ]
  },
  {
   "cell_type": "code",
   "execution_count": 40,
   "id": "d10b6f68",
   "metadata": {},
   "outputs": [
    {
     "data": {
      "text/plain": [
       "['CPP', 'perl', 'Jawa', 'C#', 'python']"
      ]
     },
     "execution_count": 40,
     "metadata": {},
     "output_type": "execute_result"
    }
   ],
   "source": [
    "languages"
   ]
  },
  {
   "cell_type": "code",
   "execution_count": 41,
   "id": "07409ee9",
   "metadata": {},
   "outputs": [
    {
     "name": "stdout",
     "output_type": "stream",
     "text": [
      "Help on class list in module builtins:\n",
      "\n",
      "class list(object)\n",
      " |  list(iterable=(), /)\n",
      " |  \n",
      " |  Built-in mutable sequence.\n",
      " |  \n",
      " |  If no argument is given, the constructor creates a new empty list.\n",
      " |  The argument must be an iterable if specified.\n",
      " |  \n",
      " |  Methods defined here:\n",
      " |  \n",
      " |  __add__(self, value, /)\n",
      " |      Return self+value.\n",
      " |  \n",
      " |  __contains__(self, key, /)\n",
      " |      Return key in self.\n",
      " |  \n",
      " |  __delitem__(self, key, /)\n",
      " |      Delete self[key].\n",
      " |  \n",
      " |  __eq__(self, value, /)\n",
      " |      Return self==value.\n",
      " |  \n",
      " |  __ge__(self, value, /)\n",
      " |      Return self>=value.\n",
      " |  \n",
      " |  __getattribute__(self, name, /)\n",
      " |      Return getattr(self, name).\n",
      " |  \n",
      " |  __getitem__(...)\n",
      " |      x.__getitem__(y) <==> x[y]\n",
      " |  \n",
      " |  __gt__(self, value, /)\n",
      " |      Return self>value.\n",
      " |  \n",
      " |  __iadd__(self, value, /)\n",
      " |      Implement self+=value.\n",
      " |  \n",
      " |  __imul__(self, value, /)\n",
      " |      Implement self*=value.\n",
      " |  \n",
      " |  __init__(self, /, *args, **kwargs)\n",
      " |      Initialize self.  See help(type(self)) for accurate signature.\n",
      " |  \n",
      " |  __iter__(self, /)\n",
      " |      Implement iter(self).\n",
      " |  \n",
      " |  __le__(self, value, /)\n",
      " |      Return self<=value.\n",
      " |  \n",
      " |  __len__(self, /)\n",
      " |      Return len(self).\n",
      " |  \n",
      " |  __lt__(self, value, /)\n",
      " |      Return self<value.\n",
      " |  \n",
      " |  __mul__(self, value, /)\n",
      " |      Return self*value.\n",
      " |  \n",
      " |  __ne__(self, value, /)\n",
      " |      Return self!=value.\n",
      " |  \n",
      " |  __repr__(self, /)\n",
      " |      Return repr(self).\n",
      " |  \n",
      " |  __reversed__(self, /)\n",
      " |      Return a reverse iterator over the list.\n",
      " |  \n",
      " |  __rmul__(self, value, /)\n",
      " |      Return value*self.\n",
      " |  \n",
      " |  __setitem__(self, key, value, /)\n",
      " |      Set self[key] to value.\n",
      " |  \n",
      " |  __sizeof__(self, /)\n",
      " |      Return the size of the list in memory, in bytes.\n",
      " |  \n",
      " |  append(self, object, /)\n",
      " |      Append object to the end of the list.\n",
      " |  \n",
      " |  clear(self, /)\n",
      " |      Remove all items from list.\n",
      " |  \n",
      " |  copy(self, /)\n",
      " |      Return a shallow copy of the list.\n",
      " |  \n",
      " |  count(self, value, /)\n",
      " |      Return number of occurrences of value.\n",
      " |  \n",
      " |  extend(self, iterable, /)\n",
      " |      Extend list by appending elements from the iterable.\n",
      " |  \n",
      " |  index(self, value, start=0, stop=9223372036854775807, /)\n",
      " |      Return first index of value.\n",
      " |      \n",
      " |      Raises ValueError if the value is not present.\n",
      " |  \n",
      " |  insert(self, index, object, /)\n",
      " |      Insert object before index.\n",
      " |  \n",
      " |  pop(self, index=-1, /)\n",
      " |      Remove and return item at index (default last).\n",
      " |      \n",
      " |      Raises IndexError if list is empty or index is out of range.\n",
      " |  \n",
      " |  remove(self, value, /)\n",
      " |      Remove first occurrence of value.\n",
      " |      \n",
      " |      Raises ValueError if the value is not present.\n",
      " |  \n",
      " |  reverse(self, /)\n",
      " |      Reverse *IN PLACE*.\n",
      " |  \n",
      " |  sort(self, /, *, key=None, reverse=False)\n",
      " |      Sort the list in ascending order and return None.\n",
      " |      \n",
      " |      The sort is in-place (i.e. the list itself is modified) and stable (i.e. the\n",
      " |      order of two equal elements is maintained).\n",
      " |      \n",
      " |      If a key function is given, apply it once to each list item and sort them,\n",
      " |      ascending or descending, according to their function values.\n",
      " |      \n",
      " |      The reverse flag can be set to sort in descending order.\n",
      " |  \n",
      " |  ----------------------------------------------------------------------\n",
      " |  Class methods defined here:\n",
      " |  \n",
      " |  __class_getitem__(...) from builtins.type\n",
      " |      See PEP 585\n",
      " |  \n",
      " |  ----------------------------------------------------------------------\n",
      " |  Static methods defined here:\n",
      " |  \n",
      " |  __new__(*args, **kwargs) from builtins.type\n",
      " |      Create and return a new object.  See help(type) for accurate signature.\n",
      " |  \n",
      " |  ----------------------------------------------------------------------\n",
      " |  Data and other attributes defined here:\n",
      " |  \n",
      " |  __hash__ = None\n",
      "\n"
     ]
    }
   ],
   "source": [
    "help(list)"
   ]
  },
  {
   "cell_type": "code",
   "execution_count": 44,
   "id": "2ff5966b",
   "metadata": {},
   "outputs": [],
   "source": [
    "list_1=()"
   ]
  },
  {
   "cell_type": "code",
   "execution_count": 45,
   "id": "6afd50d1",
   "metadata": {},
   "outputs": [
    {
     "data": {
      "text/plain": [
       "()"
      ]
     },
     "execution_count": 45,
     "metadata": {},
     "output_type": "execute_result"
    }
   ],
   "source": [
    "list_1"
   ]
  },
  {
   "cell_type": "code",
   "execution_count": 46,
   "id": "e14dba3b",
   "metadata": {},
   "outputs": [
    {
     "data": {
      "text/plain": [
       "['CPP', 'perl', 'Jawa', 'C#', 'python']"
      ]
     },
     "execution_count": 46,
     "metadata": {},
     "output_type": "execute_result"
    }
   ],
   "source": [
    "languages"
   ]
  },
  {
   "cell_type": "code",
   "execution_count": 47,
   "id": "8a27fab9",
   "metadata": {},
   "outputs": [],
   "source": [
    "languages.insert(-1,\"Ruby\")"
   ]
  },
  {
   "cell_type": "code",
   "execution_count": 48,
   "id": "096b36b3",
   "metadata": {},
   "outputs": [
    {
     "data": {
      "text/plain": [
       "['CPP', 'perl', 'Jawa', 'C#', 'Ruby', 'python']"
      ]
     },
     "execution_count": 48,
     "metadata": {},
     "output_type": "execute_result"
    }
   ],
   "source": [
    "languages"
   ]
  },
  {
   "cell_type": "code",
   "execution_count": 51,
   "id": "fb46a49c",
   "metadata": {},
   "outputs": [
    {
     "name": "stdout",
     "output_type": "stream",
     "text": [
      "Help on method_descriptor:\n",
      "\n",
      "insert(self, index, object, /)\n",
      "    Insert object before index.\n",
      "\n"
     ]
    }
   ],
   "source": [
    "help(list.insert)"
   ]
  },
  {
   "cell_type": "markdown",
   "id": "25ba09b7",
   "metadata": {},
   "source": [
    "# Remove\n",
    "   Remove an element based on the value"
   ]
  },
  {
   "cell_type": "code",
   "execution_count": 88,
   "id": "cd1fdc43",
   "metadata": {},
   "outputs": [
    {
     "data": {
      "text/plain": [
       "['CPP', 'Javascript']"
      ]
     },
     "execution_count": 88,
     "metadata": {},
     "output_type": "execute_result"
    }
   ],
   "source": [
    "languages"
   ]
  },
  {
   "cell_type": "code",
   "execution_count": 53,
   "id": "ded7f8d5",
   "metadata": {},
   "outputs": [],
   "source": [
    "languages.remove(\"Jawa\")"
   ]
  },
  {
   "cell_type": "code",
   "execution_count": 55,
   "id": "5e02cb0e",
   "metadata": {},
   "outputs": [
    {
     "data": {
      "text/plain": [
       "['CPP', 'perl', 'C#', 'Ruby', 'python']"
      ]
     },
     "execution_count": 55,
     "metadata": {},
     "output_type": "execute_result"
    }
   ],
   "source": [
    "languages"
   ]
  },
  {
   "cell_type": "code",
   "execution_count": 56,
   "id": "fd90c88b",
   "metadata": {},
   "outputs": [
    {
     "ename": "ValueError",
     "evalue": "list.remove(x): x not in list",
     "output_type": "error",
     "traceback": [
      "\u001b[1;31m---------------------------------------------------------------------------\u001b[0m",
      "\u001b[1;31mValueError\u001b[0m                                Traceback (most recent call last)",
      "\u001b[1;32m~\\AppData\\Local\\Temp\\ipykernel_9548\\1661071445.py\u001b[0m in \u001b[0;36m<module>\u001b[1;34m\u001b[0m\n\u001b[1;32m----> 1\u001b[1;33m \u001b[0mlanguages\u001b[0m\u001b[1;33m.\u001b[0m\u001b[0mremove\u001b[0m\u001b[1;33m(\u001b[0m\u001b[1;34m\"Perl\"\u001b[0m\u001b[1;33m)\u001b[0m\u001b[1;33m\u001b[0m\u001b[1;33m\u001b[0m\u001b[0m\n\u001b[0m",
      "\u001b[1;31mValueError\u001b[0m: list.remove(x): x not in list"
     ]
    }
   ],
   "source": [
    "languages.remove(\"Perl\")"
   ]
  },
  {
   "cell_type": "markdown",
   "id": "fbc58688",
   "metadata": {},
   "source": [
    "# POP\n",
    "   Removes an element based on index by default index is-1"
   ]
  },
  {
   "cell_type": "code",
   "execution_count": 57,
   "id": "c0f550f1",
   "metadata": {},
   "outputs": [
    {
     "data": {
      "text/plain": [
       "'perl'"
      ]
     },
     "execution_count": 57,
     "metadata": {},
     "output_type": "execute_result"
    }
   ],
   "source": [
    "languages.pop(1)"
   ]
  },
  {
   "cell_type": "code",
   "execution_count": 58,
   "id": "14a7ae0e",
   "metadata": {},
   "outputs": [
    {
     "data": {
      "text/plain": [
       "['CPP', 'C#', 'Ruby', 'python']"
      ]
     },
     "execution_count": 58,
     "metadata": {},
     "output_type": "execute_result"
    }
   ],
   "source": [
    "languages"
   ]
  },
  {
   "cell_type": "code",
   "execution_count": 59,
   "id": "60dced6a",
   "metadata": {},
   "outputs": [
    {
     "data": {
      "text/plain": [
       "'python'"
      ]
     },
     "execution_count": 59,
     "metadata": {},
     "output_type": "execute_result"
    }
   ],
   "source": [
    "languages.pop()"
   ]
  },
  {
   "cell_type": "code",
   "execution_count": 60,
   "id": "3b7edf52",
   "metadata": {},
   "outputs": [
    {
     "data": {
      "text/plain": [
       "['CPP', 'C#', 'Ruby']"
      ]
     },
     "execution_count": 60,
     "metadata": {},
     "output_type": "execute_result"
    }
   ],
   "source": [
    "languages"
   ]
  },
  {
   "cell_type": "code",
   "execution_count": 61,
   "id": "a62c11d9",
   "metadata": {},
   "outputs": [],
   "source": [
    "languages.append(\"Perl\")"
   ]
  },
  {
   "cell_type": "code",
   "execution_count": 62,
   "id": "d00be3ff",
   "metadata": {},
   "outputs": [],
   "source": [
    "languages.append(\"Perl\")"
   ]
  },
  {
   "cell_type": "code",
   "execution_count": 63,
   "id": "bb4af3e1",
   "metadata": {},
   "outputs": [
    {
     "data": {
      "text/plain": [
       "['CPP', 'C#', 'Ruby', 'Perl', 'Perl']"
      ]
     },
     "execution_count": 63,
     "metadata": {},
     "output_type": "execute_result"
    }
   ],
   "source": [
    "languages"
   ]
  },
  {
   "cell_type": "code",
   "execution_count": 64,
   "id": "4e66dd41",
   "metadata": {},
   "outputs": [],
   "source": [
    "languages.remove(\"Perl\")"
   ]
  },
  {
   "cell_type": "code",
   "execution_count": 65,
   "id": "784a7f19",
   "metadata": {},
   "outputs": [
    {
     "data": {
      "text/plain": [
       "['CPP', 'C#', 'Ruby', 'Perl']"
      ]
     },
     "execution_count": 65,
     "metadata": {},
     "output_type": "execute_result"
    }
   ],
   "source": [
    "languages"
   ]
  },
  {
   "cell_type": "code",
   "execution_count": 85,
   "id": "009ff9ed",
   "metadata": {},
   "outputs": [
    {
     "data": {
      "text/plain": [
       "'Javascript'"
      ]
     },
     "execution_count": 85,
     "metadata": {},
     "output_type": "execute_result"
    }
   ],
   "source": [
    "languages[0]"
   ]
  },
  {
   "cell_type": "code",
   "execution_count": 86,
   "id": "d823b0b8",
   "metadata": {},
   "outputs": [],
   "source": [
    "languages[0]=\"CPP\""
   ]
  },
  {
   "cell_type": "code",
   "execution_count": 87,
   "id": "f72f7dcf",
   "metadata": {},
   "outputs": [
    {
     "data": {
      "text/plain": [
       "['CPP', 'Javascript']"
      ]
     },
     "execution_count": 87,
     "metadata": {},
     "output_type": "execute_result"
    }
   ],
   "source": [
    "languages"
   ]
  },
  {
   "cell_type": "markdown",
   "id": "45208530",
   "metadata": {},
   "source": [
    "# Using Del Key Word"
   ]
  },
  {
   "cell_type": "code",
   "execution_count": 69,
   "id": "1e0d7c6b",
   "metadata": {},
   "outputs": [],
   "source": [
    "languages.append(\"Rust\")"
   ]
  },
  {
   "cell_type": "code",
   "execution_count": 70,
   "id": "c8ae7ab7",
   "metadata": {},
   "outputs": [],
   "source": [
    "languages.append(\"scala\")"
   ]
  },
  {
   "cell_type": "code",
   "execution_count": 78,
   "id": "ed470df9",
   "metadata": {},
   "outputs": [],
   "source": [
    "languages.append(\"Javascript\")"
   ]
  },
  {
   "cell_type": "code",
   "execution_count": 79,
   "id": "fe20bad3",
   "metadata": {},
   "outputs": [
    {
     "data": {
      "text/plain": [
       "['CPP', 'C#', 'Perl', 'Rust', 'scala', 'Javascript', 'Javascript']"
      ]
     },
     "execution_count": 79,
     "metadata": {},
     "output_type": "execute_result"
    }
   ],
   "source": [
    "languages"
   ]
  },
  {
   "cell_type": "code",
   "execution_count": 80,
   "id": "a8830518",
   "metadata": {},
   "outputs": [
    {
     "data": {
      "text/plain": [
       "7"
      ]
     },
     "execution_count": 80,
     "metadata": {},
     "output_type": "execute_result"
    }
   ],
   "source": [
    "len(languages)"
   ]
  },
  {
   "cell_type": "code",
   "execution_count": 81,
   "id": "2b2c3649",
   "metadata": {},
   "outputs": [],
   "source": [
    "del languages[2]"
   ]
  },
  {
   "cell_type": "code",
   "execution_count": 82,
   "id": "b16a01e9",
   "metadata": {},
   "outputs": [
    {
     "data": {
      "text/plain": [
       "['CPP', 'C#', 'Rust', 'scala', 'Javascript', 'Javascript']"
      ]
     },
     "execution_count": 82,
     "metadata": {},
     "output_type": "execute_result"
    }
   ],
   "source": [
    "languages"
   ]
  },
  {
   "cell_type": "code",
   "execution_count": 83,
   "id": "2a3e2dbe",
   "metadata": {},
   "outputs": [],
   "source": [
    "del languages [:4]"
   ]
  },
  {
   "cell_type": "code",
   "execution_count": 95,
   "id": "afc09666",
   "metadata": {},
   "outputs": [
    {
     "ename": "NameError",
     "evalue": "name 'languages' is not defined",
     "output_type": "error",
     "traceback": [
      "\u001b[1;31m---------------------------------------------------------------------------\u001b[0m",
      "\u001b[1;31mNameError\u001b[0m                                 Traceback (most recent call last)",
      "\u001b[1;32m~\\AppData\\Local\\Temp\\ipykernel_9548\\3665537252.py\u001b[0m in \u001b[0;36m<module>\u001b[1;34m\u001b[0m\n\u001b[1;32m----> 1\u001b[1;33m \u001b[0mlanguages\u001b[0m\u001b[1;33m\u001b[0m\u001b[1;33m\u001b[0m\u001b[0m\n\u001b[0m",
      "\u001b[1;31mNameError\u001b[0m: name 'languages' is not defined"
     ]
    }
   ],
   "source": [
    "languages"
   ]
  },
  {
   "cell_type": "code",
   "execution_count": 90,
   "id": "e114047b",
   "metadata": {},
   "outputs": [],
   "source": [
    "#del languages"
   ]
  },
  {
   "cell_type": "markdown",
   "id": "248dc7b5",
   "metadata": {},
   "source": [
    "# Append(Using List)"
   ]
  },
  {
   "cell_type": "code",
   "execution_count": 96,
   "id": "1a8c6501",
   "metadata": {},
   "outputs": [],
   "source": [
    "languages=[\"Scala\", \"Javascript\"]"
   ]
  },
  {
   "cell_type": "code",
   "execution_count": 97,
   "id": "b9ac0f7c",
   "metadata": {},
   "outputs": [],
   "source": [
    "languages.append (\"c\")\n",
    "languages.append (\"Perl\")\n",
    "languages.append (\"VB\")\n",
    "languages.append (\"VC\")"
   ]
  },
  {
   "cell_type": "code",
   "execution_count": 98,
   "id": "504e0dd3",
   "metadata": {},
   "outputs": [
    {
     "data": {
      "text/plain": [
       "['Scala', 'Javascript', 'c', 'Perl', 'VB', 'VC']"
      ]
     },
     "execution_count": 98,
     "metadata": {},
     "output_type": "execute_result"
    }
   ],
   "source": [
    "languages"
   ]
  },
  {
   "cell_type": "code",
   "execution_count": 100,
   "id": "def59679",
   "metadata": {},
   "outputs": [],
   "source": [
    "nums=[100,200,300]"
   ]
  },
  {
   "cell_type": "code",
   "execution_count": 101,
   "id": "1db66a70",
   "metadata": {},
   "outputs": [],
   "source": [
    "languages.append(nums)"
   ]
  },
  {
   "cell_type": "code",
   "execution_count": 102,
   "id": "79bb0116",
   "metadata": {},
   "outputs": [
    {
     "data": {
      "text/plain": [
       "['Scala', 'Javascript', 'c', 'Perl', 'VB', 'VC', [100, 200, 300]]"
      ]
     },
     "execution_count": 102,
     "metadata": {},
     "output_type": "execute_result"
    }
   ],
   "source": [
    "languages"
   ]
  },
  {
   "cell_type": "code",
   "execution_count": 103,
   "id": "f9ab0b3a",
   "metadata": {},
   "outputs": [
    {
     "data": {
      "text/plain": [
       "100"
      ]
     },
     "execution_count": 103,
     "metadata": {},
     "output_type": "execute_result"
    }
   ],
   "source": [
    "languages[-1][0]"
   ]
  },
  {
   "cell_type": "code",
   "execution_count": 105,
   "id": "bac76d50",
   "metadata": {},
   "outputs": [],
   "source": [
    "s='WELCOME'\n",
    "languages.append(s)"
   ]
  },
  {
   "cell_type": "code",
   "execution_count": 106,
   "id": "68566d53",
   "metadata": {},
   "outputs": [
    {
     "data": {
      "text/plain": [
       "['Scala', 'Javascript', 'c', 'Perl', 'VB', 'VC', [100, 200, 300], 'WELCOME']"
      ]
     },
     "execution_count": 106,
     "metadata": {},
     "output_type": "execute_result"
    }
   ],
   "source": [
    "languages"
   ]
  },
  {
   "cell_type": "markdown",
   "id": "48cc9c4b",
   "metadata": {},
   "source": [
    "# Extend\n",
    "   - Extends the list with elements of the container/object passed\n",
    "   - Increases the length of the list by the length of the object used to extend"
   ]
  },
  {
   "cell_type": "code",
   "execution_count": 107,
   "id": "15b95598",
   "metadata": {},
   "outputs": [
    {
     "data": {
      "text/plain": [
       "['Scala', 'Javascript', 'c', 'Perl', 'VB', 'VC', [100, 200, 300], 'WELCOME']"
      ]
     },
     "execution_count": 107,
     "metadata": {},
     "output_type": "execute_result"
    }
   ],
   "source": [
    "languages"
   ]
  },
  {
   "cell_type": "code",
   "execution_count": 108,
   "id": "aea64ea8",
   "metadata": {},
   "outputs": [],
   "source": [
    "another_list=[\"TCS\",\"INFY\",\"IBM\"]"
   ]
  },
  {
   "cell_type": "code",
   "execution_count": 109,
   "id": "39c8ee55",
   "metadata": {},
   "outputs": [],
   "source": [
    "languages.extend(another_list)"
   ]
  },
  {
   "cell_type": "code",
   "execution_count": 110,
   "id": "ffa22865",
   "metadata": {},
   "outputs": [
    {
     "data": {
      "text/plain": [
       "['Scala',\n",
       " 'Javascript',\n",
       " 'c',\n",
       " 'Perl',\n",
       " 'VB',\n",
       " 'VC',\n",
       " [100, 200, 300],\n",
       " 'WELCOME',\n",
       " 'TCS',\n",
       " 'INFY',\n",
       " 'IBM']"
      ]
     },
     "execution_count": 110,
     "metadata": {},
     "output_type": "execute_result"
    }
   ],
   "source": [
    "languages"
   ]
  },
  {
   "cell_type": "code",
   "execution_count": 111,
   "id": "ff2b3721",
   "metadata": {},
   "outputs": [
    {
     "data": {
      "text/plain": [
       "'WELCOME'"
      ]
     },
     "execution_count": 111,
     "metadata": {},
     "output_type": "execute_result"
    }
   ],
   "source": [
    "s"
   ]
  },
  {
   "cell_type": "code",
   "execution_count": 112,
   "id": "cd28ca19",
   "metadata": {},
   "outputs": [],
   "source": [
    "languages.extend(s)"
   ]
  },
  {
   "cell_type": "code",
   "execution_count": 113,
   "id": "1061b770",
   "metadata": {},
   "outputs": [
    {
     "data": {
      "text/plain": [
       "['Scala',\n",
       " 'Javascript',\n",
       " 'c',\n",
       " 'Perl',\n",
       " 'VB',\n",
       " 'VC',\n",
       " [100, 200, 300],\n",
       " 'WELCOME',\n",
       " 'TCS',\n",
       " 'INFY',\n",
       " 'IBM',\n",
       " 'W',\n",
       " 'E',\n",
       " 'L',\n",
       " 'C',\n",
       " 'O',\n",
       " 'M',\n",
       " 'E']"
      ]
     },
     "execution_count": 113,
     "metadata": {},
     "output_type": "execute_result"
    }
   ],
   "source": [
    "languages"
   ]
  },
  {
   "cell_type": "code",
   "execution_count": 114,
   "id": "f98862c6",
   "metadata": {},
   "outputs": [
    {
     "name": "stdout",
     "output_type": "stream",
     "text": [
      "Help on method_descriptor:\n",
      "\n",
      "extend(self, iterable, /)\n",
      "    Extend list by appending elements from the iterable.\n",
      "\n"
     ]
    }
   ],
   "source": [
    "help(list.extend)"
   ]
  },
  {
   "cell_type": "markdown",
   "id": "52e90796",
   "metadata": {},
   "source": [
    "# Count"
   ]
  },
  {
   "cell_type": "code",
   "execution_count": 119,
   "id": "e5fa9031",
   "metadata": {},
   "outputs": [
    {
     "data": {
      "text/plain": [
       "1"
      ]
     },
     "execution_count": 119,
     "metadata": {},
     "output_type": "execute_result"
    }
   ],
   "source": [
    "languages. count (\"VB\")"
   ]
  },
  {
   "cell_type": "code",
   "execution_count": 120,
   "id": "b3c24986",
   "metadata": {},
   "outputs": [
    {
     "data": {
      "text/plain": [
       "0"
      ]
     },
     "execution_count": 120,
     "metadata": {},
     "output_type": "execute_result"
    }
   ],
   "source": [
    "languages.count (100)"
   ]
  },
  {
   "cell_type": "code",
   "execution_count": 122,
   "id": "25398078",
   "metadata": {},
   "outputs": [
    {
     "data": {
      "text/plain": [
       "1"
      ]
     },
     "execution_count": 122,
     "metadata": {},
     "output_type": "execute_result"
    }
   ],
   "source": [
    "languages.count (\"C\")"
   ]
  },
  {
   "cell_type": "code",
   "execution_count": 123,
   "id": "c1868082",
   "metadata": {},
   "outputs": [
    {
     "data": {
      "text/plain": [
       "0"
      ]
     },
     "execution_count": 123,
     "metadata": {},
     "output_type": "execute_result"
    }
   ],
   "source": [
    "languages.count(\"w\")"
   ]
  },
  {
   "cell_type": "markdown",
   "id": "bf593a6b",
   "metadata": {},
   "source": [
    "# Index"
   ]
  },
  {
   "cell_type": "code",
   "execution_count": 124,
   "id": "00f4d4bb",
   "metadata": {},
   "outputs": [
    {
     "data": {
      "text/plain": [
       "['Scala',\n",
       " 'Javascript',\n",
       " 'c',\n",
       " 'Perl',\n",
       " 'VB',\n",
       " 'VC',\n",
       " [100, 200, 300],\n",
       " 'WELCOME',\n",
       " 'TCS',\n",
       " 'INFY',\n",
       " 'IBM',\n",
       " 'W',\n",
       " 'E',\n",
       " 'L',\n",
       " 'C',\n",
       " 'O',\n",
       " 'M',\n",
       " 'E']"
      ]
     },
     "execution_count": 124,
     "metadata": {},
     "output_type": "execute_result"
    }
   ],
   "source": [
    "languages"
   ]
  },
  {
   "cell_type": "code",
   "execution_count": 125,
   "id": "9f4e6fcc",
   "metadata": {},
   "outputs": [
    {
     "data": {
      "text/plain": [
       "8"
      ]
     },
     "execution_count": 125,
     "metadata": {},
     "output_type": "execute_result"
    }
   ],
   "source": [
    "languages.index(\"TCS\")"
   ]
  },
  {
   "cell_type": "code",
   "execution_count": 126,
   "id": "63206cf2",
   "metadata": {},
   "outputs": [
    {
     "data": {
      "text/plain": [
       "14"
      ]
     },
     "execution_count": 126,
     "metadata": {},
     "output_type": "execute_result"
    }
   ],
   "source": [
    "languages.index(\"C\")"
   ]
  },
  {
   "cell_type": "code",
   "execution_count": 127,
   "id": "6518463f",
   "metadata": {},
   "outputs": [
    {
     "data": {
      "text/plain": [
       "2"
      ]
     },
     "execution_count": 127,
     "metadata": {},
     "output_type": "execute_result"
    }
   ],
   "source": [
    "languages.index(\"c\")"
   ]
  },
  {
   "cell_type": "code",
   "execution_count": 129,
   "id": "de0472bd",
   "metadata": {},
   "outputs": [
    {
     "data": {
      "text/plain": [
       "14"
      ]
     },
     "execution_count": 129,
     "metadata": {},
     "output_type": "execute_result"
    }
   ],
   "source": [
    "languages.index(\"C\",3)"
   ]
  },
  {
   "cell_type": "code",
   "execution_count": 132,
   "id": "93061dd6",
   "metadata": {},
   "outputs": [
    {
     "data": {
      "text/plain": [
       "6"
      ]
     },
     "execution_count": 132,
     "metadata": {},
     "output_type": "execute_result"
    }
   ],
   "source": [
    "languages.index ([100,200,300])"
   ]
  },
  {
   "cell_type": "markdown",
   "id": "68b83a9c",
   "metadata": {},
   "source": [
    "# Mutable Vs Immutable"
   ]
  },
  {
   "cell_type": "code",
   "execution_count": 134,
   "id": "598cc1ca",
   "metadata": {},
   "outputs": [
    {
     "data": {
      "text/plain": [
       "'WELCOME'"
      ]
     },
     "execution_count": 134,
     "metadata": {},
     "output_type": "execute_result"
    }
   ],
   "source": [
    "s"
   ]
  },
  {
   "cell_type": "code",
   "execution_count": 135,
   "id": "83ff600b",
   "metadata": {},
   "outputs": [],
   "source": [
    "languages =[\"Python\",\"Perl\", \"Ruby\"]"
   ]
  },
  {
   "cell_type": "code",
   "execution_count": 136,
   "id": "f4ab3e08",
   "metadata": {},
   "outputs": [],
   "source": [
    "languages[0]= \"Jawa\""
   ]
  },
  {
   "cell_type": "code",
   "execution_count": 137,
   "id": "14d86674",
   "metadata": {},
   "outputs": [
    {
     "data": {
      "text/plain": [
       "['Jawa', 'Perl', 'Ruby']"
      ]
     },
     "execution_count": 137,
     "metadata": {},
     "output_type": "execute_result"
    }
   ],
   "source": [
    "languages"
   ]
  },
  {
   "cell_type": "code",
   "execution_count": 138,
   "id": "14c5f363",
   "metadata": {},
   "outputs": [
    {
     "data": {
      "text/plain": [
       "'W'"
      ]
     },
     "execution_count": 138,
     "metadata": {},
     "output_type": "execute_result"
    }
   ],
   "source": [
    "s[0]"
   ]
  },
  {
   "cell_type": "code",
   "execution_count": 140,
   "id": "58141796",
   "metadata": {},
   "outputs": [
    {
     "ename": "TypeError",
     "evalue": "'str' object does not support item assignment",
     "output_type": "error",
     "traceback": [
      "\u001b[1;31m---------------------------------------------------------------------------\u001b[0m",
      "\u001b[1;31mTypeError\u001b[0m                                 Traceback (most recent call last)",
      "\u001b[1;32m~\\AppData\\Local\\Temp\\ipykernel_9548\\1826904100.py\u001b[0m in \u001b[0;36m<module>\u001b[1;34m\u001b[0m\n\u001b[1;32m----> 1\u001b[1;33m \u001b[0ms\u001b[0m\u001b[1;33m[\u001b[0m\u001b[1;36m0\u001b[0m\u001b[1;33m]\u001b[0m \u001b[1;33m=\u001b[0m \u001b[1;34m\"Z\"\u001b[0m\u001b[1;33m\u001b[0m\u001b[1;33m\u001b[0m\u001b[0m\n\u001b[0m",
      "\u001b[1;31mTypeError\u001b[0m: 'str' object does not support item assignment"
     ]
    }
   ],
   "source": [
    "s[0] = \"Z\""
   ]
  },
  {
   "cell_type": "code",
   "execution_count": 141,
   "id": "3354a3a0",
   "metadata": {},
   "outputs": [],
   "source": [
    "# Mutable= Lists, Dictionaries and sets\n",
    "# Immutable= Strings, Tuples, Integers, Floats, Booleans"
   ]
  },
  {
   "cell_type": "code",
   "execution_count": 142,
   "id": "8daf2eed",
   "metadata": {},
   "outputs": [
    {
     "data": {
      "text/plain": [
       "['Jawa', 'Perl', 'Ruby']"
      ]
     },
     "execution_count": 142,
     "metadata": {},
     "output_type": "execute_result"
    }
   ],
   "source": [
    "languages"
   ]
  },
  {
   "cell_type": "markdown",
   "id": "c4dc48db",
   "metadata": {},
   "source": [
    "# Sort"
   ]
  },
  {
   "cell_type": "code",
   "execution_count": 171,
   "id": "fe31bb13",
   "metadata": {},
   "outputs": [],
   "source": [
    "languages= ['Jawa', 'Pearl','Ruby']"
   ]
  },
  {
   "cell_type": "code",
   "execution_count": 172,
   "id": "4321b265",
   "metadata": {},
   "outputs": [
    {
     "data": {
      "text/plain": [
       "['Jawa', 'Pearl', 'Ruby']"
      ]
     },
     "execution_count": 172,
     "metadata": {},
     "output_type": "execute_result"
    }
   ],
   "source": [
    "languages"
   ]
  },
  {
   "cell_type": "code",
   "execution_count": 173,
   "id": "ec57d136",
   "metadata": {},
   "outputs": [
    {
     "data": {
      "text/plain": [
       "['Jawa', 'Pearl', 'Ruby']"
      ]
     },
     "execution_count": 173,
     "metadata": {},
     "output_type": "execute_result"
    }
   ],
   "source": [
    "languages"
   ]
  },
  {
   "cell_type": "code",
   "execution_count": 174,
   "id": "51fc2572",
   "metadata": {},
   "outputs": [],
   "source": [
    "languages.sort ()"
   ]
  },
  {
   "cell_type": "code",
   "execution_count": 175,
   "id": "9a71f0d1",
   "metadata": {},
   "outputs": [],
   "source": [
    "languages.append (\"C\")"
   ]
  },
  {
   "cell_type": "code",
   "execution_count": 176,
   "id": "f370bfef",
   "metadata": {},
   "outputs": [
    {
     "data": {
      "text/plain": [
       "['Jawa', 'Pearl', 'Ruby', 'C']"
      ]
     },
     "execution_count": 176,
     "metadata": {},
     "output_type": "execute_result"
    }
   ],
   "source": [
    "languages"
   ]
  },
  {
   "cell_type": "code",
   "execution_count": 177,
   "id": "412982a9",
   "metadata": {},
   "outputs": [],
   "source": [
    "languages.sort ()"
   ]
  },
  {
   "cell_type": "code",
   "execution_count": 178,
   "id": "940a25f6",
   "metadata": {},
   "outputs": [
    {
     "data": {
      "text/plain": [
       "['C', 'Jawa', 'Pearl', 'Ruby']"
      ]
     },
     "execution_count": 178,
     "metadata": {},
     "output_type": "execute_result"
    }
   ],
   "source": [
    "languages"
   ]
  },
  {
   "cell_type": "code",
   "execution_count": 179,
   "id": "5f1fc654",
   "metadata": {},
   "outputs": [
    {
     "name": "stdout",
     "output_type": "stream",
     "text": [
      "original: [200, 500, 300]\n",
      "sorted: [500, 300, 200]\n"
     ]
    }
   ],
   "source": [
    "nums= [200,500,300]\n",
    "print (\"original:\",nums)\n",
    "nums.sort (reverse=True)\n",
    "print (\"sorted:\",nums)"
   ]
  },
  {
   "cell_type": "markdown",
   "id": "20d6ce3e",
   "metadata": {},
   "source": [
    "## Tuples\n",
    "- Ordered Collection of Items\n",
    "- Syntax ( )\n",
    "- Immutable"
   ]
  },
  {
   "cell_type": "code",
   "execution_count": 181,
   "id": "7591c21a",
   "metadata": {},
   "outputs": [],
   "source": [
    "Vaccines = (\"Covaxin\", \" Covishield\", \"Sputnik\")"
   ]
  },
  {
   "cell_type": "code",
   "execution_count": 182,
   "id": "54d5306c",
   "metadata": {},
   "outputs": [
    {
     "data": {
      "text/plain": [
       "tuple"
      ]
     },
     "execution_count": 182,
     "metadata": {},
     "output_type": "execute_result"
    }
   ],
   "source": [
    "type (Vaccines)"
   ]
  },
  {
   "cell_type": "code",
   "execution_count": 183,
   "id": "1982a17d",
   "metadata": {},
   "outputs": [
    {
     "data": {
      "text/plain": [
       "3"
      ]
     },
     "execution_count": 183,
     "metadata": {},
     "output_type": "execute_result"
    }
   ],
   "source": [
    "len (Vaccines)"
   ]
  },
  {
   "cell_type": "code",
   "execution_count": 184,
   "id": "37aee291",
   "metadata": {},
   "outputs": [
    {
     "data": {
      "text/plain": [
       "'Covaxin'"
      ]
     },
     "execution_count": 184,
     "metadata": {},
     "output_type": "execute_result"
    }
   ],
   "source": [
    "Vaccines [0]"
   ]
  },
  {
   "cell_type": "code",
   "execution_count": 185,
   "id": "e6165219",
   "metadata": {},
   "outputs": [
    {
     "data": {
      "text/plain": [
       "('Covaxin', ' Covishield')"
      ]
     },
     "execution_count": 185,
     "metadata": {},
     "output_type": "execute_result"
    }
   ],
   "source": [
    "Vaccines [:2]"
   ]
  },
  {
   "cell_type": "code",
   "execution_count": 186,
   "id": "50461293",
   "metadata": {},
   "outputs": [
    {
     "data": {
      "text/plain": [
       "'Sputnik'"
      ]
     },
     "execution_count": 186,
     "metadata": {},
     "output_type": "execute_result"
    }
   ],
   "source": [
    "Vaccines [-1]"
   ]
  },
  {
   "cell_type": "code",
   "execution_count": 189,
   "id": "a696eda9",
   "metadata": {},
   "outputs": [
    {
     "data": {
      "text/plain": [
       "1"
      ]
     },
     "execution_count": 189,
     "metadata": {},
     "output_type": "execute_result"
    }
   ],
   "source": [
    "Vaccines.count(\"Covaxin\")"
   ]
  },
  {
   "cell_type": "code",
   "execution_count": 191,
   "id": "fd20080f",
   "metadata": {},
   "outputs": [
    {
     "ename": "TypeError",
     "evalue": "'tuple' object doesn't support item deletion",
     "output_type": "error",
     "traceback": [
      "\u001b[1;31m---------------------------------------------------------------------------\u001b[0m",
      "\u001b[1;31mTypeError\u001b[0m                                 Traceback (most recent call last)",
      "\u001b[1;32m~\\AppData\\Local\\Temp\\ipykernel_9548\\2991152150.py\u001b[0m in \u001b[0;36m<module>\u001b[1;34m\u001b[0m\n\u001b[1;32m----> 1\u001b[1;33m \u001b[1;32mdel\u001b[0m \u001b[0mVaccines\u001b[0m \u001b[1;33m[\u001b[0m\u001b[1;36m0\u001b[0m\u001b[1;33m]\u001b[0m\u001b[1;33m\u001b[0m\u001b[1;33m\u001b[0m\u001b[0m\n\u001b[0m",
      "\u001b[1;31mTypeError\u001b[0m: 'tuple' object doesn't support item deletion"
     ]
    }
   ],
   "source": [
    "del Vaccines [0]"
   ]
  },
  {
   "cell_type": "code",
   "execution_count": 192,
   "id": "4c6b4875",
   "metadata": {},
   "outputs": [
    {
     "ename": "TypeError",
     "evalue": "'tuple' object does not support item assignment",
     "output_type": "error",
     "traceback": [
      "\u001b[1;31m---------------------------------------------------------------------------\u001b[0m",
      "\u001b[1;31mTypeError\u001b[0m                                 Traceback (most recent call last)",
      "\u001b[1;32m~\\AppData\\Local\\Temp\\ipykernel_9548\\2778108406.py\u001b[0m in \u001b[0;36m<module>\u001b[1;34m\u001b[0m\n\u001b[1;32m----> 1\u001b[1;33m \u001b[0mVaccines\u001b[0m\u001b[1;33m[\u001b[0m\u001b[1;36m0\u001b[0m\u001b[1;33m]\u001b[0m\u001b[1;33m=\u001b[0m\u001b[1;34m\"Pfizer\"\u001b[0m\u001b[1;33m\u001b[0m\u001b[1;33m\u001b[0m\u001b[0m\n\u001b[0m",
      "\u001b[1;31mTypeError\u001b[0m: 'tuple' object does not support item assignment"
     ]
    }
   ],
   "source": [
    "Vaccines[0]=\"Pfizer\""
   ]
  },
  {
   "cell_type": "code",
   "execution_count": 193,
   "id": "ec3e0edc",
   "metadata": {},
   "outputs": [
    {
     "data": {
      "text/plain": [
       "<function tuple.count(value, /)>"
      ]
     },
     "execution_count": 193,
     "metadata": {},
     "output_type": "execute_result"
    }
   ],
   "source": [
    "Vaccines.count"
   ]
  },
  {
   "cell_type": "code",
   "execution_count": 194,
   "id": "8d5df551",
   "metadata": {},
   "outputs": [],
   "source": [
    "del Vaccines"
   ]
  },
  {
   "cell_type": "markdown",
   "id": "6485ce54",
   "metadata": {},
   "source": [
    "## PACKING\n",
    "- Multiple Variable Assignment"
   ]
  },
  {
   "cell_type": "code",
   "execution_count": 195,
   "id": "51f4cb6e",
   "metadata": {},
   "outputs": [],
   "source": [
    "rs = \"Rohit\", 34,\"num\""
   ]
  },
  {
   "cell_type": "code",
   "execution_count": 196,
   "id": "e809bb05",
   "metadata": {},
   "outputs": [
    {
     "data": {
      "text/plain": [
       "('Rohit', 34, 'num')"
      ]
     },
     "execution_count": 196,
     "metadata": {},
     "output_type": "execute_result"
    }
   ],
   "source": [
    "rs"
   ]
  },
  {
   "cell_type": "code",
   "execution_count": 197,
   "id": "61646c69",
   "metadata": {},
   "outputs": [
    {
     "name": "stdout",
     "output_type": "stream",
     "text": [
      "<class 'tuple'>\n"
     ]
    }
   ],
   "source": [
    "print (type (rs))"
   ]
  },
  {
   "cell_type": "code",
   "execution_count": 198,
   "id": "eb20f24a",
   "metadata": {},
   "outputs": [],
   "source": [
    "name,age,Franchiese= \"Virat\", 35, \"RCB\""
   ]
  },
  {
   "cell_type": "code",
   "execution_count": 199,
   "id": "fd6d1c8d",
   "metadata": {},
   "outputs": [
    {
     "data": {
      "text/plain": [
       "str"
      ]
     },
     "execution_count": 199,
     "metadata": {},
     "output_type": "execute_result"
    }
   ],
   "source": [
    "type (name)"
   ]
  },
  {
   "cell_type": "code",
   "execution_count": 200,
   "id": "f35a9dc0",
   "metadata": {},
   "outputs": [
    {
     "data": {
      "text/plain": [
       "1469898960512"
      ]
     },
     "execution_count": 200,
     "metadata": {},
     "output_type": "execute_result"
    }
   ],
   "source": [
    "id (rs)"
   ]
  },
  {
   "cell_type": "code",
   "execution_count": 201,
   "id": "8a7dc9eb",
   "metadata": {},
   "outputs": [
    {
     "data": {
      "text/plain": [
       "1469910618992"
      ]
     },
     "execution_count": 201,
     "metadata": {},
     "output_type": "execute_result"
    }
   ],
   "source": [
    "id (name)"
   ]
  },
  {
   "cell_type": "code",
   "execution_count": 202,
   "id": "a0b75296",
   "metadata": {},
   "outputs": [
    {
     "data": {
      "text/plain": [
       "1469783698800"
      ]
     },
     "execution_count": 202,
     "metadata": {},
     "output_type": "execute_result"
    }
   ],
   "source": [
    "id (age)"
   ]
  },
  {
   "cell_type": "code",
   "execution_count": 203,
   "id": "1b93fd62",
   "metadata": {},
   "outputs": [
    {
     "data": {
      "text/plain": [
       "1469908593392"
      ]
     },
     "execution_count": 203,
     "metadata": {},
     "output_type": "execute_result"
    }
   ],
   "source": [
    "id (Franchiese)"
   ]
  },
  {
   "cell_type": "code",
   "execution_count": 204,
   "id": "ede0ec38",
   "metadata": {},
   "outputs": [
    {
     "ename": "ValueError",
     "evalue": "too many values to unpack (expected 3)",
     "output_type": "error",
     "traceback": [
      "\u001b[1;31m---------------------------------------------------------------------------\u001b[0m",
      "\u001b[1;31mValueError\u001b[0m                                Traceback (most recent call last)",
      "\u001b[1;32m~\\AppData\\Local\\Temp\\ipykernel_9548\\4184533370.py\u001b[0m in \u001b[0;36m<module>\u001b[1;34m\u001b[0m\n\u001b[1;32m----> 1\u001b[1;33m \u001b[0mname\u001b[0m\u001b[1;33m,\u001b[0m\u001b[0mage\u001b[0m\u001b[1;33m,\u001b[0m\u001b[0mTeam\u001b[0m\u001b[1;33m=\u001b[0m \u001b[1;34m\"Virat\"\u001b[0m\u001b[1;33m,\u001b[0m \u001b[1;36m35\u001b[0m\u001b[1;33m,\u001b[0m \u001b[1;34m\"RCB\"\u001b[0m\u001b[1;33m,\u001b[0m\u001b[1;34m\"India\"\u001b[0m\u001b[1;33m\u001b[0m\u001b[1;33m\u001b[0m\u001b[0m\n\u001b[0m",
      "\u001b[1;31mValueError\u001b[0m: too many values to unpack (expected 3)"
     ]
    }
   ],
   "source": [
    "name,age,Team= \"Virat\", 35, \"RCB\",\"India\""
   ]
  },
  {
   "cell_type": "code",
   "execution_count": 205,
   "id": "727a9d60",
   "metadata": {},
   "outputs": [],
   "source": [
    "name,age,*Team= \"Virat\", 35, \"RCB\",\"India\""
   ]
  },
  {
   "cell_type": "code",
   "execution_count": 206,
   "id": "382f53a7",
   "metadata": {},
   "outputs": [],
   "source": [
    "x= [1,2,3,4,5,6,7]"
   ]
  },
  {
   "cell_type": "code",
   "execution_count": 207,
   "id": "77e0aa2e",
   "metadata": {},
   "outputs": [
    {
     "data": {
      "text/plain": [
       "[1, 2, 3, 4]"
      ]
     },
     "execution_count": 207,
     "metadata": {},
     "output_type": "execute_result"
    }
   ],
   "source": [
    "x[:4]"
   ]
  },
  {
   "cell_type": "code",
   "execution_count": 209,
   "id": "e2503894",
   "metadata": {},
   "outputs": [
    {
     "data": {
      "text/plain": [
       "['RCB', 'India']"
      ]
     },
     "execution_count": 209,
     "metadata": {},
     "output_type": "execute_result"
    }
   ],
   "source": [
    "Team"
   ]
  },
  {
   "cell_type": "code",
   "execution_count": null,
   "id": "4833a20e",
   "metadata": {},
   "outputs": [],
   "source": []
  }
 ],
 "metadata": {
  "kernelspec": {
   "display_name": "Python 3 (ipykernel)",
   "language": "python",
   "name": "python3"
  },
  "language_info": {
   "codemirror_mode": {
    "name": "ipython",
    "version": 3
   },
   "file_extension": ".py",
   "mimetype": "text/x-python",
   "name": "python",
   "nbconvert_exporter": "python",
   "pygments_lexer": "ipython3",
   "version": "3.9.13"
  }
 },
 "nbformat": 4,
 "nbformat_minor": 5
}
