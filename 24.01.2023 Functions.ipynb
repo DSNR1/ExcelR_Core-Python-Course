{
 "cells": [
  {
   "cell_type": "markdown",
   "id": "c4e77d96",
   "metadata": {},
   "source": [
    "# Functions\n",
    "- Code Reusability"
   ]
  },
  {
   "cell_type": "code",
   "execution_count": 3,
   "id": "54f524fc",
   "metadata": {},
   "outputs": [],
   "source": [
    "def simplefunction ():\n",
    "    print(\"Starting point of the function\")\n",
    "    print(\"Finishing point of the function\")"
   ]
  },
  {
   "cell_type": "code",
   "execution_count": 5,
   "id": "3a29ac97",
   "metadata": {},
   "outputs": [
    {
     "name": "stdout",
     "output_type": "stream",
     "text": [
      "Starting point of the function\n",
      "Finishing point of the function\n"
     ]
    }
   ],
   "source": [
    "simplefunction()"
   ]
  },
  {
   "cell_type": "code",
   "execution_count": 6,
   "id": "2140627a",
   "metadata": {},
   "outputs": [],
   "source": [
    "## Find maximum of numbers\n",
    "def maximumnumber(x1,x2):\n",
    "    if x1 > x2:\n",
    "        return x1\n",
    "    else:\n",
    "        return x2"
   ]
  },
  {
   "cell_type": "code",
   "execution_count": 8,
   "id": "19a4324e",
   "metadata": {},
   "outputs": [
    {
     "data": {
      "text/plain": [
       "8"
      ]
     },
     "execution_count": 8,
     "metadata": {},
     "output_type": "execute_result"
    }
   ],
   "source": [
    "maximumnumber(5,8)"
   ]
  },
  {
   "cell_type": "code",
   "execution_count": 12,
   "id": "c4c48d2f",
   "metadata": {},
   "outputs": [],
   "source": [
    "## Find maximum of numbers\n",
    "#shift+tab+tab\n",
    "def maximumnumber(x1,x2):\n",
    "    \"\"\"Function takes two numbers x1 and x2, returns maximum of those\"\"\"\n",
    "    if x1 > x2:\n",
    "        return x1\n",
    "    else:\n",
    "        return x2"
   ]
  },
  {
   "cell_type": "code",
   "execution_count": 21,
   "id": "9a0f969e",
   "metadata": {},
   "outputs": [],
   "source": [
    "#maximumnumber()"
   ]
  },
  {
   "cell_type": "code",
   "execution_count": 22,
   "id": "9d1e426c",
   "metadata": {},
   "outputs": [],
   "source": [
    "#type()"
   ]
  },
  {
   "cell_type": "markdown",
   "id": "8fe2d88d",
   "metadata": {},
   "source": [
    "# Factorial\n",
    "- iterative approach\n",
    "\n",
    "  5! = 5X4X3X2X1\n",
    "\n",
    "  4! = 4X3X2X1\n",
    "  \n",
    "  1! = 1\n",
    "  \n",
    "  0! = 1"
   ]
  },
  {
   "cell_type": "code",
   "execution_count": 44,
   "id": "ec56ada9",
   "metadata": {},
   "outputs": [],
   "source": [
    "def iterfactorial(num):\n",
    "    result =1\n",
    "    for i in range (1,num+1):\n",
    "        result=result*i\n",
    "        return result"
   ]
  },
  {
   "cell_type": "code",
   "execution_count": 45,
   "id": "527bf169",
   "metadata": {},
   "outputs": [
    {
     "name": "stdout",
     "output_type": "stream",
     "text": [
      "1\n"
     ]
    }
   ],
   "source": [
    "print (iterfactorial(5))"
   ]
  },
  {
   "cell_type": "code",
   "execution_count": 41,
   "id": "4a6c3dec",
   "metadata": {},
   "outputs": [
    {
     "name": "stdout",
     "output_type": "stream",
     "text": [
      "1\n"
     ]
    }
   ],
   "source": [
    "print(iterfactorial(10))"
   ]
  },
  {
   "cell_type": "code",
   "execution_count": 34,
   "id": "22d48c64",
   "metadata": {
    "scrolled": true
   },
   "outputs": [
    {
     "ename": "TypeError",
     "evalue": "can only concatenate str (not \"int\") to str",
     "output_type": "error",
     "traceback": [
      "\u001b[1;31m---------------------------------------------------------------------------\u001b[0m",
      "\u001b[1;31mTypeError\u001b[0m                                 Traceback (most recent call last)",
      "\u001b[1;32m~\\AppData\\Local\\Temp\\ipykernel_12076\\774198047.py\u001b[0m in \u001b[0;36m<module>\u001b[1;34m\u001b[0m\n\u001b[0;32m      1\u001b[0m \u001b[1;31m#num = input(\"Enter any number\")\u001b[0m\u001b[1;33m\u001b[0m\u001b[1;33m\u001b[0m\u001b[0m\n\u001b[1;32m----> 2\u001b[1;33m \u001b[0mprint\u001b[0m\u001b[1;33m(\u001b[0m\u001b[1;34m\"Results: \"\u001b[0m\u001b[1;33m,\u001b[0m\u001b[0miterfactorial\u001b[0m\u001b[1;33m(\u001b[0m\u001b[0mnum\u001b[0m\u001b[1;33m)\u001b[0m\u001b[1;33m)\u001b[0m\u001b[1;33m\u001b[0m\u001b[1;33m\u001b[0m\u001b[0m\n\u001b[0m",
      "\u001b[1;32m~\\AppData\\Local\\Temp\\ipykernel_12076\\3971723547.py\u001b[0m in \u001b[0;36miterfactorial\u001b[1;34m(num)\u001b[0m\n\u001b[0;32m      1\u001b[0m \u001b[1;32mdef\u001b[0m \u001b[0miterfactorial\u001b[0m\u001b[1;33m(\u001b[0m\u001b[0mnum\u001b[0m\u001b[1;33m)\u001b[0m\u001b[1;33m:\u001b[0m\u001b[1;33m\u001b[0m\u001b[1;33m\u001b[0m\u001b[0m\n\u001b[0;32m      2\u001b[0m     \u001b[0mresult\u001b[0m \u001b[1;33m=\u001b[0m \u001b[1;36m1\u001b[0m\u001b[1;33m\u001b[0m\u001b[1;33m\u001b[0m\u001b[0m\n\u001b[1;32m----> 3\u001b[1;33m     \u001b[1;32mfor\u001b[0m \u001b[0mi\u001b[0m \u001b[1;32min\u001b[0m \u001b[0mrange\u001b[0m\u001b[1;33m(\u001b[0m\u001b[1;36m1\u001b[0m\u001b[1;33m,\u001b[0m \u001b[0mnum\u001b[0m \u001b[1;33m+\u001b[0m \u001b[1;36m1\u001b[0m\u001b[1;33m)\u001b[0m\u001b[1;33m:\u001b[0m\u001b[1;33m\u001b[0m\u001b[1;33m\u001b[0m\u001b[0m\n\u001b[0m\u001b[0;32m      4\u001b[0m         \u001b[0mresult\u001b[0m \u001b[1;33m=\u001b[0m \u001b[0mresult\u001b[0m\u001b[1;33m*\u001b[0m\u001b[0mi\u001b[0m\u001b[1;33m\u001b[0m\u001b[1;33m\u001b[0m\u001b[0m\n\u001b[0;32m      5\u001b[0m         \u001b[1;32mreturn\u001b[0m \u001b[0mresult\u001b[0m\u001b[1;33m\u001b[0m\u001b[1;33m\u001b[0m\u001b[0m\n",
      "\u001b[1;31mTypeError\u001b[0m: can only concatenate str (not \"int\") to str"
     ]
    }
   ],
   "source": [
    "#num = input(\"Enter any number\")\n",
    "print(\"Results: \",iterfactorial(num))"
   ]
  },
  {
   "cell_type": "code",
   "execution_count": 35,
   "id": "e8cea786",
   "metadata": {},
   "outputs": [
    {
     "name": "stdout",
     "output_type": "stream",
     "text": [
      "Enter any number5\n",
      "Results:  1\n"
     ]
    }
   ],
   "source": [
    "num = int(input(\"Enter any number\"))\n",
    "print(\"Results: \",iterfactorial(num))"
   ]
  },
  {
   "cell_type": "markdown",
   "id": "20941774",
   "metadata": {},
   "source": [
    "# Factorial \n",
    "- Recursive approach"
   ]
  },
  {
   "cell_type": "code",
   "execution_count": 36,
   "id": "6eea1e9c",
   "metadata": {},
   "outputs": [],
   "source": [
    "#5! = 5 * 4!\n",
    "#4! = 4 * 3!\n",
    "#3! = 3 * 2!"
   ]
  },
  {
   "cell_type": "code",
   "execution_count": 37,
   "id": "ce95045e",
   "metadata": {},
   "outputs": [],
   "source": [
    "def recursive_factorial(num):\n",
    "    if num == 0 or num == 1:\n",
    "        return 1\n",
    "    else:\n",
    "        return num * recursive_factorial(num -1)"
   ]
  },
  {
   "cell_type": "code",
   "execution_count": 46,
   "id": "e41fe9c8",
   "metadata": {},
   "outputs": [
    {
     "data": {
      "text/plain": [
       "120"
      ]
     },
     "execution_count": 46,
     "metadata": {},
     "output_type": "execute_result"
    }
   ],
   "source": [
    "recursive_factorial(5)"
   ]
  },
  {
   "cell_type": "markdown",
   "id": "9efb8e2a",
   "metadata": {},
   "source": [
    "# Default arguments"
   ]
  },
  {
   "cell_type": "code",
   "execution_count": 47,
   "id": "e8775c5b",
   "metadata": {},
   "outputs": [],
   "source": [
    "def defaultargumentfunc(x):\n",
    "    print(\"The value of x is {}\".format(x))"
   ]
  },
  {
   "cell_type": "code",
   "execution_count": 48,
   "id": "fabb6ce8",
   "metadata": {},
   "outputs": [
    {
     "ename": "TypeError",
     "evalue": "defaultargumentfunc() missing 1 required positional argument: 'x'",
     "output_type": "error",
     "traceback": [
      "\u001b[1;31m---------------------------------------------------------------------------\u001b[0m",
      "\u001b[1;31mTypeError\u001b[0m                                 Traceback (most recent call last)",
      "\u001b[1;32m~\\AppData\\Local\\Temp\\ipykernel_12076\\3538541895.py\u001b[0m in \u001b[0;36m<module>\u001b[1;34m\u001b[0m\n\u001b[1;32m----> 1\u001b[1;33m \u001b[0mdefaultargumentfunc\u001b[0m\u001b[1;33m(\u001b[0m\u001b[1;33m)\u001b[0m\u001b[1;33m\u001b[0m\u001b[1;33m\u001b[0m\u001b[0m\n\u001b[0m",
      "\u001b[1;31mTypeError\u001b[0m: defaultargumentfunc() missing 1 required positional argument: 'x'"
     ]
    }
   ],
   "source": [
    "defaultargumentfunc()"
   ]
  },
  {
   "cell_type": "code",
   "execution_count": 49,
   "id": "e662154c",
   "metadata": {},
   "outputs": [
    {
     "name": "stdout",
     "output_type": "stream",
     "text": [
      "The value of x is 7\n"
     ]
    }
   ],
   "source": [
    "defaultargumentfunc(7)"
   ]
  },
  {
   "cell_type": "code",
   "execution_count": 51,
   "id": "bd51e571",
   "metadata": {},
   "outputs": [],
   "source": [
    "def defaultargumentfunc(x=7):\n",
    "    print(\"The value of x is {}\".format(x))"
   ]
  },
  {
   "cell_type": "code",
   "execution_count": 52,
   "id": "70d0960b",
   "metadata": {},
   "outputs": [
    {
     "name": "stdout",
     "output_type": "stream",
     "text": [
      "The value of x is 7\n"
     ]
    }
   ],
   "source": [
    "defaultargumentfunc()"
   ]
  },
  {
   "cell_type": "code",
   "execution_count": 53,
   "id": "587901d8",
   "metadata": {},
   "outputs": [
    {
     "ename": "SyntaxError",
     "evalue": "invalid syntax (3661795641.py, line 1)",
     "output_type": "error",
     "traceback": [
      "\u001b[1;36m  File \u001b[1;32m\"C:\\Users\\DSN RAJU\\AppData\\Local\\Temp\\ipykernel_12076\\3661795641.py\"\u001b[1;36m, line \u001b[1;32m1\u001b[0m\n\u001b[1;33m    def defaultargumentfunc(35, weight=80, height=180):\u001b[0m\n\u001b[1;37m                            ^\u001b[0m\n\u001b[1;31mSyntaxError\u001b[0m\u001b[1;31m:\u001b[0m invalid syntax\n"
     ]
    }
   ],
   "source": [
    "####def defaultargumentfunc(35, weight=80, height=180):\n",
    "    results = ((age*weight*height)/100)"
   ]
  },
  {
   "cell_type": "code",
   "execution_count": 54,
   "id": "73d16b50",
   "metadata": {},
   "outputs": [],
   "source": [
    "def defaultargumentfunc(a, b, c):\n",
    "    print(\"results {}, {}, {}\".format(a,b,c))"
   ]
  },
  {
   "cell_type": "code",
   "execution_count": 56,
   "id": "cbf1cde6",
   "metadata": {},
   "outputs": [
    {
     "name": "stdout",
     "output_type": "stream",
     "text": [
      "results 10, 20, 30\n"
     ]
    }
   ],
   "source": [
    "defaultargumentfunc(10,20,30)"
   ]
  },
  {
   "cell_type": "code",
   "execution_count": 57,
   "id": "45fb04d3",
   "metadata": {},
   "outputs": [
    {
     "name": "stdout",
     "output_type": "stream",
     "text": [
      "results 10, 20, 30\n"
     ]
    }
   ],
   "source": [
    "defaultargumentfunc(10,b=20,c=30)"
   ]
  },
  {
   "cell_type": "code",
   "execution_count": 58,
   "id": "13d73f60",
   "metadata": {},
   "outputs": [
    {
     "name": "stdout",
     "output_type": "stream",
     "text": [
      "results 20, 10, 30\n"
     ]
    }
   ],
   "source": [
    "defaultargumentfunc(b=10,a=20,c=30)"
   ]
  },
  {
   "cell_type": "code",
   "execution_count": 60,
   "id": "44333565",
   "metadata": {},
   "outputs": [
    {
     "ename": "SyntaxError",
     "evalue": "positional argument follows keyword argument (961444573.py, line 1)",
     "output_type": "error",
     "traceback": [
      "\u001b[1;36m  File \u001b[1;32m\"C:\\Users\\DSN RAJU\\AppData\\Local\\Temp\\ipykernel_12076\\961444573.py\"\u001b[1;36m, line \u001b[1;32m1\u001b[0m\n\u001b[1;33m    defaultargumentfunc(b=10, 20,c=30)\u001b[0m\n\u001b[1;37m                                     ^\u001b[0m\n\u001b[1;31mSyntaxError\u001b[0m\u001b[1;31m:\u001b[0m positional argument follows keyword argument\n"
     ]
    }
   ],
   "source": [
    "defaultargumentfunc(b=10, 20,c=30)"
   ]
  },
  {
   "cell_type": "markdown",
   "id": "73b80ac7",
   "metadata": {},
   "source": [
    "## Lambda Function\n",
    "- Anonymous Functions\n",
    "- One liners"
   ]
  },
  {
   "cell_type": "code",
   "execution_count": 64,
   "id": "51d7ff35",
   "metadata": {},
   "outputs": [],
   "source": [
    "def squares(x):\n",
    "    return x * x"
   ]
  },
  {
   "cell_type": "code",
   "execution_count": 65,
   "id": "832d1fda",
   "metadata": {},
   "outputs": [
    {
     "data": {
      "text/plain": [
       "25"
      ]
     },
     "execution_count": 65,
     "metadata": {},
     "output_type": "execute_result"
    }
   ],
   "source": [
    "squares(5)"
   ]
  },
  {
   "cell_type": "code",
   "execution_count": 67,
   "id": "92f5c81b",
   "metadata": {},
   "outputs": [],
   "source": [
    "f= lambda x : x*x"
   ]
  },
  {
   "cell_type": "code",
   "execution_count": 68,
   "id": "563d60a6",
   "metadata": {},
   "outputs": [
    {
     "data": {
      "text/plain": [
       "25"
      ]
     },
     "execution_count": 68,
     "metadata": {},
     "output_type": "execute_result"
    }
   ],
   "source": [
    "f(5)"
   ]
  },
  {
   "cell_type": "code",
   "execution_count": 69,
   "id": "4ebb4f03",
   "metadata": {},
   "outputs": [],
   "source": [
    "multiply = lambda x,y : x*y"
   ]
  },
  {
   "cell_type": "code",
   "execution_count": 70,
   "id": "753f5d03",
   "metadata": {},
   "outputs": [
    {
     "data": {
      "text/plain": [
       "6"
      ]
     },
     "execution_count": 70,
     "metadata": {},
     "output_type": "execute_result"
    }
   ],
   "source": [
    "multiply(2,3)"
   ]
  },
  {
   "cell_type": "code",
   "execution_count": 71,
   "id": "d6301944",
   "metadata": {},
   "outputs": [],
   "source": [
    "def mult(x,y):\n",
    "    return x*y"
   ]
  },
  {
   "cell_type": "code",
   "execution_count": 72,
   "id": "8c3a36f8",
   "metadata": {},
   "outputs": [
    {
     "data": {
      "text/plain": [
       "6"
      ]
     },
     "execution_count": 72,
     "metadata": {},
     "output_type": "execute_result"
    }
   ],
   "source": [
    "mult(2,3)"
   ]
  },
  {
   "cell_type": "code",
   "execution_count": 73,
   "id": "696f4bb3",
   "metadata": {},
   "outputs": [
    {
     "data": {
      "text/plain": [
       "6"
      ]
     },
     "execution_count": 73,
     "metadata": {},
     "output_type": "execute_result"
    }
   ],
   "source": [
    "(lambda x,y : x*y)(2,3)"
   ]
  },
  {
   "cell_type": "code",
   "execution_count": 74,
   "id": "feed47fd",
   "metadata": {},
   "outputs": [
    {
     "data": {
      "text/plain": [
       "5"
      ]
     },
     "execution_count": 74,
     "metadata": {},
     "output_type": "execute_result"
    }
   ],
   "source": [
    "(lambda x,y : x+y)(2,3)"
   ]
  },
  {
   "cell_type": "code",
   "execution_count": null,
   "id": "3077b975",
   "metadata": {},
   "outputs": [],
   "source": []
  }
 ],
 "metadata": {
  "kernelspec": {
   "display_name": "Python 3 (ipykernel)",
   "language": "python",
   "name": "python3"
  },
  "language_info": {
   "codemirror_mode": {
    "name": "ipython",
    "version": 3
   },
   "file_extension": ".py",
   "mimetype": "text/x-python",
   "name": "python",
   "nbconvert_exporter": "python",
   "pygments_lexer": "ipython3",
   "version": "3.9.13"
  }
 },
 "nbformat": 4,
 "nbformat_minor": 5
}
