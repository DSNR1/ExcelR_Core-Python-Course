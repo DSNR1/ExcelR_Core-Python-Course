{
 "cells": [
  {
   "cell_type": "code",
   "execution_count": 1,
   "id": "c6ecda44",
   "metadata": {},
   "outputs": [],
   "source": [
    "players = (\"Virat\", \"RCB\", [100, 120, 45, 60], \"India\")"
   ]
  },
  {
   "cell_type": "code",
   "execution_count": 2,
   "id": "54bec12c",
   "metadata": {},
   "outputs": [
    {
     "data": {
      "text/plain": [
       "('Virat', 'RCB', [100, 120, 45, 60], 'India')"
      ]
     },
     "execution_count": 2,
     "metadata": {},
     "output_type": "execute_result"
    }
   ],
   "source": [
    "players"
   ]
  },
  {
   "cell_type": "code",
   "execution_count": 3,
   "id": "d2523c6b",
   "metadata": {},
   "outputs": [
    {
     "ename": "TypeError",
     "evalue": "'tuple' object does not support item assignment",
     "output_type": "error",
     "traceback": [
      "\u001b[1;31m---------------------------------------------------------------------------\u001b[0m",
      "\u001b[1;31mTypeError\u001b[0m                                 Traceback (most recent call last)",
      "Input \u001b[1;32mIn [3]\u001b[0m, in \u001b[0;36m<cell line: 1>\u001b[1;34m()\u001b[0m\n\u001b[1;32m----> 1\u001b[0m players[\u001b[38;5;241m0\u001b[39m] \u001b[38;5;241m=\u001b[39m \u001b[38;5;124m\"\u001b[39m\u001b[38;5;124mVirat Kohli\u001b[39m\u001b[38;5;124m\"\u001b[39m\n",
      "\u001b[1;31mTypeError\u001b[0m: 'tuple' object does not support item assignment"
     ]
    }
   ],
   "source": [
    "players[0] = \"Virat Kohli\""
   ]
  },
  {
   "cell_type": "code",
   "execution_count": 4,
   "id": "b461d8f8",
   "metadata": {},
   "outputs": [
    {
     "data": {
      "text/plain": [
       "[100, 120, 45, 60]"
      ]
     },
     "execution_count": 4,
     "metadata": {},
     "output_type": "execute_result"
    }
   ],
   "source": [
    "players[2]"
   ]
  },
  {
   "cell_type": "code",
   "execution_count": 5,
   "id": "555eafa3",
   "metadata": {},
   "outputs": [],
   "source": [
    "players[2].append(50)"
   ]
  },
  {
   "cell_type": "code",
   "execution_count": 6,
   "id": "ac55f34d",
   "metadata": {},
   "outputs": [
    {
     "ename": "TypeError",
     "evalue": "'tuple' object does not support item assignment",
     "output_type": "error",
     "traceback": [
      "\u001b[1;31m---------------------------------------------------------------------------\u001b[0m",
      "\u001b[1;31mTypeError\u001b[0m                                 Traceback (most recent call last)",
      "Input \u001b[1;32mIn [6]\u001b[0m, in \u001b[0;36m<cell line: 1>\u001b[1;34m()\u001b[0m\n\u001b[1;32m----> 1\u001b[0m players[\u001b[38;5;241m2\u001b[39m] \u001b[38;5;241m=\u001b[39m \u001b[38;5;124m\"\u001b[39m\u001b[38;5;124mScore\u001b[39m\u001b[38;5;124m\"\u001b[39m\n",
      "\u001b[1;31mTypeError\u001b[0m: 'tuple' object does not support item assignment"
     ]
    }
   ],
   "source": [
    "players[2] = \"Score\""
   ]
  },
  {
   "cell_type": "code",
   "execution_count": 8,
   "id": "e19ad622",
   "metadata": {},
   "outputs": [],
   "source": [
    "players[2][0] = 110"
   ]
  },
  {
   "cell_type": "code",
   "execution_count": 9,
   "id": "0fdff30e",
   "metadata": {},
   "outputs": [
    {
     "data": {
      "text/plain": [
       "('Virat', 'RCB', [110, 120, 45, 60, 50], 'India')"
      ]
     },
     "execution_count": 9,
     "metadata": {},
     "output_type": "execute_result"
    }
   ],
   "source": [
    "players"
   ]
  },
  {
   "cell_type": "code",
   "execution_count": 10,
   "id": "0a6d67b1",
   "metadata": {},
   "outputs": [],
   "source": [
    "players = (\"Virat\", \"RCB\", [100], \"India\")"
   ]
  },
  {
   "cell_type": "code",
   "execution_count": 11,
   "id": "c511ce28",
   "metadata": {},
   "outputs": [],
   "source": [
    "players[2][0] = 110 "
   ]
  },
  {
   "cell_type": "code",
   "execution_count": 13,
   "id": "dd13d17d",
   "metadata": {},
   "outputs": [],
   "source": [
    "players[2].append(135)"
   ]
  },
  {
   "cell_type": "code",
   "execution_count": 14,
   "id": "4855c9f1",
   "metadata": {},
   "outputs": [
    {
     "data": {
      "text/plain": [
       "('Virat', 'RCB', [110, 135], 'India')"
      ]
     },
     "execution_count": 14,
     "metadata": {},
     "output_type": "execute_result"
    }
   ],
   "source": [
    "players"
   ]
  },
  {
   "cell_type": "code",
   "execution_count": 15,
   "id": "60656601",
   "metadata": {},
   "outputs": [],
   "source": [
    "x = [1,2,3,3,(2,3,4),5]"
   ]
  },
  {
   "cell_type": "code",
   "execution_count": 16,
   "id": "8d85fdd8",
   "metadata": {},
   "outputs": [],
   "source": [
    "x.append(6)"
   ]
  },
  {
   "cell_type": "code",
   "execution_count": 17,
   "id": "b2a9ee02",
   "metadata": {},
   "outputs": [
    {
     "data": {
      "text/plain": [
       "[1, 2, 3, 3, (2, 3, 4), 5, 6]"
      ]
     },
     "execution_count": 17,
     "metadata": {},
     "output_type": "execute_result"
    }
   ],
   "source": [
    "x"
   ]
  },
  {
   "cell_type": "code",
   "execution_count": 20,
   "id": "85b48a6e",
   "metadata": {},
   "outputs": [
    {
     "ename": "TypeError",
     "evalue": "'tuple' object does not support item assignment",
     "output_type": "error",
     "traceback": [
      "\u001b[1;31m---------------------------------------------------------------------------\u001b[0m",
      "\u001b[1;31mTypeError\u001b[0m                                 Traceback (most recent call last)",
      "Input \u001b[1;32mIn [20]\u001b[0m, in \u001b[0;36m<cell line: 1>\u001b[1;34m()\u001b[0m\n\u001b[1;32m----> 1\u001b[0m x[\u001b[38;5;241m4\u001b[39m][\u001b[38;5;241m0\u001b[39m] \u001b[38;5;241m=\u001b[39m \u001b[38;5;241m10\u001b[39m\n",
      "\u001b[1;31mTypeError\u001b[0m: 'tuple' object does not support item assignment"
     ]
    }
   ],
   "source": [
    "x[4][0] = 10"
   ]
  },
  {
   "cell_type": "markdown",
   "id": "5d36bc60",
   "metadata": {},
   "source": [
    "## IN Operator"
   ]
  },
  {
   "cell_type": "code",
   "execution_count": 21,
   "id": "926ac75b",
   "metadata": {},
   "outputs": [
    {
     "data": {
      "text/plain": [
       "('Virat', 'RCB', [110, 135], 'India')"
      ]
     },
     "execution_count": 21,
     "metadata": {},
     "output_type": "execute_result"
    }
   ],
   "source": [
    "players"
   ]
  },
  {
   "cell_type": "code",
   "execution_count": 22,
   "id": "7f85dd89",
   "metadata": {},
   "outputs": [
    {
     "data": {
      "text/plain": [
       "True"
      ]
     },
     "execution_count": 22,
     "metadata": {},
     "output_type": "execute_result"
    }
   ],
   "source": [
    "\"Virat\" in players"
   ]
  },
  {
   "cell_type": "code",
   "execution_count": 23,
   "id": "37230408",
   "metadata": {},
   "outputs": [
    {
     "data": {
      "text/plain": [
       "False"
      ]
     },
     "execution_count": 23,
     "metadata": {},
     "output_type": "execute_result"
    }
   ],
   "source": [
    "\"Rohit\" in players"
   ]
  },
  {
   "cell_type": "code",
   "execution_count": 24,
   "id": "cc54dcb9",
   "metadata": {},
   "outputs": [],
   "source": [
    "s = \"WELCOME\""
   ]
  },
  {
   "cell_type": "code",
   "execution_count": 25,
   "id": "175abb6a",
   "metadata": {},
   "outputs": [
    {
     "data": {
      "text/plain": [
       "True"
      ]
     },
     "execution_count": 25,
     "metadata": {},
     "output_type": "execute_result"
    }
   ],
   "source": [
    "\"W\" in s"
   ]
  },
  {
   "cell_type": "markdown",
   "id": "3dba67fa",
   "metadata": {},
   "source": [
    "## Misc - Strings"
   ]
  },
  {
   "cell_type": "code",
   "execution_count": 26,
   "id": "5addab8d",
   "metadata": {},
   "outputs": [],
   "source": [
    "location = \"C:\\newfolder\""
   ]
  },
  {
   "cell_type": "code",
   "execution_count": 27,
   "id": "7fffe09e",
   "metadata": {},
   "outputs": [
    {
     "name": "stdout",
     "output_type": "stream",
     "text": [
      "C:\n",
      "ewfolder\n"
     ]
    }
   ],
   "source": [
    "print(location)"
   ]
  },
  {
   "cell_type": "code",
   "execution_count": 28,
   "id": "4c512365",
   "metadata": {},
   "outputs": [],
   "source": [
    "location = \"C:\\\\newfolder\""
   ]
  },
  {
   "cell_type": "code",
   "execution_count": 29,
   "id": "9f6e6ffe",
   "metadata": {},
   "outputs": [
    {
     "name": "stdout",
     "output_type": "stream",
     "text": [
      "C:\\newfolder\n"
     ]
    }
   ],
   "source": [
    "print(location)"
   ]
  },
  {
   "cell_type": "code",
   "execution_count": 30,
   "id": "010ab1a5",
   "metadata": {},
   "outputs": [],
   "source": [
    "location = r\"C:\\newfolder\""
   ]
  },
  {
   "cell_type": "code",
   "execution_count": 31,
   "id": "e426ab15",
   "metadata": {},
   "outputs": [
    {
     "name": "stdout",
     "output_type": "stream",
     "text": [
      "C:\\newfolder\n"
     ]
    }
   ],
   "source": [
    "print(location)"
   ]
  },
  {
   "cell_type": "code",
   "execution_count": null,
   "id": "7683c438",
   "metadata": {},
   "outputs": [],
   "source": [
    "#r => raw string"
   ]
  },
  {
   "cell_type": "code",
   "execution_count": 32,
   "id": "dcec5816",
   "metadata": {},
   "outputs": [],
   "source": [
    "location = \"C:\\nnewfolder\""
   ]
  },
  {
   "cell_type": "code",
   "execution_count": 33,
   "id": "b9e491b5",
   "metadata": {},
   "outputs": [
    {
     "name": "stdout",
     "output_type": "stream",
     "text": [
      "C:\n",
      "newfolder\n"
     ]
    }
   ],
   "source": [
    "print(location)"
   ]
  },
  {
   "cell_type": "markdown",
   "id": "9b702ce5",
   "metadata": {},
   "source": [
    "# Format"
   ]
  },
  {
   "cell_type": "code",
   "execution_count": 34,
   "id": "691fa420",
   "metadata": {},
   "outputs": [],
   "source": [
    "sessioncount = 10"
   ]
  },
  {
   "cell_type": "code",
   "execution_count": 35,
   "id": "f70fe8e9",
   "metadata": {},
   "outputs": [],
   "source": [
    "chapters = 8"
   ]
  },
  {
   "cell_type": "code",
   "execution_count": 36,
   "id": "212eaefb",
   "metadata": {},
   "outputs": [
    {
     "name": "stdout",
     "output_type": "stream",
     "text": [
      "10\n"
     ]
    }
   ],
   "source": [
    "print(sessioncount)"
   ]
  },
  {
   "cell_type": "code",
   "execution_count": 37,
   "id": "312547c5",
   "metadata": {},
   "outputs": [
    {
     "name": "stdout",
     "output_type": "stream",
     "text": [
      "8\n"
     ]
    }
   ],
   "source": [
    "print(chapters)"
   ]
  },
  {
   "cell_type": "code",
   "execution_count": 38,
   "id": "61d4aa04",
   "metadata": {},
   "outputs": [
    {
     "ename": "TypeError",
     "evalue": "can only concatenate str (not \"int\") to str",
     "output_type": "error",
     "traceback": [
      "\u001b[1;31m---------------------------------------------------------------------------\u001b[0m",
      "\u001b[1;31mTypeError\u001b[0m                                 Traceback (most recent call last)",
      "Input \u001b[1;32mIn [38]\u001b[0m, in \u001b[0;36m<cell line: 1>\u001b[1;34m()\u001b[0m\n\u001b[1;32m----> 1\u001b[0m msg \u001b[38;5;241m=\u001b[39m \u001b[38;5;124;43m\"\u001b[39;49m\u001b[38;5;124;43mThere will be \u001b[39;49m\u001b[38;5;124;43m\"\u001b[39;49m\u001b[43m \u001b[49m\u001b[38;5;241;43m+\u001b[39;49m\u001b[43m \u001b[49m\u001b[43mchapters\u001b[49m\n",
      "\u001b[1;31mTypeError\u001b[0m: can only concatenate str (not \"int\") to str"
     ]
    }
   ],
   "source": [
    "msg = \"There will be \" + chapters"
   ]
  },
  {
   "cell_type": "code",
   "execution_count": 39,
   "id": "890bb15c",
   "metadata": {},
   "outputs": [],
   "source": [
    "msg = \"There will be \" + str(chapters)"
   ]
  },
  {
   "cell_type": "code",
   "execution_count": 43,
   "id": "e526dff0",
   "metadata": {},
   "outputs": [],
   "source": [
    "msg = \"There will be \" + str(chapters) + \"chapters in the course, spanned across \" + str(sessioncount) + \" sessions\""
   ]
  },
  {
   "cell_type": "code",
   "execution_count": 44,
   "id": "f8317642",
   "metadata": {},
   "outputs": [
    {
     "name": "stdout",
     "output_type": "stream",
     "text": [
      "There will be 8chapters in the course, spanned across 10 sessions\n"
     ]
    }
   ],
   "source": [
    "print(msg)"
   ]
  },
  {
   "cell_type": "code",
   "execution_count": 47,
   "id": "8a76e925",
   "metadata": {},
   "outputs": [
    {
     "name": "stdout",
     "output_type": "stream",
     "text": [
      "There will be 8 chapters in the course, spanned across 10 sessions\n"
     ]
    }
   ],
   "source": [
    "fmsg = \"There will be {} chapters in the course, spanned across {} sessions\".format(chapters,sessioncount)\n",
    "print(fmsg)"
   ]
  },
  {
   "cell_type": "code",
   "execution_count": 49,
   "id": "712de668",
   "metadata": {},
   "outputs": [],
   "source": [
    "fmsg = \"There will be {} chapters in the course, spanned across {} sessions. \\\n",
    "The {} sessions are scheduled over weekday\".format(chapters,sessioncount,sessioncount )"
   ]
  },
  {
   "cell_type": "code",
   "execution_count": 50,
   "id": "e255713c",
   "metadata": {},
   "outputs": [
    {
     "data": {
      "text/plain": [
       "'There will be 8 chapters in the course, spanned across 10 sessions. The 10 sessions are scheduled over weekday'"
      ]
     },
     "execution_count": 50,
     "metadata": {},
     "output_type": "execute_result"
    }
   ],
   "source": [
    "fmsg"
   ]
  },
  {
   "cell_type": "code",
   "execution_count": 51,
   "id": "6a6a6c07",
   "metadata": {},
   "outputs": [],
   "source": [
    "fmsg = \"There will be {0} chapters in the course, spanned across {1} sessions. \\\n",
    "The {1} sessions are scheduled over weekday\".format(chapters,sessioncount)"
   ]
  },
  {
   "cell_type": "code",
   "execution_count": 52,
   "id": "b19b77fc",
   "metadata": {},
   "outputs": [
    {
     "data": {
      "text/plain": [
       "'There will be 8 chapters in the course, spanned across 10 sessions. The 10 sessions are scheduled over weekday'"
      ]
     },
     "execution_count": 52,
     "metadata": {},
     "output_type": "execute_result"
    }
   ],
   "source": [
    "fmsg"
   ]
  },
  {
   "cell_type": "markdown",
   "id": "36f4e7d2",
   "metadata": {},
   "source": [
    "# Dictionaries\n",
    " - Collection of key-value pairs\n",
    " - {}\n",
    " - Mutable"
   ]
  },
  {
   "cell_type": "code",
   "execution_count": 76,
   "id": "f4c5157d",
   "metadata": {},
   "outputs": [],
   "source": [
    "fruits = {\"a\":\"apple\", \"b\":\"banana\", \"c\":\"cherry\",\"c\":\"custard\"}"
   ]
  },
  {
   "cell_type": "code",
   "execution_count": 77,
   "id": "5d0f521f",
   "metadata": {},
   "outputs": [
    {
     "data": {
      "text/plain": [
       "{'a': 'apple', 'b': 'banana', 'c': 'custard'}"
      ]
     },
     "execution_count": 77,
     "metadata": {},
     "output_type": "execute_result"
    }
   ],
   "source": [
    "fruits"
   ]
  },
  {
   "cell_type": "code",
   "execution_count": 54,
   "id": "54219dab",
   "metadata": {},
   "outputs": [
    {
     "name": "stdout",
     "output_type": "stream",
     "text": [
      "{'a': 'apple', 'b': 'banana', 'c': 'cherry'}\n"
     ]
    }
   ],
   "source": [
    "print(fruits)"
   ]
  },
  {
   "cell_type": "code",
   "execution_count": 55,
   "id": "8f96692d",
   "metadata": {},
   "outputs": [
    {
     "data": {
      "text/plain": [
       "dict"
      ]
     },
     "execution_count": 55,
     "metadata": {},
     "output_type": "execute_result"
    }
   ],
   "source": [
    "type(fruits)"
   ]
  },
  {
   "cell_type": "code",
   "execution_count": 56,
   "id": "ae52d6a3",
   "metadata": {},
   "outputs": [
    {
     "data": {
      "text/plain": [
       "3"
      ]
     },
     "execution_count": 56,
     "metadata": {},
     "output_type": "execute_result"
    }
   ],
   "source": [
    "len(fruits)"
   ]
  },
  {
   "cell_type": "code",
   "execution_count": 57,
   "id": "c14fa605",
   "metadata": {},
   "outputs": [
    {
     "data": {
      "text/plain": [
       "'apple'"
      ]
     },
     "execution_count": 57,
     "metadata": {},
     "output_type": "execute_result"
    }
   ],
   "source": [
    "fruits[\"a\"]"
   ]
  },
  {
   "cell_type": "code",
   "execution_count": 58,
   "id": "03b322d4",
   "metadata": {},
   "outputs": [
    {
     "ename": "KeyError",
     "evalue": "'d'",
     "output_type": "error",
     "traceback": [
      "\u001b[1;31m---------------------------------------------------------------------------\u001b[0m",
      "\u001b[1;31mKeyError\u001b[0m                                  Traceback (most recent call last)",
      "Input \u001b[1;32mIn [58]\u001b[0m, in \u001b[0;36m<cell line: 1>\u001b[1;34m()\u001b[0m\n\u001b[1;32m----> 1\u001b[0m \u001b[43mfruits\u001b[49m\u001b[43m[\u001b[49m\u001b[38;5;124;43m\"\u001b[39;49m\u001b[38;5;124;43md\u001b[39;49m\u001b[38;5;124;43m\"\u001b[39;49m\u001b[43m]\u001b[49m\n",
      "\u001b[1;31mKeyError\u001b[0m: 'd'"
     ]
    }
   ],
   "source": [
    "fruits[\"d\"]"
   ]
  },
  {
   "cell_type": "code",
   "execution_count": 63,
   "id": "99d6779d",
   "metadata": {},
   "outputs": [],
   "source": [
    "fruits[\"p\"] = \"papaya\""
   ]
  },
  {
   "cell_type": "code",
   "execution_count": 60,
   "id": "96a840cb",
   "metadata": {},
   "outputs": [
    {
     "data": {
      "text/plain": [
       "{'a': 'apple', 'b': 'banana', 'c': 'cherry', 'p': 'papaya'}"
      ]
     },
     "execution_count": 60,
     "metadata": {},
     "output_type": "execute_result"
    }
   ],
   "source": [
    "fruits"
   ]
  },
  {
   "cell_type": "code",
   "execution_count": 61,
   "id": "29dc2c6b",
   "metadata": {},
   "outputs": [],
   "source": [
    "del fruits[\"p\"]"
   ]
  },
  {
   "cell_type": "code",
   "execution_count": 62,
   "id": "38270ef0",
   "metadata": {},
   "outputs": [
    {
     "data": {
      "text/plain": [
       "{'a': 'apple', 'b': 'banana', 'c': 'cherry'}"
      ]
     },
     "execution_count": 62,
     "metadata": {},
     "output_type": "execute_result"
    }
   ],
   "source": [
    "fruits"
   ]
  },
  {
   "cell_type": "code",
   "execution_count": 64,
   "id": "cb862469",
   "metadata": {},
   "outputs": [],
   "source": [
    "fruits[\"a\"] = \"apricot\""
   ]
  },
  {
   "cell_type": "code",
   "execution_count": 65,
   "id": "8fa13e42",
   "metadata": {},
   "outputs": [
    {
     "data": {
      "text/plain": [
       "{'a': 'apricot', 'b': 'banana', 'c': 'cherry', 'p': 'papaya'}"
      ]
     },
     "execution_count": 65,
     "metadata": {},
     "output_type": "execute_result"
    }
   ],
   "source": [
    "fruits"
   ]
  },
  {
   "cell_type": "code",
   "execution_count": 67,
   "id": "01d261b9",
   "metadata": {},
   "outputs": [
    {
     "data": {
      "text/plain": [
       "'papaya'"
      ]
     },
     "execution_count": 67,
     "metadata": {},
     "output_type": "execute_result"
    }
   ],
   "source": [
    "fruits.pop(\"p\")"
   ]
  },
  {
   "cell_type": "code",
   "execution_count": 68,
   "id": "3b17a7b5",
   "metadata": {},
   "outputs": [
    {
     "data": {
      "text/plain": [
       "{'a': 'apricot', 'b': 'banana', 'c': 'cherry'}"
      ]
     },
     "execution_count": 68,
     "metadata": {},
     "output_type": "execute_result"
    }
   ],
   "source": [
    "fruits"
   ]
  },
  {
   "cell_type": "code",
   "execution_count": 69,
   "id": "58ce7501",
   "metadata": {},
   "outputs": [
    {
     "data": {
      "text/plain": [
       "('c', 'cherry')"
      ]
     },
     "execution_count": 69,
     "metadata": {},
     "output_type": "execute_result"
    }
   ],
   "source": [
    "fruits.popitem()"
   ]
  },
  {
   "cell_type": "code",
   "execution_count": 71,
   "id": "3b4c4832",
   "metadata": {},
   "outputs": [
    {
     "data": {
      "text/plain": [
       "('b', 'banana')"
      ]
     },
     "execution_count": 71,
     "metadata": {},
     "output_type": "execute_result"
    }
   ],
   "source": [
    "fruits.popitem()"
   ]
  },
  {
   "cell_type": "code",
   "execution_count": 72,
   "id": "f54a93be",
   "metadata": {},
   "outputs": [
    {
     "data": {
      "text/plain": [
       "('a', 'apricot')"
      ]
     },
     "execution_count": 72,
     "metadata": {},
     "output_type": "execute_result"
    }
   ],
   "source": [
    "fruits.popitem()"
   ]
  },
  {
   "cell_type": "code",
   "execution_count": 73,
   "id": "d2b68e1c",
   "metadata": {},
   "outputs": [
    {
     "data": {
      "text/plain": [
       "{}"
      ]
     },
     "execution_count": 73,
     "metadata": {},
     "output_type": "execute_result"
    }
   ],
   "source": [
    "fruits"
   ]
  },
  {
   "cell_type": "code",
   "execution_count": 79,
   "id": "97103a48",
   "metadata": {},
   "outputs": [],
   "source": [
    "#Sample Input and Output\n",
    "Input =  \"This is from VertexBlue\"\n",
    "#Output : \"VertexBlue from is This\""
   ]
  },
  {
   "cell_type": "code",
   "execution_count": 85,
   "id": "4c82c4cd",
   "metadata": {},
   "outputs": [
    {
     "name": "stdout",
     "output_type": "stream",
     "text": [
      "VertexBlue from is This\n"
     ]
    }
   ],
   "source": [
    "print(\" \".join(Input.split()[::-1]))"
   ]
  },
  {
   "cell_type": "markdown",
   "id": "c29c8c38",
   "metadata": {},
   "source": [
    "# MISC Operations"
   ]
  },
  {
   "cell_type": "code",
   "execution_count": 86,
   "id": "a98b0f61",
   "metadata": {},
   "outputs": [
    {
     "data": {
      "text/plain": [
       "{'a': 'apple', 'b': 'banana', 'c': 'custard'}"
      ]
     },
     "execution_count": 86,
     "metadata": {},
     "output_type": "execute_result"
    }
   ],
   "source": [
    "fruits"
   ]
  },
  {
   "cell_type": "code",
   "execution_count": 87,
   "id": "7058e4e9",
   "metadata": {},
   "outputs": [
    {
     "data": {
      "text/plain": [
       "dict_keys(['a', 'b', 'c'])"
      ]
     },
     "execution_count": 87,
     "metadata": {},
     "output_type": "execute_result"
    }
   ],
   "source": [
    "fruits.keys()"
   ]
  },
  {
   "cell_type": "code",
   "execution_count": 88,
   "id": "7274656d",
   "metadata": {},
   "outputs": [
    {
     "data": {
      "text/plain": [
       "dict_values(['apple', 'banana', 'custard'])"
      ]
     },
     "execution_count": 88,
     "metadata": {},
     "output_type": "execute_result"
    }
   ],
   "source": [
    "fruits.values()"
   ]
  },
  {
   "cell_type": "code",
   "execution_count": 89,
   "id": "6bb3fee6",
   "metadata": {},
   "outputs": [
    {
     "data": {
      "text/plain": [
       "dict_items([('a', 'apple'), ('b', 'banana'), ('c', 'custard')])"
      ]
     },
     "execution_count": 89,
     "metadata": {},
     "output_type": "execute_result"
    }
   ],
   "source": [
    "fruits.items()"
   ]
  },
  {
   "cell_type": "code",
   "execution_count": 90,
   "id": "92729a0a",
   "metadata": {},
   "outputs": [
    {
     "data": {
      "text/plain": [
       "True"
      ]
     },
     "execution_count": 90,
     "metadata": {},
     "output_type": "execute_result"
    }
   ],
   "source": [
    "\"apple\" in fruits.values()"
   ]
  },
  {
   "cell_type": "markdown",
   "id": "af7c64f4",
   "metadata": {},
   "source": [
    "# Range\n",
    "    - Used to generate a sequence of numbers\n",
    "    - Start(included), Stop(excluded), step count"
   ]
  },
  {
   "cell_type": "code",
   "execution_count": 123,
   "id": "98c43c0a",
   "metadata": {},
   "outputs": [],
   "source": [
    "## Exercise\n",
    "# Generate odd sequences using range function \n",
    "# all odd numbers between (1,100)"
   ]
  },
  {
   "cell_type": "code",
   "execution_count": 124,
   "id": "cbf92c84",
   "metadata": {},
   "outputs": [],
   "source": [
    "r1 = list(range(1,100,2))"
   ]
  },
  {
   "cell_type": "code",
   "execution_count": 126,
   "id": "719c9512",
   "metadata": {},
   "outputs": [],
   "source": [
    "odd_numbers = [x for x in range(1,100) if x%2!=0]"
   ]
  },
  {
   "cell_type": "code",
   "execution_count": 127,
   "id": "7f08a96d",
   "metadata": {},
   "outputs": [
    {
     "data": {
      "text/plain": [
       "[1,\n",
       " 3,\n",
       " 5,\n",
       " 7,\n",
       " 9,\n",
       " 11,\n",
       " 13,\n",
       " 15,\n",
       " 17,\n",
       " 19,\n",
       " 21,\n",
       " 23,\n",
       " 25,\n",
       " 27,\n",
       " 29,\n",
       " 31,\n",
       " 33,\n",
       " 35,\n",
       " 37,\n",
       " 39,\n",
       " 41,\n",
       " 43,\n",
       " 45,\n",
       " 47,\n",
       " 49,\n",
       " 51,\n",
       " 53,\n",
       " 55,\n",
       " 57,\n",
       " 59,\n",
       " 61,\n",
       " 63,\n",
       " 65,\n",
       " 67,\n",
       " 69,\n",
       " 71,\n",
       " 73,\n",
       " 75,\n",
       " 77,\n",
       " 79,\n",
       " 81,\n",
       " 83,\n",
       " 85,\n",
       " 87,\n",
       " 89,\n",
       " 91,\n",
       " 93,\n",
       " 95,\n",
       " 97,\n",
       " 99]"
      ]
     },
     "execution_count": 127,
     "metadata": {},
     "output_type": "execute_result"
    }
   ],
   "source": [
    "odd_numbers"
   ]
  },
  {
   "cell_type": "code",
   "execution_count": 91,
   "id": "0c38c20e",
   "metadata": {},
   "outputs": [],
   "source": [
    "r = range(0,11)"
   ]
  },
  {
   "cell_type": "code",
   "execution_count": 92,
   "id": "b6a6809e",
   "metadata": {},
   "outputs": [
    {
     "data": {
      "text/plain": [
       "range(0, 11)"
      ]
     },
     "execution_count": 92,
     "metadata": {},
     "output_type": "execute_result"
    }
   ],
   "source": [
    "r"
   ]
  },
  {
   "cell_type": "code",
   "execution_count": 93,
   "id": "aa779740",
   "metadata": {},
   "outputs": [
    {
     "data": {
      "text/plain": [
       "range"
      ]
     },
     "execution_count": 93,
     "metadata": {},
     "output_type": "execute_result"
    }
   ],
   "source": [
    "type(r)"
   ]
  },
  {
   "cell_type": "code",
   "execution_count": 94,
   "id": "a90c50e9",
   "metadata": {},
   "outputs": [
    {
     "data": {
      "text/plain": [
       "[0, 1, 2, 3, 4, 5, 6, 7, 8, 9, 10]"
      ]
     },
     "execution_count": 94,
     "metadata": {},
     "output_type": "execute_result"
    }
   ],
   "source": [
    "list(r)"
   ]
  },
  {
   "cell_type": "code",
   "execution_count": 96,
   "id": "6805aa85",
   "metadata": {},
   "outputs": [],
   "source": [
    "x = tuple(r)"
   ]
  },
  {
   "cell_type": "code",
   "execution_count": 97,
   "id": "76148084",
   "metadata": {},
   "outputs": [
    {
     "data": {
      "text/plain": [
       "(0, 1, 2, 3, 4, 5, 6, 7, 8, 9, 10)"
      ]
     },
     "execution_count": 97,
     "metadata": {},
     "output_type": "execute_result"
    }
   ],
   "source": [
    "x"
   ]
  },
  {
   "cell_type": "code",
   "execution_count": 98,
   "id": "41d945c2",
   "metadata": {},
   "outputs": [
    {
     "data": {
      "text/plain": [
       "tuple"
      ]
     },
     "execution_count": 98,
     "metadata": {},
     "output_type": "execute_result"
    }
   ],
   "source": [
    "type(x)"
   ]
  },
  {
   "cell_type": "code",
   "execution_count": 99,
   "id": "ed38e5dd",
   "metadata": {},
   "outputs": [],
   "source": [
    "r1 = list(range(15))"
   ]
  },
  {
   "cell_type": "code",
   "execution_count": 100,
   "id": "136c7670",
   "metadata": {},
   "outputs": [
    {
     "data": {
      "text/plain": [
       "[0, 1, 2, 3, 4, 5, 6, 7, 8, 9, 10, 11, 12, 13, 14]"
      ]
     },
     "execution_count": 100,
     "metadata": {},
     "output_type": "execute_result"
    }
   ],
   "source": [
    "r1"
   ]
  },
  {
   "cell_type": "code",
   "execution_count": 101,
   "id": "32a53fac",
   "metadata": {},
   "outputs": [
    {
     "data": {
      "text/plain": [
       "[5, 6, 7, 8, 9, 10, 11, 12, 13, 14, 15, 16, 17, 18, 19]"
      ]
     },
     "execution_count": 101,
     "metadata": {},
     "output_type": "execute_result"
    }
   ],
   "source": [
    "r2 = list(range(5,20))\n",
    "r2"
   ]
  },
  {
   "cell_type": "code",
   "execution_count": 102,
   "id": "283aedbe",
   "metadata": {},
   "outputs": [
    {
     "data": {
      "text/plain": [
       "[5, 10, 15, 20]"
      ]
     },
     "execution_count": 102,
     "metadata": {},
     "output_type": "execute_result"
    }
   ],
   "source": [
    "r2 = list(range(5,21,5))\n",
    "r2"
   ]
  },
  {
   "cell_type": "code",
   "execution_count": 103,
   "id": "618abd2c",
   "metadata": {},
   "outputs": [],
   "source": [
    "import numpy as np"
   ]
  },
  {
   "cell_type": "code",
   "execution_count": 106,
   "id": "5bd2b7ef",
   "metadata": {},
   "outputs": [],
   "source": [
    "x = np.random.randint(10,30,5)"
   ]
  },
  {
   "cell_type": "code",
   "execution_count": 107,
   "id": "c3b71ae5",
   "metadata": {},
   "outputs": [
    {
     "data": {
      "text/plain": [
       "array([13, 13, 26, 17, 18])"
      ]
     },
     "execution_count": 107,
     "metadata": {},
     "output_type": "execute_result"
    }
   ],
   "source": [
    "x"
   ]
  },
  {
   "cell_type": "markdown",
   "id": "a7e50dd2",
   "metadata": {},
   "source": [
    "# Sets\n",
    " - Unique collection of immutable items/objects\n",
    " - syntax: {}"
   ]
  },
  {
   "cell_type": "code",
   "execution_count": 108,
   "id": "33e5c8e7",
   "metadata": {},
   "outputs": [],
   "source": [
    "a = {\"sun\", \"mon\", \"tue\"}"
   ]
  },
  {
   "cell_type": "code",
   "execution_count": 109,
   "id": "c8b33a0b",
   "metadata": {},
   "outputs": [
    {
     "data": {
      "text/plain": [
       "{'mon', 'sun', 'tue'}"
      ]
     },
     "execution_count": 109,
     "metadata": {},
     "output_type": "execute_result"
    }
   ],
   "source": [
    "a"
   ]
  },
  {
   "cell_type": "code",
   "execution_count": 110,
   "id": "0cbf54ac",
   "metadata": {},
   "outputs": [
    {
     "data": {
      "text/plain": [
       "set"
      ]
     },
     "execution_count": 110,
     "metadata": {},
     "output_type": "execute_result"
    }
   ],
   "source": [
    "type(a)"
   ]
  },
  {
   "cell_type": "code",
   "execution_count": 111,
   "id": "ee21c73b",
   "metadata": {},
   "outputs": [],
   "source": [
    "a = {\"sun\", \"mon\", \"tue\", \"sun\"}"
   ]
  },
  {
   "cell_type": "code",
   "execution_count": 112,
   "id": "df41deb4",
   "metadata": {},
   "outputs": [
    {
     "data": {
      "text/plain": [
       "{'mon', 'sun', 'tue'}"
      ]
     },
     "execution_count": 112,
     "metadata": {},
     "output_type": "execute_result"
    }
   ],
   "source": [
    "a"
   ]
  },
  {
   "cell_type": "code",
   "execution_count": 113,
   "id": "04e0cb13",
   "metadata": {},
   "outputs": [],
   "source": [
    "a.add(\"wed\")"
   ]
  },
  {
   "cell_type": "code",
   "execution_count": 114,
   "id": "cc7b9258",
   "metadata": {},
   "outputs": [
    {
     "data": {
      "text/plain": [
       "{'mon', 'sun', 'tue', 'wed'}"
      ]
     },
     "execution_count": 114,
     "metadata": {},
     "output_type": "execute_result"
    }
   ],
   "source": [
    "a"
   ]
  },
  {
   "cell_type": "code",
   "execution_count": 115,
   "id": "2fe8a4bc",
   "metadata": {},
   "outputs": [],
   "source": [
    "b = {'thu','fri','sat'}"
   ]
  },
  {
   "cell_type": "code",
   "execution_count": 116,
   "id": "99580bef",
   "metadata": {},
   "outputs": [
    {
     "data": {
      "text/plain": [
       "{'fri', 'mon', 'sat', 'sun', 'thu', 'tue', 'wed'}"
      ]
     },
     "execution_count": 116,
     "metadata": {},
     "output_type": "execute_result"
    }
   ],
   "source": [
    "a.union(b)"
   ]
  },
  {
   "cell_type": "code",
   "execution_count": 117,
   "id": "cbd90165",
   "metadata": {},
   "outputs": [
    {
     "data": {
      "text/plain": [
       "{'mon', 'sun', 'tue', 'wed'}"
      ]
     },
     "execution_count": 117,
     "metadata": {},
     "output_type": "execute_result"
    }
   ],
   "source": [
    "a"
   ]
  },
  {
   "cell_type": "code",
   "execution_count": 119,
   "id": "7e64d7aa",
   "metadata": {},
   "outputs": [],
   "source": [
    "b.add('sun')"
   ]
  },
  {
   "cell_type": "code",
   "execution_count": 120,
   "id": "d7ba8b59",
   "metadata": {},
   "outputs": [
    {
     "data": {
      "text/plain": [
       "{'fri', 'sat', 'sun', 'thu'}"
      ]
     },
     "execution_count": 120,
     "metadata": {},
     "output_type": "execute_result"
    }
   ],
   "source": [
    "b"
   ]
  },
  {
   "cell_type": "code",
   "execution_count": 121,
   "id": "125b7d3c",
   "metadata": {},
   "outputs": [
    {
     "data": {
      "text/plain": [
       "{'sun'}"
      ]
     },
     "execution_count": 121,
     "metadata": {},
     "output_type": "execute_result"
    }
   ],
   "source": [
    "a&b"
   ]
  },
  {
   "cell_type": "code",
   "execution_count": null,
   "id": "187e23d0",
   "metadata": {},
   "outputs": [],
   "source": []
  }
 ],
 "metadata": {
  "kernelspec": {
   "display_name": "Python 3 (ipykernel)",
   "language": "python",
   "name": "python3"
  },
  "language_info": {
   "codemirror_mode": {
    "name": "ipython",
    "version": 3
   },
   "file_extension": ".py",
   "mimetype": "text/x-python",
   "name": "python",
   "nbconvert_exporter": "python",
   "pygments_lexer": "ipython3",
   "version": "3.9.12"
  }
 },
 "nbformat": 4,
 "nbformat_minor": 5
}
