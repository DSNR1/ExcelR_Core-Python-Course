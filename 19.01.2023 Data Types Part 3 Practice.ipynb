{
 "cells": [
  {
   "cell_type": "code",
   "execution_count": 6,
   "id": "b606288d",
   "metadata": {},
   "outputs": [],
   "source": [
    "Players = (\"Virat\",\"RCB\",[100,120,45,60],\"India\")"
   ]
  },
  {
   "cell_type": "code",
   "execution_count": 7,
   "id": "59d09067",
   "metadata": {},
   "outputs": [
    {
     "data": {
      "text/plain": [
       "('Virat', 'RCB', [100, 120, 45, 60], 'India')"
      ]
     },
     "execution_count": 7,
     "metadata": {},
     "output_type": "execute_result"
    }
   ],
   "source": [
    "Players"
   ]
  },
  {
   "cell_type": "code",
   "execution_count": 8,
   "id": "33718b1e",
   "metadata": {},
   "outputs": [
    {
     "data": {
      "text/plain": [
       "'Virat'"
      ]
     },
     "execution_count": 8,
     "metadata": {},
     "output_type": "execute_result"
    }
   ],
   "source": [
    "Players[0]"
   ]
  },
  {
   "cell_type": "code",
   "execution_count": 9,
   "id": "a786bc55",
   "metadata": {},
   "outputs": [
    {
     "ename": "TypeError",
     "evalue": "'tuple' object does not support item assignment",
     "output_type": "error",
     "traceback": [
      "\u001b[1;31m---------------------------------------------------------------------------\u001b[0m",
      "\u001b[1;31mTypeError\u001b[0m                                 Traceback (most recent call last)",
      "\u001b[1;32m~\\AppData\\Local\\Temp\\ipykernel_9552\\519819338.py\u001b[0m in \u001b[0;36m<module>\u001b[1;34m\u001b[0m\n\u001b[1;32m----> 1\u001b[1;33m \u001b[0mPlayers\u001b[0m\u001b[1;33m[\u001b[0m\u001b[1;36m0\u001b[0m\u001b[1;33m]\u001b[0m\u001b[1;33m=\u001b[0m\u001b[1;34m\"Virat Kohli\"\u001b[0m\u001b[1;33m\u001b[0m\u001b[1;33m\u001b[0m\u001b[0m\n\u001b[0m",
      "\u001b[1;31mTypeError\u001b[0m: 'tuple' object does not support item assignment"
     ]
    }
   ],
   "source": [
    "Players[0]=\"Virat Kohli\""
   ]
  },
  {
   "cell_type": "code",
   "execution_count": 10,
   "id": "e2fd9dcf",
   "metadata": {},
   "outputs": [
    {
     "data": {
      "text/plain": [
       "[100, 120, 45, 60]"
      ]
     },
     "execution_count": 10,
     "metadata": {},
     "output_type": "execute_result"
    }
   ],
   "source": [
    "Players[2]"
   ]
  },
  {
   "cell_type": "code",
   "execution_count": 11,
   "id": "efc6a53d",
   "metadata": {},
   "outputs": [],
   "source": [
    "Players[2].append(50)"
   ]
  },
  {
   "cell_type": "code",
   "execution_count": 12,
   "id": "4b569b1f",
   "metadata": {},
   "outputs": [
    {
     "ename": "TypeError",
     "evalue": "'tuple' object does not support item assignment",
     "output_type": "error",
     "traceback": [
      "\u001b[1;31m---------------------------------------------------------------------------\u001b[0m",
      "\u001b[1;31mTypeError\u001b[0m                                 Traceback (most recent call last)",
      "\u001b[1;32m~\\AppData\\Local\\Temp\\ipykernel_9552\\2943514918.py\u001b[0m in \u001b[0;36m<module>\u001b[1;34m\u001b[0m\n\u001b[1;32m----> 1\u001b[1;33m \u001b[0mPlayers\u001b[0m\u001b[1;33m[\u001b[0m\u001b[1;36m2\u001b[0m\u001b[1;33m]\u001b[0m\u001b[1;33m=\u001b[0m\u001b[1;34m\"Score\"\u001b[0m\u001b[1;33m\u001b[0m\u001b[1;33m\u001b[0m\u001b[0m\n\u001b[0m",
      "\u001b[1;31mTypeError\u001b[0m: 'tuple' object does not support item assignment"
     ]
    }
   ],
   "source": [
    "Players[2]=\"Score\""
   ]
  },
  {
   "cell_type": "code",
   "execution_count": 13,
   "id": "e25fe704",
   "metadata": {},
   "outputs": [
    {
     "data": {
      "text/plain": [
       "100"
      ]
     },
     "execution_count": 13,
     "metadata": {},
     "output_type": "execute_result"
    }
   ],
   "source": [
    "Players[2][0]"
   ]
  },
  {
   "cell_type": "code",
   "execution_count": 14,
   "id": "ec847b55",
   "metadata": {},
   "outputs": [],
   "source": [
    "Players[2][0]=110"
   ]
  },
  {
   "cell_type": "code",
   "execution_count": 15,
   "id": "8eb43630",
   "metadata": {},
   "outputs": [
    {
     "data": {
      "text/plain": [
       "('Virat', 'RCB', [110, 120, 45, 60, 50], 'India')"
      ]
     },
     "execution_count": 15,
     "metadata": {},
     "output_type": "execute_result"
    }
   ],
   "source": [
    "Players"
   ]
  },
  {
   "cell_type": "code",
   "execution_count": 16,
   "id": "1d86de69",
   "metadata": {},
   "outputs": [],
   "source": [
    "Players = (\"Virat\",\"RCB\",[100],\"India\")"
   ]
  },
  {
   "cell_type": "code",
   "execution_count": 17,
   "id": "516bfeae",
   "metadata": {},
   "outputs": [],
   "source": [
    "Players[2][0]=110"
   ]
  },
  {
   "cell_type": "code",
   "execution_count": 18,
   "id": "62811aad",
   "metadata": {},
   "outputs": [
    {
     "data": {
      "text/plain": [
       "('Virat', 'RCB', [110], 'India')"
      ]
     },
     "execution_count": 18,
     "metadata": {},
     "output_type": "execute_result"
    }
   ],
   "source": [
    "Players"
   ]
  },
  {
   "cell_type": "code",
   "execution_count": 22,
   "id": "0e410c1b",
   "metadata": {},
   "outputs": [],
   "source": [
    "Players[2]. append (135)"
   ]
  },
  {
   "cell_type": "code",
   "execution_count": 23,
   "id": "ea509fc2",
   "metadata": {},
   "outputs": [
    {
     "data": {
      "text/plain": [
       "('Virat', 'RCB', [110, 135], 'India')"
      ]
     },
     "execution_count": 23,
     "metadata": {},
     "output_type": "execute_result"
    }
   ],
   "source": [
    "Players"
   ]
  },
  {
   "cell_type": "code",
   "execution_count": 24,
   "id": "1b4c6a92",
   "metadata": {},
   "outputs": [],
   "source": [
    "X= [1,2,3,3,(2,3,4),5]"
   ]
  },
  {
   "cell_type": "code",
   "execution_count": 25,
   "id": "2f8948a7",
   "metadata": {},
   "outputs": [
    {
     "data": {
      "text/plain": [
       "[1, 2, 3, 3, (2, 3, 4), 5]"
      ]
     },
     "execution_count": 25,
     "metadata": {},
     "output_type": "execute_result"
    }
   ],
   "source": [
    "X"
   ]
  },
  {
   "cell_type": "code",
   "execution_count": 26,
   "id": "39671ae7",
   "metadata": {},
   "outputs": [],
   "source": [
    "X.append(6)"
   ]
  },
  {
   "cell_type": "code",
   "execution_count": 27,
   "id": "ef0ada77",
   "metadata": {},
   "outputs": [
    {
     "data": {
      "text/plain": [
       "[1, 2, 3, 3, (2, 3, 4), 5, 6]"
      ]
     },
     "execution_count": 27,
     "metadata": {},
     "output_type": "execute_result"
    }
   ],
   "source": [
    "X"
   ]
  },
  {
   "cell_type": "code",
   "execution_count": 28,
   "id": "2bdf3f20",
   "metadata": {},
   "outputs": [
    {
     "ename": "TypeError",
     "evalue": "'tuple' object does not support item assignment",
     "output_type": "error",
     "traceback": [
      "\u001b[1;31m---------------------------------------------------------------------------\u001b[0m",
      "\u001b[1;31mTypeError\u001b[0m                                 Traceback (most recent call last)",
      "\u001b[1;32m~\\AppData\\Local\\Temp\\ipykernel_9552\\501098593.py\u001b[0m in \u001b[0;36m<module>\u001b[1;34m\u001b[0m\n\u001b[1;32m----> 1\u001b[1;33m \u001b[0mX\u001b[0m\u001b[1;33m[\u001b[0m\u001b[1;36m4\u001b[0m\u001b[1;33m]\u001b[0m\u001b[1;33m[\u001b[0m\u001b[1;36m0\u001b[0m\u001b[1;33m]\u001b[0m\u001b[1;33m=\u001b[0m\u001b[1;36m10\u001b[0m\u001b[1;33m\u001b[0m\u001b[1;33m\u001b[0m\u001b[0m\n\u001b[0m",
      "\u001b[1;31mTypeError\u001b[0m: 'tuple' object does not support item assignment"
     ]
    }
   ],
   "source": [
    "X[4][0]=10"
   ]
  },
  {
   "cell_type": "markdown",
   "id": "3e56c6a1",
   "metadata": {},
   "source": [
    "# IN OPERATOR"
   ]
  },
  {
   "cell_type": "code",
   "execution_count": 29,
   "id": "2ee12b06",
   "metadata": {},
   "outputs": [
    {
     "data": {
      "text/plain": [
       "('Virat', 'RCB', [110, 135], 'India')"
      ]
     },
     "execution_count": 29,
     "metadata": {},
     "output_type": "execute_result"
    }
   ],
   "source": [
    "Players"
   ]
  },
  {
   "cell_type": "code",
   "execution_count": 30,
   "id": "937dec2a",
   "metadata": {},
   "outputs": [
    {
     "data": {
      "text/plain": [
       "True"
      ]
     },
     "execution_count": 30,
     "metadata": {},
     "output_type": "execute_result"
    }
   ],
   "source": [
    "\"Virat\" in Players"
   ]
  },
  {
   "cell_type": "code",
   "execution_count": 31,
   "id": "4d2636ac",
   "metadata": {},
   "outputs": [
    {
     "data": {
      "text/plain": [
       "False"
      ]
     },
     "execution_count": 31,
     "metadata": {},
     "output_type": "execute_result"
    }
   ],
   "source": [
    "\"Rohit\" in Players"
   ]
  },
  {
   "cell_type": "code",
   "execution_count": 32,
   "id": "6e0ba965",
   "metadata": {},
   "outputs": [],
   "source": [
    "S=\"WELCOME\""
   ]
  },
  {
   "cell_type": "code",
   "execution_count": 33,
   "id": "532f2ac2",
   "metadata": {},
   "outputs": [
    {
     "data": {
      "text/plain": [
       "True"
      ]
     },
     "execution_count": 33,
     "metadata": {},
     "output_type": "execute_result"
    }
   ],
   "source": [
    "\"W\" in S"
   ]
  },
  {
   "cell_type": "markdown",
   "id": "f5c6e633",
   "metadata": {},
   "source": [
    "# MIsc- Strings"
   ]
  },
  {
   "cell_type": "code",
   "execution_count": 36,
   "id": "76a0b0b9",
   "metadata": {},
   "outputs": [],
   "source": [
    "location = \"c:\\new folder\""
   ]
  },
  {
   "cell_type": "code",
   "execution_count": 37,
   "id": "aca3914c",
   "metadata": {},
   "outputs": [
    {
     "name": "stdout",
     "output_type": "stream",
     "text": [
      "c:\n",
      "ew folder\n"
     ]
    }
   ],
   "source": [
    "print (location)"
   ]
  },
  {
   "cell_type": "code",
   "execution_count": 38,
   "id": "1c54a002",
   "metadata": {},
   "outputs": [],
   "source": [
    "location = \"c:\\\\new folder\""
   ]
  },
  {
   "cell_type": "code",
   "execution_count": 39,
   "id": "d5fe10c2",
   "metadata": {},
   "outputs": [
    {
     "name": "stdout",
     "output_type": "stream",
     "text": [
      "c:\\new folder\n"
     ]
    }
   ],
   "source": [
    "print (location)"
   ]
  },
  {
   "cell_type": "code",
   "execution_count": 41,
   "id": "3093f49d",
   "metadata": {},
   "outputs": [],
   "source": [
    "location = r\"c:\\new folder\""
   ]
  },
  {
   "cell_type": "code",
   "execution_count": 42,
   "id": "b88d420c",
   "metadata": {},
   "outputs": [
    {
     "name": "stdout",
     "output_type": "stream",
     "text": [
      "c:\\new folder\n"
     ]
    }
   ],
   "source": [
    "print(location)"
   ]
  },
  {
   "cell_type": "code",
   "execution_count": 43,
   "id": "fa81738d",
   "metadata": {},
   "outputs": [],
   "source": [
    "# r=>raw string"
   ]
  },
  {
   "cell_type": "code",
   "execution_count": 46,
   "id": "f691de84",
   "metadata": {},
   "outputs": [],
   "source": [
    "location= \"c:\\nnew folder\""
   ]
  },
  {
   "cell_type": "code",
   "execution_count": 47,
   "id": "c9c51cda",
   "metadata": {},
   "outputs": [
    {
     "name": "stdout",
     "output_type": "stream",
     "text": [
      "c:\n",
      "new folder\n"
     ]
    }
   ],
   "source": [
    "print(location)"
   ]
  },
  {
   "cell_type": "markdown",
   "id": "74a44951",
   "metadata": {},
   "source": [
    "# Format"
   ]
  },
  {
   "cell_type": "code",
   "execution_count": 50,
   "id": "10d444c4",
   "metadata": {},
   "outputs": [],
   "source": [
    "sessioncount = 10"
   ]
  },
  {
   "cell_type": "code",
   "execution_count": 51,
   "id": "457baba8",
   "metadata": {},
   "outputs": [],
   "source": [
    "chapters = 8"
   ]
  },
  {
   "cell_type": "code",
   "execution_count": 52,
   "id": "b2323bae",
   "metadata": {},
   "outputs": [
    {
     "name": "stdout",
     "output_type": "stream",
     "text": [
      "10\n"
     ]
    }
   ],
   "source": [
    "print(sessioncount)"
   ]
  },
  {
   "cell_type": "code",
   "execution_count": 53,
   "id": "5f34c711",
   "metadata": {},
   "outputs": [
    {
     "name": "stdout",
     "output_type": "stream",
     "text": [
      "8\n"
     ]
    }
   ],
   "source": [
    "print (chapters)"
   ]
  },
  {
   "cell_type": "code",
   "execution_count": 57,
   "id": "11b6036a",
   "metadata": {},
   "outputs": [
    {
     "ename": "TypeError",
     "evalue": "can only concatenate str (not \"int\") to str",
     "output_type": "error",
     "traceback": [
      "\u001b[1;31m---------------------------------------------------------------------------\u001b[0m",
      "\u001b[1;31mTypeError\u001b[0m                                 Traceback (most recent call last)",
      "\u001b[1;32m~\\AppData\\Local\\Temp\\ipykernel_9552\\931874502.py\u001b[0m in \u001b[0;36m<module>\u001b[1;34m\u001b[0m\n\u001b[1;32m----> 1\u001b[1;33m \u001b[0mmsg\u001b[0m\u001b[1;33m=\u001b[0m \u001b[1;34m\"There will be\"\u001b[0m\u001b[1;33m+\u001b[0m \u001b[0mchapters\u001b[0m\u001b[1;33m\u001b[0m\u001b[1;33m\u001b[0m\u001b[0m\n\u001b[0m",
      "\u001b[1;31mTypeError\u001b[0m: can only concatenate str (not \"int\") to str"
     ]
    }
   ],
   "source": [
    "msg= \"There will be\"+ chapters"
   ]
  },
  {
   "cell_type": "code",
   "execution_count": 60,
   "id": "d9c572db",
   "metadata": {},
   "outputs": [],
   "source": [
    "msg= \"There will be \"+ str (chapters)"
   ]
  },
  {
   "cell_type": "code",
   "execution_count": 61,
   "id": "1338a2b2",
   "metadata": {},
   "outputs": [
    {
     "data": {
      "text/plain": [
       "'There will be 8'"
      ]
     },
     "execution_count": 61,
     "metadata": {},
     "output_type": "execute_result"
    }
   ],
   "source": [
    "msg"
   ]
  },
  {
   "cell_type": "code",
   "execution_count": 75,
   "id": "260d2314",
   "metadata": {},
   "outputs": [],
   "source": [
    "msg= \"There will be \"+ str (chapters)+\" Chapters in the course, Spanned across \"+ str(sessioncount)+\" sessions\""
   ]
  },
  {
   "cell_type": "code",
   "execution_count": 76,
   "id": "5f9671dc",
   "metadata": {},
   "outputs": [
    {
     "name": "stdout",
     "output_type": "stream",
     "text": [
      "There will be 8 Chapters in the course, Spanned across 10 sessions\n"
     ]
    }
   ],
   "source": [
    "print (msg)"
   ]
  },
  {
   "cell_type": "code",
   "execution_count": 78,
   "id": "aa5b7951",
   "metadata": {},
   "outputs": [
    {
     "name": "stdout",
     "output_type": "stream",
     "text": [
      "There will be 8 Chapters in the course, Spanned across 10 sessions\n"
     ]
    }
   ],
   "source": [
    "fmsg= \"There will be {} Chapters in the course, Spanned across {} sessions\". format (chapters,sessioncount)\n",
    "print (fmsg)"
   ]
  },
  {
   "cell_type": "code",
   "execution_count": 79,
   "id": "3cd5c30f",
   "metadata": {},
   "outputs": [
    {
     "ename": "IndexError",
     "evalue": "Replacement index 2 out of range for positional args tuple",
     "output_type": "error",
     "traceback": [
      "\u001b[1;31m---------------------------------------------------------------------------\u001b[0m",
      "\u001b[1;31mIndexError\u001b[0m                                Traceback (most recent call last)",
      "\u001b[1;32m~\\AppData\\Local\\Temp\\ipykernel_9552\\401842697.py\u001b[0m in \u001b[0;36m<module>\u001b[1;34m\u001b[0m\n\u001b[1;32m----> 1\u001b[1;33m \u001b[0mfmsg\u001b[0m\u001b[1;33m=\u001b[0m\u001b[0;31m \u001b[0m\u001b[0;31m\"\u001b[0m\u001b[0mThere\u001b[0m \u001b[0mwill\u001b[0m \u001b[0mbe\u001b[0m \u001b[1;33m{\u001b[0m\u001b[1;33m}\u001b[0m \u001b[0mChapters\u001b[0m \u001b[1;32min\u001b[0m \u001b[0mthe\u001b[0m \u001b[0mcourse\u001b[0m\u001b[1;33m,\u001b[0m \u001b[0mSpanned\u001b[0m \u001b[0macross\u001b[0m \u001b[1;33m{\u001b[0m\u001b[1;33m}\u001b[0m \u001b[0msessions\u001b[0m\u001b[1;33m.\u001b[0m\u001b[0;31m\\\u001b[0m\u001b[1;33m\u001b[0m\u001b[1;33m\u001b[0m\u001b[0m\n\u001b[0m\u001b[0;32m      2\u001b[0m \u001b[0mThe\u001b[0m \u001b[1;33m{\u001b[0m\u001b[1;33m}\u001b[0m\u001b[0msessions\u001b[0m \u001b[0mare\u001b[0m \u001b[0mscheduled\u001b[0m \u001b[0mover\u001b[0m \u001b[0mweekday\u001b[0m\u001b[0;31m\"\u001b[0m\u001b[1;33m.\u001b[0m \u001b[0mformat\u001b[0m \u001b[1;33m(\u001b[0m\u001b[0mchapters\u001b[0m\u001b[1;33m,\u001b[0m\u001b[0msessioncount\u001b[0m\u001b[1;33m)\u001b[0m\u001b[1;33m\u001b[0m\u001b[1;33m\u001b[0m\u001b[0m\n",
      "\u001b[1;31mIndexError\u001b[0m: Replacement index 2 out of range for positional args tuple"
     ]
    }
   ],
   "source": [
    "fmsg= \"There will be {} Chapters in the course, Spanned across {} sessions.\\\n",
    "The {}sessions are scheduled over weekday\". format (chapters,sessioncount)"
   ]
  },
  {
   "cell_type": "code",
   "execution_count": 82,
   "id": "fbd93135",
   "metadata": {},
   "outputs": [],
   "source": [
    "fmsg= \"There will be {} Chapters in the course, Spanned across {} sessions.\\\n",
    "The {} sessions are scheduled over weekday\". format (chapters,sessioncount,sessioncount)"
   ]
  },
  {
   "cell_type": "code",
   "execution_count": 83,
   "id": "ab101f69",
   "metadata": {},
   "outputs": [
    {
     "data": {
      "text/plain": [
       "'There will be 8 Chapters in the course, Spanned across 10 sessions.The 10 sessions are scheduled over weekday'"
      ]
     },
     "execution_count": 83,
     "metadata": {},
     "output_type": "execute_result"
    }
   ],
   "source": [
    "fmsg"
   ]
  },
  {
   "cell_type": "code",
   "execution_count": 84,
   "id": "1471c323",
   "metadata": {},
   "outputs": [],
   "source": [
    "fmsg= \"There will be {0} Chapters in the course, Spanned across {1} sessions.\\\n",
    "The {1} sessions are scheduled over weekday\". format (chapters,sessioncount,sessioncount)"
   ]
  },
  {
   "cell_type": "code",
   "execution_count": 85,
   "id": "12aa2589",
   "metadata": {},
   "outputs": [
    {
     "data": {
      "text/plain": [
       "'There will be 8 Chapters in the course, Spanned across 10 sessions.The 10 sessions are scheduled over weekday'"
      ]
     },
     "execution_count": 85,
     "metadata": {},
     "output_type": "execute_result"
    }
   ],
   "source": [
    "fmsg"
   ]
  },
  {
   "cell_type": "markdown",
   "id": "2d6f2ed5",
   "metadata": {},
   "source": [
    "# Dictionaries\n",
    "- Colle ction of Key-Value Pairs\n",
    "- {}\n",
    "- Mutable"
   ]
  },
  {
   "cell_type": "code",
   "execution_count": 86,
   "id": "a64106d2",
   "metadata": {},
   "outputs": [],
   "source": [
    "Fruits = {\"a\":\"apple\", \"b\":\"banana\",\"c\":\"cherry\"}"
   ]
  },
  {
   "cell_type": "code",
   "execution_count": 87,
   "id": "1a2f6023",
   "metadata": {},
   "outputs": [
    {
     "name": "stdout",
     "output_type": "stream",
     "text": [
      "{'a': 'apple', 'b': 'banana', 'c': 'cherry'}\n"
     ]
    }
   ],
   "source": [
    "print(Fruits)"
   ]
  },
  {
   "cell_type": "code",
   "execution_count": 88,
   "id": "00b9e838",
   "metadata": {},
   "outputs": [
    {
     "data": {
      "text/plain": [
       "dict"
      ]
     },
     "execution_count": 88,
     "metadata": {},
     "output_type": "execute_result"
    }
   ],
   "source": [
    "type (Fruits)"
   ]
  },
  {
   "cell_type": "code",
   "execution_count": 89,
   "id": "7bc060b7",
   "metadata": {},
   "outputs": [
    {
     "data": {
      "text/plain": [
       "3"
      ]
     },
     "execution_count": 89,
     "metadata": {},
     "output_type": "execute_result"
    }
   ],
   "source": [
    "len(Fruits)"
   ]
  },
  {
   "cell_type": "code",
   "execution_count": 90,
   "id": "1ea93c3a",
   "metadata": {},
   "outputs": [
    {
     "data": {
      "text/plain": [
       "'apple'"
      ]
     },
     "execution_count": 90,
     "metadata": {},
     "output_type": "execute_result"
    }
   ],
   "source": [
    "Fruits[\"a\"]"
   ]
  },
  {
   "cell_type": "code",
   "execution_count": 91,
   "id": "f2a4ec03",
   "metadata": {},
   "outputs": [
    {
     "ename": "KeyError",
     "evalue": "'d'",
     "output_type": "error",
     "traceback": [
      "\u001b[1;31m---------------------------------------------------------------------------\u001b[0m",
      "\u001b[1;31mKeyError\u001b[0m                                  Traceback (most recent call last)",
      "\u001b[1;32m~\\AppData\\Local\\Temp\\ipykernel_9552\\600382998.py\u001b[0m in \u001b[0;36m<module>\u001b[1;34m\u001b[0m\n\u001b[1;32m----> 1\u001b[1;33m \u001b[0mFruits\u001b[0m\u001b[1;33m[\u001b[0m\u001b[1;34m\"d\"\u001b[0m\u001b[1;33m]\u001b[0m\u001b[1;33m\u001b[0m\u001b[1;33m\u001b[0m\u001b[0m\n\u001b[0m",
      "\u001b[1;31mKeyError\u001b[0m: 'd'"
     ]
    }
   ],
   "source": [
    "Fruits[\"d\"]"
   ]
  },
  {
   "cell_type": "code",
   "execution_count": 92,
   "id": "4f3b090a",
   "metadata": {},
   "outputs": [],
   "source": [
    "Fruits[\"P\"]=\"Papaya\""
   ]
  },
  {
   "cell_type": "code",
   "execution_count": 93,
   "id": "40f184e0",
   "metadata": {},
   "outputs": [
    {
     "data": {
      "text/plain": [
       "{'a': 'apple', 'b': 'banana', 'c': 'cherry', 'P': 'Papaya'}"
      ]
     },
     "execution_count": 93,
     "metadata": {},
     "output_type": "execute_result"
    }
   ],
   "source": [
    "Fruits"
   ]
  },
  {
   "cell_type": "code",
   "execution_count": 94,
   "id": "379e5192",
   "metadata": {},
   "outputs": [],
   "source": [
    "del Fruits [\"P\"]"
   ]
  },
  {
   "cell_type": "code",
   "execution_count": 95,
   "id": "f82caba8",
   "metadata": {},
   "outputs": [
    {
     "data": {
      "text/plain": [
       "{'a': 'apple', 'b': 'banana', 'c': 'cherry'}"
      ]
     },
     "execution_count": 95,
     "metadata": {},
     "output_type": "execute_result"
    }
   ],
   "source": [
    "Fruits"
   ]
  },
  {
   "cell_type": "code",
   "execution_count": 96,
   "id": "c4871af2",
   "metadata": {},
   "outputs": [],
   "source": [
    "Fruits[\"a\"]=\"apricot\""
   ]
  },
  {
   "cell_type": "code",
   "execution_count": 97,
   "id": "f941a4b0",
   "metadata": {},
   "outputs": [
    {
     "data": {
      "text/plain": [
       "{'a': 'apricot', 'b': 'banana', 'c': 'cherry'}"
      ]
     },
     "execution_count": 97,
     "metadata": {},
     "output_type": "execute_result"
    }
   ],
   "source": [
    "Fruits"
   ]
  },
  {
   "cell_type": "code",
   "execution_count": 98,
   "id": "d4779e76",
   "metadata": {},
   "outputs": [],
   "source": [
    "Fruits = {\"a\":\"apricot\", \"b\":\"banana\",\"c\":\"cherry\", \"P\":\"Papaya\"}"
   ]
  },
  {
   "cell_type": "code",
   "execution_count": 99,
   "id": "80cfb47d",
   "metadata": {},
   "outputs": [
    {
     "data": {
      "text/plain": [
       "{'a': 'apricot', 'b': 'banana', 'c': 'cherry', 'P': 'Papaya'}"
      ]
     },
     "execution_count": 99,
     "metadata": {},
     "output_type": "execute_result"
    }
   ],
   "source": [
    "Fruits"
   ]
  },
  {
   "cell_type": "code",
   "execution_count": 101,
   "id": "30a8fb24",
   "metadata": {},
   "outputs": [
    {
     "data": {
      "text/plain": [
       "'Papaya'"
      ]
     },
     "execution_count": 101,
     "metadata": {},
     "output_type": "execute_result"
    }
   ],
   "source": [
    "Fruits. pop (\"P\")"
   ]
  },
  {
   "cell_type": "code",
   "execution_count": 102,
   "id": "25688ebf",
   "metadata": {},
   "outputs": [
    {
     "data": {
      "text/plain": [
       "{'a': 'apricot', 'b': 'banana', 'c': 'cherry'}"
      ]
     },
     "execution_count": 102,
     "metadata": {},
     "output_type": "execute_result"
    }
   ],
   "source": [
    "Fruits"
   ]
  },
  {
   "cell_type": "code",
   "execution_count": 103,
   "id": "e0ac14e3",
   "metadata": {},
   "outputs": [
    {
     "data": {
      "text/plain": [
       "('c', 'cherry')"
      ]
     },
     "execution_count": 103,
     "metadata": {},
     "output_type": "execute_result"
    }
   ],
   "source": [
    "Fruits. popitem()"
   ]
  },
  {
   "cell_type": "code",
   "execution_count": 104,
   "id": "4469995d",
   "metadata": {},
   "outputs": [
    {
     "data": {
      "text/plain": [
       "{'a': 'apricot', 'b': 'banana'}"
      ]
     },
     "execution_count": 104,
     "metadata": {},
     "output_type": "execute_result"
    }
   ],
   "source": [
    "Fruits"
   ]
  },
  {
   "cell_type": "code",
   "execution_count": 105,
   "id": "2cfe92f7",
   "metadata": {},
   "outputs": [
    {
     "data": {
      "text/plain": [
       "('b', 'banana')"
      ]
     },
     "execution_count": 105,
     "metadata": {},
     "output_type": "execute_result"
    }
   ],
   "source": [
    "Fruits. popitem()"
   ]
  },
  {
   "cell_type": "code",
   "execution_count": 106,
   "id": "397df213",
   "metadata": {},
   "outputs": [
    {
     "data": {
      "text/plain": [
       "('a', 'apricot')"
      ]
     },
     "execution_count": 106,
     "metadata": {},
     "output_type": "execute_result"
    }
   ],
   "source": [
    "Fruits. popitem()"
   ]
  },
  {
   "cell_type": "code",
   "execution_count": 107,
   "id": "ee97fd05",
   "metadata": {},
   "outputs": [
    {
     "data": {
      "text/plain": [
       "{}"
      ]
     },
     "execution_count": 107,
     "metadata": {},
     "output_type": "execute_result"
    }
   ],
   "source": [
    "Fruits"
   ]
  },
  {
   "cell_type": "code",
   "execution_count": 108,
   "id": "d9c57844",
   "metadata": {},
   "outputs": [],
   "source": [
    "Fruits = {\"a\":\"apple\", \"b\":\"banana\",\"c\":\"cherry\",\"c\":\"custard\"}"
   ]
  },
  {
   "cell_type": "code",
   "execution_count": 109,
   "id": "b7256912",
   "metadata": {},
   "outputs": [
    {
     "name": "stdout",
     "output_type": "stream",
     "text": [
      "{'a': 'apple', 'b': 'banana', 'c': 'custard'}\n"
     ]
    }
   ],
   "source": [
    "print(Fruits)"
   ]
  },
  {
   "cell_type": "markdown",
   "id": "7d7f540f",
   "metadata": {},
   "source": [
    "# Misc Operations"
   ]
  },
  {
   "cell_type": "code",
   "execution_count": 110,
   "id": "9575432c",
   "metadata": {},
   "outputs": [
    {
     "data": {
      "text/plain": [
       "{'a': 'apple', 'b': 'banana', 'c': 'custard'}"
      ]
     },
     "execution_count": 110,
     "metadata": {},
     "output_type": "execute_result"
    }
   ],
   "source": [
    "Fruits"
   ]
  },
  {
   "cell_type": "code",
   "execution_count": 111,
   "id": "eeac0253",
   "metadata": {},
   "outputs": [
    {
     "data": {
      "text/plain": [
       "dict_keys(['a', 'b', 'c'])"
      ]
     },
     "execution_count": 111,
     "metadata": {},
     "output_type": "execute_result"
    }
   ],
   "source": [
    "Fruits.keys()"
   ]
  },
  {
   "cell_type": "code",
   "execution_count": 112,
   "id": "0e38d11a",
   "metadata": {},
   "outputs": [
    {
     "data": {
      "text/plain": [
       "dict_values(['apple', 'banana', 'custard'])"
      ]
     },
     "execution_count": 112,
     "metadata": {},
     "output_type": "execute_result"
    }
   ],
   "source": [
    "Fruits.values()"
   ]
  },
  {
   "cell_type": "code",
   "execution_count": 114,
   "id": "ae734fef",
   "metadata": {},
   "outputs": [
    {
     "data": {
      "text/plain": [
       "dict_items([('a', 'apple'), ('b', 'banana'), ('c', 'custard')])"
      ]
     },
     "execution_count": 114,
     "metadata": {},
     "output_type": "execute_result"
    }
   ],
   "source": [
    "Fruits.items()"
   ]
  },
  {
   "cell_type": "code",
   "execution_count": 118,
   "id": "ce3bdc8c",
   "metadata": {},
   "outputs": [
    {
     "data": {
      "text/plain": [
       "True"
      ]
     },
     "execution_count": 118,
     "metadata": {},
     "output_type": "execute_result"
    }
   ],
   "source": [
    "\"apple\" in Fruits.values()"
   ]
  },
  {
   "cell_type": "markdown",
   "id": "26b3d0da",
   "metadata": {},
   "source": [
    "# Range\n",
    "- Used to generate a sequence of numbers\n",
    "- Start (Included), Stop (Excluded), Step Count"
   ]
  },
  {
   "cell_type": "code",
   "execution_count": 119,
   "id": "aaf59d59",
   "metadata": {},
   "outputs": [],
   "source": [
    "r= range (0,11)"
   ]
  },
  {
   "cell_type": "code",
   "execution_count": 120,
   "id": "095ff58a",
   "metadata": {},
   "outputs": [
    {
     "data": {
      "text/plain": [
       "range(0, 11)"
      ]
     },
     "execution_count": 120,
     "metadata": {},
     "output_type": "execute_result"
    }
   ],
   "source": [
    "r"
   ]
  },
  {
   "cell_type": "code",
   "execution_count": 121,
   "id": "28a1a1d4",
   "metadata": {},
   "outputs": [
    {
     "data": {
      "text/plain": [
       "range"
      ]
     },
     "execution_count": 121,
     "metadata": {},
     "output_type": "execute_result"
    }
   ],
   "source": [
    "type (r)"
   ]
  },
  {
   "cell_type": "code",
   "execution_count": 122,
   "id": "b22cdd01",
   "metadata": {},
   "outputs": [
    {
     "data": {
      "text/plain": [
       "[0, 1, 2, 3, 4, 5, 6, 7, 8, 9, 10]"
      ]
     },
     "execution_count": 122,
     "metadata": {},
     "output_type": "execute_result"
    }
   ],
   "source": [
    "list(r)"
   ]
  },
  {
   "cell_type": "code",
   "execution_count": 123,
   "id": "2c76de27",
   "metadata": {},
   "outputs": [],
   "source": [
    "X= tuple(r)"
   ]
  },
  {
   "cell_type": "code",
   "execution_count": 124,
   "id": "bba0d41d",
   "metadata": {},
   "outputs": [
    {
     "data": {
      "text/plain": [
       "(0, 1, 2, 3, 4, 5, 6, 7, 8, 9, 10)"
      ]
     },
     "execution_count": 124,
     "metadata": {},
     "output_type": "execute_result"
    }
   ],
   "source": [
    "X"
   ]
  },
  {
   "cell_type": "code",
   "execution_count": 125,
   "id": "5557efbd",
   "metadata": {},
   "outputs": [
    {
     "data": {
      "text/plain": [
       "tuple"
      ]
     },
     "execution_count": 125,
     "metadata": {},
     "output_type": "execute_result"
    }
   ],
   "source": [
    "type(X)"
   ]
  },
  {
   "cell_type": "code",
   "execution_count": 127,
   "id": "ec9cc53d",
   "metadata": {},
   "outputs": [],
   "source": [
    "r1 =list (range(15))"
   ]
  },
  {
   "cell_type": "code",
   "execution_count": 128,
   "id": "38ba1c3a",
   "metadata": {},
   "outputs": [
    {
     "data": {
      "text/plain": [
       "[0, 1, 2, 3, 4, 5, 6, 7, 8, 9, 10, 11, 12, 13, 14]"
      ]
     },
     "execution_count": 128,
     "metadata": {},
     "output_type": "execute_result"
    }
   ],
   "source": [
    "r1"
   ]
  },
  {
   "cell_type": "code",
   "execution_count": 129,
   "id": "8b10737c",
   "metadata": {},
   "outputs": [],
   "source": [
    "r2= list(range(5,20))"
   ]
  },
  {
   "cell_type": "code",
   "execution_count": 130,
   "id": "24e6b2c3",
   "metadata": {},
   "outputs": [
    {
     "data": {
      "text/plain": [
       "[5, 6, 7, 8, 9, 10, 11, 12, 13, 14, 15, 16, 17, 18, 19]"
      ]
     },
     "execution_count": 130,
     "metadata": {},
     "output_type": "execute_result"
    }
   ],
   "source": [
    "r2"
   ]
  },
  {
   "cell_type": "code",
   "execution_count": 131,
   "id": "6c40c199",
   "metadata": {},
   "outputs": [],
   "source": [
    "r2=list(range(5,21,5))"
   ]
  },
  {
   "cell_type": "code",
   "execution_count": 132,
   "id": "c2ace0d7",
   "metadata": {},
   "outputs": [
    {
     "data": {
      "text/plain": [
       "[5, 10, 15, 20]"
      ]
     },
     "execution_count": 132,
     "metadata": {},
     "output_type": "execute_result"
    }
   ],
   "source": [
    "r2"
   ]
  },
  {
   "cell_type": "markdown",
   "id": "6c4b1bb7",
   "metadata": {},
   "source": [
    "# Sets\n",
    "- Unique collection of Immutable Items/Objects\n",
    "- Syntax : {}"
   ]
  },
  {
   "cell_type": "code",
   "execution_count": 133,
   "id": "a71d4f6b",
   "metadata": {},
   "outputs": [],
   "source": [
    "a= {\"sun\", \"mon\",\"tue\"}"
   ]
  },
  {
   "cell_type": "code",
   "execution_count": 134,
   "id": "0d3a0ddf",
   "metadata": {},
   "outputs": [
    {
     "data": {
      "text/plain": [
       "{'mon', 'sun', 'tue'}"
      ]
     },
     "execution_count": 134,
     "metadata": {},
     "output_type": "execute_result"
    }
   ],
   "source": [
    "a"
   ]
  },
  {
   "cell_type": "code",
   "execution_count": 135,
   "id": "ee55501b",
   "metadata": {},
   "outputs": [
    {
     "data": {
      "text/plain": [
       "set"
      ]
     },
     "execution_count": 135,
     "metadata": {},
     "output_type": "execute_result"
    }
   ],
   "source": [
    "type(a)"
   ]
  },
  {
   "cell_type": "code",
   "execution_count": 136,
   "id": "b4e3c268",
   "metadata": {},
   "outputs": [],
   "source": [
    "a={\"sun\",\"mon\",\"tue\",\"sun\"}"
   ]
  },
  {
   "cell_type": "code",
   "execution_count": 137,
   "id": "f3f05d91",
   "metadata": {},
   "outputs": [
    {
     "data": {
      "text/plain": [
       "{'mon', 'sun', 'tue'}"
      ]
     },
     "execution_count": 137,
     "metadata": {},
     "output_type": "execute_result"
    }
   ],
   "source": [
    "a"
   ]
  },
  {
   "cell_type": "code",
   "execution_count": 138,
   "id": "ad1b8259",
   "metadata": {},
   "outputs": [],
   "source": [
    "a.add(\"wed\")"
   ]
  },
  {
   "cell_type": "code",
   "execution_count": 139,
   "id": "f203fcd1",
   "metadata": {},
   "outputs": [
    {
     "data": {
      "text/plain": [
       "{'mon', 'sun', 'tue', 'wed'}"
      ]
     },
     "execution_count": 139,
     "metadata": {},
     "output_type": "execute_result"
    }
   ],
   "source": [
    "a"
   ]
  },
  {
   "cell_type": "code",
   "execution_count": 140,
   "id": "439ee8b0",
   "metadata": {},
   "outputs": [],
   "source": [
    "b={'thu','fri','sat'}"
   ]
  },
  {
   "cell_type": "code",
   "execution_count": 141,
   "id": "9c594bc3",
   "metadata": {},
   "outputs": [
    {
     "data": {
      "text/plain": [
       "{'fri', 'mon', 'sat', 'sun', 'thu', 'tue', 'wed'}"
      ]
     },
     "execution_count": 141,
     "metadata": {},
     "output_type": "execute_result"
    }
   ],
   "source": [
    "a.union(b)"
   ]
  },
  {
   "cell_type": "code",
   "execution_count": 142,
   "id": "a7b40f90",
   "metadata": {},
   "outputs": [
    {
     "data": {
      "text/plain": [
       "{'mon', 'sun', 'tue', 'wed'}"
      ]
     },
     "execution_count": 142,
     "metadata": {},
     "output_type": "execute_result"
    }
   ],
   "source": [
    "a"
   ]
  },
  {
   "cell_type": "code",
   "execution_count": 143,
   "id": "30328d19",
   "metadata": {},
   "outputs": [],
   "source": [
    "b.add ('sun')"
   ]
  },
  {
   "cell_type": "code",
   "execution_count": 144,
   "id": "48061c85",
   "metadata": {},
   "outputs": [
    {
     "data": {
      "text/plain": [
       "{'fri', 'sat', 'sun', 'thu'}"
      ]
     },
     "execution_count": 144,
     "metadata": {},
     "output_type": "execute_result"
    }
   ],
   "source": [
    "b"
   ]
  },
  {
   "cell_type": "code",
   "execution_count": 145,
   "id": "a5257406",
   "metadata": {},
   "outputs": [
    {
     "data": {
      "text/plain": [
       "{'sun'}"
      ]
     },
     "execution_count": 145,
     "metadata": {},
     "output_type": "execute_result"
    }
   ],
   "source": [
    "a&b"
   ]
  },
  {
   "cell_type": "code",
   "execution_count": 146,
   "id": "28561be6",
   "metadata": {},
   "outputs": [],
   "source": [
    "## Exercise\n",
    "# Generate odd sequences using range function \n",
    "# all odd numbers between (1,100)"
   ]
  },
  {
   "cell_type": "code",
   "execution_count": 147,
   "id": "8e7ea669",
   "metadata": {},
   "outputs": [],
   "source": [
    "r1= list(range (1,100,2))"
   ]
  },
  {
   "cell_type": "code",
   "execution_count": 148,
   "id": "0b47aaf9",
   "metadata": {},
   "outputs": [
    {
     "data": {
      "text/plain": [
       "[1,\n",
       " 3,\n",
       " 5,\n",
       " 7,\n",
       " 9,\n",
       " 11,\n",
       " 13,\n",
       " 15,\n",
       " 17,\n",
       " 19,\n",
       " 21,\n",
       " 23,\n",
       " 25,\n",
       " 27,\n",
       " 29,\n",
       " 31,\n",
       " 33,\n",
       " 35,\n",
       " 37,\n",
       " 39,\n",
       " 41,\n",
       " 43,\n",
       " 45,\n",
       " 47,\n",
       " 49,\n",
       " 51,\n",
       " 53,\n",
       " 55,\n",
       " 57,\n",
       " 59,\n",
       " 61,\n",
       " 63,\n",
       " 65,\n",
       " 67,\n",
       " 69,\n",
       " 71,\n",
       " 73,\n",
       " 75,\n",
       " 77,\n",
       " 79,\n",
       " 81,\n",
       " 83,\n",
       " 85,\n",
       " 87,\n",
       " 89,\n",
       " 91,\n",
       " 93,\n",
       " 95,\n",
       " 97,\n",
       " 99]"
      ]
     },
     "execution_count": 148,
     "metadata": {},
     "output_type": "execute_result"
    }
   ],
   "source": [
    "r1"
   ]
  },
  {
   "cell_type": "code",
   "execution_count": null,
   "id": "a5242636",
   "metadata": {},
   "outputs": [],
   "source": []
  }
 ],
 "metadata": {
  "kernelspec": {
   "display_name": "Python 3 (ipykernel)",
   "language": "python",
   "name": "python3"
  },
  "language_info": {
   "codemirror_mode": {
    "name": "ipython",
    "version": 3
   },
   "file_extension": ".py",
   "mimetype": "text/x-python",
   "name": "python",
   "nbconvert_exporter": "python",
   "pygments_lexer": "ipython3",
   "version": "3.9.13"
  }
 },
 "nbformat": 4,
 "nbformat_minor": 5
}
